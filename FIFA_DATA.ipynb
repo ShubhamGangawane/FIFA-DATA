{
 "cells": [
  {
   "cell_type": "markdown",
   "metadata": {
    "id": "oJKIWUmaTT8-"
   },
   "source": [
    "## **Points**"
   ]
  },
  {
   "cell_type": "markdown",
   "metadata": {
    "id": "XTtFeiD3UrrP"
   },
   "source": [
    "- <a href=\"#Filtering-the-data\">Filtering the data</a> <br>\n",
    "- <a href=\"#Data-Cleaning\">Data Cleaning</a>\n",
    "1. <a href=\"#1.-List-all-Indian-Footballers\">List all Indian Footballers</a>\n",
    "2. <a href=\"#2.-Top-Indian-Football-Player\">Top Indian Football Player</a>\n",
    "3. <a href=\"#3.-Analysing-Club-Data-Manchester-United\">Analysing Club Data(Manchester United)</a>\n",
    "4. <a href=\"#4.-Top-10-Players-whos-Ratings-are-Higher-in-Strength\">Top 10 Players whos Ratings are Higher in Strength</a>\n",
    "5. <a href=\"#5.-Most-Preferred-Foot-of-Players\">Most Preferred Foot of Players</a>\n",
    "6. <a href=\"#6.-Comparison-of-Position-and-Overall-Scores\">Comparison of Position and Overall Scores</a>\n",
    "7. <a href=\"#7.-Distribution-of-Wages-per-player\">Distribution of Wages per player</a>\n",
    "8. <a href=\"#8.-Skill-Moves-of-Players\">Skill Moves of Players</a>\n",
    "9. <a href=\"#9.-Top-10-Players-with-5.0-Skill-Moves\">Top 10 Players with 5.0 Skill Moves</a>\n",
    "10. <a href=\"#10.-List-which-age-group-has-the-most-active-professional-players\">List which age group has the most active professional players</a>\n",
    "11. <a href=\"#11.-List-top-10-nations-with-most-active-professional-players \">List top 10 nations with most active professional players </a>\n",
    "12. <a href=\"#12.-Average-Height-of-Players\">Average Height of Players</a>\n",
    "13. <a href=\"#13.-Work-Rates-of-players\">Work-Rates of players</a>\n",
    "14. <a href=\"#14.-Comparison-of-Overall-scores-of-players\">Comparison of  Overall scores of players</a>\n",
    "15. <a href=\"#15.-Which-Nation-has-the-most-Active-Professional-players\">Which Nation has the most Active Professional players</a>\n",
    "16. <a href=\"#16.-Which-Age-of-Players-have-most-number-of-professional-Players\">Which Age of Players have most number of professional Players</a>\n",
    "17. <a href=\"#17.-Which-Age-group-has-got-better-Overall-Scores\">Which Age group has got better Overall Scores</a>\n",
    "18. <a href=\"#18.-Best-Player-per-each-position-with-their-Age-Name-Club-and-Nationality-based-on-Overall-Score\">Best Player per each position with their Age ,Name, Club, and Nationality based on Overall Score</a>\n",
    "19. <a href=\"#19.-Best-Player-per-each-position-with-their-Age-Name-Club-and-Nationality-based-on-SprintSpeed\">Best-Player-per-each-position-with-their-Age-Name-Club-and-Nationality-based-on-SprintSpeed</a>\n",
    "20. <a href=\"#20.-Every-Nation-With-their-Strength-Comparison\">Every Nation With their Strength Comparison</a>\n",
    "21. <a href=\"#21.-Which-Preferred-Foot-has-the-maximum-ShotPower-for-Penalties\">Which Preferred Foot has the maximum ShotPower for Penalties</a>\n",
    "22. <a href=\"#22.-Distribution-of-Penalties-Scores-of-players-from-different-countries\">Distribution of Penalties Scores of players from different countries</a>\n",
    "23. <a href=\"#23.-Top-20-Most-Aggresive-Players\">Top 20 Most Aggresive Players</a>\n",
    "24. <a href=\"#24.-Top-European-Clubs-with-high-Wages\">Top European Clubs with high Wages</a>\n",
    "25. <a href=\"#25.-Comparison-of-Top-Clubs-With-Their-Work-Rate\">Comparison of Top Clubs With Their Work Rate</a>\n",
    "26. <a href=\"#26.-Distribution-of-Potential-in-different-Popular-Clubs\">Distribution of Potential in different Popular Clubs</a>\n",
    "27. <a href=\"#27.-15-youngest-Players-from-the-data\">15 youngest Players from the data</a>\n",
    "28. <a href=\"#28.-15-Eldest-Players-from-the-data\">15 Eldest Players from the data</a>\n",
    "29. <a href=\"#29.-Top-10-Left-Footed-Players-and-Right-Footed-Players\">Top 10 Left Footed Players and Right Footed Players</a><br>\n",
    "<a href=\"#Creating-Function-to-check-the-players-Details\">Creating Function to check the players Details</a>"
   ]
  },
  {
   "cell_type": "code",
   "execution_count": null,
   "metadata": {},
   "outputs": [],
   "source": [
    "Importing Essential Librarie"
   ]
  },
  {
   "cell_type": "code",
   "execution_count": 1,
   "metadata": {
    "id": "brx2x9rfjaQy"
   },
   "outputs": [],
   "source": [
    "import numpy as np\n",
    "import pandas as pd\n",
    "import matplotlib.pyplot as plt\n",
    "%matplotlib inline\n",
    "import seaborn as sns\n",
    "import re\n",
    "import warnings\n",
    "warnings.filterwarnings(\"ignore\")"
   ]
  },
  {
   "cell_type": "code",
   "execution_count": 2,
   "metadata": {
    "colab": {
     "base_uri": "https://localhost:8080/"
    },
    "id": "Yym5sH6kjyWs",
    "outputId": "34db83ca-d8ce-413c-bd24-95ded9cab91f"
   },
   "outputs": [
    {
     "name": "stdout",
     "output_type": "stream",
     "text": [
      "Wall time: 912 ms\n",
      "(18207, 89)\n"
     ]
    }
   ],
   "source": [
    "# Reading the data and also checking the computation time\n",
    "%time fifa = pd.read_csv(\"C:\\\\Users\\\\Anjali\\\\Documents\\\\Jupter\\\\Datasets\\\\fifa_data.csv\")\n",
    "print(fifa.shape)"
   ]
  },
  {
   "cell_type": "code",
   "execution_count": 3,
   "metadata": {
    "colab": {
     "base_uri": "https://localhost:8080/",
     "height": 386
    },
    "id": "9UcYaPdrj0-c",
    "outputId": "2e68c3bb-0811-4fca-e1e3-9e1efa44c6f3"
   },
   "outputs": [
    {
     "data": {
      "text/html": [
       "<div>\n",
       "<style scoped>\n",
       "    .dataframe tbody tr th:only-of-type {\n",
       "        vertical-align: middle;\n",
       "    }\n",
       "\n",
       "    .dataframe tbody tr th {\n",
       "        vertical-align: top;\n",
       "    }\n",
       "\n",
       "    .dataframe thead th {\n",
       "        text-align: right;\n",
       "    }\n",
       "</style>\n",
       "<table border=\"1\" class=\"dataframe\">\n",
       "  <thead>\n",
       "    <tr style=\"text-align: right;\">\n",
       "      <th></th>\n",
       "      <th>Unnamed: 0</th>\n",
       "      <th>ID</th>\n",
       "      <th>Name</th>\n",
       "      <th>Age</th>\n",
       "      <th>Photo</th>\n",
       "      <th>Nationality</th>\n",
       "      <th>Flag</th>\n",
       "      <th>Overall</th>\n",
       "      <th>Potential</th>\n",
       "      <th>Club</th>\n",
       "      <th>...</th>\n",
       "      <th>Composure</th>\n",
       "      <th>Marking</th>\n",
       "      <th>StandingTackle</th>\n",
       "      <th>SlidingTackle</th>\n",
       "      <th>GKDiving</th>\n",
       "      <th>GKHandling</th>\n",
       "      <th>GKKicking</th>\n",
       "      <th>GKPositioning</th>\n",
       "      <th>GKReflexes</th>\n",
       "      <th>Release Clause</th>\n",
       "    </tr>\n",
       "  </thead>\n",
       "  <tbody>\n",
       "    <tr>\n",
       "      <th>0</th>\n",
       "      <td>0</td>\n",
       "      <td>158023</td>\n",
       "      <td>L. Messi</td>\n",
       "      <td>31</td>\n",
       "      <td>https://cdn.sofifa.org/players/4/19/158023.png</td>\n",
       "      <td>Argentina</td>\n",
       "      <td>https://cdn.sofifa.org/flags/52.png</td>\n",
       "      <td>94</td>\n",
       "      <td>94</td>\n",
       "      <td>FC Barcelona</td>\n",
       "      <td>...</td>\n",
       "      <td>96.0</td>\n",
       "      <td>33.0</td>\n",
       "      <td>28.0</td>\n",
       "      <td>26.0</td>\n",
       "      <td>6.0</td>\n",
       "      <td>11.0</td>\n",
       "      <td>15.0</td>\n",
       "      <td>14.0</td>\n",
       "      <td>8.0</td>\n",
       "      <td>€226.5M</td>\n",
       "    </tr>\n",
       "    <tr>\n",
       "      <th>1</th>\n",
       "      <td>1</td>\n",
       "      <td>20801</td>\n",
       "      <td>Cristiano Ronaldo</td>\n",
       "      <td>33</td>\n",
       "      <td>https://cdn.sofifa.org/players/4/19/20801.png</td>\n",
       "      <td>Portugal</td>\n",
       "      <td>https://cdn.sofifa.org/flags/38.png</td>\n",
       "      <td>94</td>\n",
       "      <td>94</td>\n",
       "      <td>Juventus</td>\n",
       "      <td>...</td>\n",
       "      <td>95.0</td>\n",
       "      <td>28.0</td>\n",
       "      <td>31.0</td>\n",
       "      <td>23.0</td>\n",
       "      <td>7.0</td>\n",
       "      <td>11.0</td>\n",
       "      <td>15.0</td>\n",
       "      <td>14.0</td>\n",
       "      <td>11.0</td>\n",
       "      <td>€127.1M</td>\n",
       "    </tr>\n",
       "    <tr>\n",
       "      <th>2</th>\n",
       "      <td>2</td>\n",
       "      <td>190871</td>\n",
       "      <td>Neymar Jr</td>\n",
       "      <td>26</td>\n",
       "      <td>https://cdn.sofifa.org/players/4/19/190871.png</td>\n",
       "      <td>Brazil</td>\n",
       "      <td>https://cdn.sofifa.org/flags/54.png</td>\n",
       "      <td>92</td>\n",
       "      <td>93</td>\n",
       "      <td>Paris Saint-Germain</td>\n",
       "      <td>...</td>\n",
       "      <td>94.0</td>\n",
       "      <td>27.0</td>\n",
       "      <td>24.0</td>\n",
       "      <td>33.0</td>\n",
       "      <td>9.0</td>\n",
       "      <td>9.0</td>\n",
       "      <td>15.0</td>\n",
       "      <td>15.0</td>\n",
       "      <td>11.0</td>\n",
       "      <td>€228.1M</td>\n",
       "    </tr>\n",
       "    <tr>\n",
       "      <th>3</th>\n",
       "      <td>3</td>\n",
       "      <td>193080</td>\n",
       "      <td>De Gea</td>\n",
       "      <td>27</td>\n",
       "      <td>https://cdn.sofifa.org/players/4/19/193080.png</td>\n",
       "      <td>Spain</td>\n",
       "      <td>https://cdn.sofifa.org/flags/45.png</td>\n",
       "      <td>91</td>\n",
       "      <td>93</td>\n",
       "      <td>Manchester United</td>\n",
       "      <td>...</td>\n",
       "      <td>68.0</td>\n",
       "      <td>15.0</td>\n",
       "      <td>21.0</td>\n",
       "      <td>13.0</td>\n",
       "      <td>90.0</td>\n",
       "      <td>85.0</td>\n",
       "      <td>87.0</td>\n",
       "      <td>88.0</td>\n",
       "      <td>94.0</td>\n",
       "      <td>€138.6M</td>\n",
       "    </tr>\n",
       "    <tr>\n",
       "      <th>4</th>\n",
       "      <td>4</td>\n",
       "      <td>192985</td>\n",
       "      <td>K. De Bruyne</td>\n",
       "      <td>27</td>\n",
       "      <td>https://cdn.sofifa.org/players/4/19/192985.png</td>\n",
       "      <td>Belgium</td>\n",
       "      <td>https://cdn.sofifa.org/flags/7.png</td>\n",
       "      <td>91</td>\n",
       "      <td>92</td>\n",
       "      <td>Manchester City</td>\n",
       "      <td>...</td>\n",
       "      <td>88.0</td>\n",
       "      <td>68.0</td>\n",
       "      <td>58.0</td>\n",
       "      <td>51.0</td>\n",
       "      <td>15.0</td>\n",
       "      <td>13.0</td>\n",
       "      <td>5.0</td>\n",
       "      <td>10.0</td>\n",
       "      <td>13.0</td>\n",
       "      <td>€196.4M</td>\n",
       "    </tr>\n",
       "  </tbody>\n",
       "</table>\n",
       "<p>5 rows × 89 columns</p>\n",
       "</div>"
      ],
      "text/plain": [
       "   Unnamed: 0      ID               Name  Age  \\\n",
       "0           0  158023           L. Messi   31   \n",
       "1           1   20801  Cristiano Ronaldo   33   \n",
       "2           2  190871          Neymar Jr   26   \n",
       "3           3  193080             De Gea   27   \n",
       "4           4  192985       K. De Bruyne   27   \n",
       "\n",
       "                                            Photo Nationality  \\\n",
       "0  https://cdn.sofifa.org/players/4/19/158023.png   Argentina   \n",
       "1   https://cdn.sofifa.org/players/4/19/20801.png    Portugal   \n",
       "2  https://cdn.sofifa.org/players/4/19/190871.png      Brazil   \n",
       "3  https://cdn.sofifa.org/players/4/19/193080.png       Spain   \n",
       "4  https://cdn.sofifa.org/players/4/19/192985.png     Belgium   \n",
       "\n",
       "                                  Flag  Overall  Potential  \\\n",
       "0  https://cdn.sofifa.org/flags/52.png       94         94   \n",
       "1  https://cdn.sofifa.org/flags/38.png       94         94   \n",
       "2  https://cdn.sofifa.org/flags/54.png       92         93   \n",
       "3  https://cdn.sofifa.org/flags/45.png       91         93   \n",
       "4   https://cdn.sofifa.org/flags/7.png       91         92   \n",
       "\n",
       "                  Club  ... Composure Marking StandingTackle  SlidingTackle  \\\n",
       "0         FC Barcelona  ...      96.0    33.0           28.0           26.0   \n",
       "1             Juventus  ...      95.0    28.0           31.0           23.0   \n",
       "2  Paris Saint-Germain  ...      94.0    27.0           24.0           33.0   \n",
       "3    Manchester United  ...      68.0    15.0           21.0           13.0   \n",
       "4      Manchester City  ...      88.0    68.0           58.0           51.0   \n",
       "\n",
       "  GKDiving  GKHandling  GKKicking  GKPositioning GKReflexes Release Clause  \n",
       "0      6.0        11.0       15.0           14.0        8.0        €226.5M  \n",
       "1      7.0        11.0       15.0           14.0       11.0        €127.1M  \n",
       "2      9.0         9.0       15.0           15.0       11.0        €228.1M  \n",
       "3     90.0        85.0       87.0           88.0       94.0        €138.6M  \n",
       "4     15.0        13.0        5.0           10.0       13.0        €196.4M  \n",
       "\n",
       "[5 rows x 89 columns]"
      ]
     },
     "execution_count": 3,
     "metadata": {},
     "output_type": "execute_result"
    }
   ],
   "source": [
    "# Checking first 5 rows\n",
    "fifa.head()"
   ]
  },
  {
   "cell_type": "code",
   "execution_count": 4,
   "metadata": {
    "colab": {
     "base_uri": "https://localhost:8080/"
    },
    "id": "B1-Gfey_lHyb",
    "outputId": "83f4c428-7501-49a7-d480-74902baf7792"
   },
   "outputs": [
    {
     "name": "stdout",
     "output_type": "stream",
     "text": [
      "<class 'pandas.core.frame.DataFrame'>\n",
      "RangeIndex: 18207 entries, 0 to 18206\n",
      "Data columns (total 89 columns):\n",
      " #   Column                    Non-Null Count  Dtype  \n",
      "---  ------                    --------------  -----  \n",
      " 0   Unnamed: 0                18207 non-null  int64  \n",
      " 1   ID                        18207 non-null  int64  \n",
      " 2   Name                      18207 non-null  object \n",
      " 3   Age                       18207 non-null  int64  \n",
      " 4   Photo                     18207 non-null  object \n",
      " 5   Nationality               18207 non-null  object \n",
      " 6   Flag                      18207 non-null  object \n",
      " 7   Overall                   18207 non-null  int64  \n",
      " 8   Potential                 18207 non-null  int64  \n",
      " 9   Club                      17966 non-null  object \n",
      " 10  Club Logo                 18207 non-null  object \n",
      " 11  Value                     18207 non-null  object \n",
      " 12  Wage                      18207 non-null  object \n",
      " 13  Special                   18207 non-null  int64  \n",
      " 14  Preferred Foot            18159 non-null  object \n",
      " 15  International Reputation  18159 non-null  float64\n",
      " 16  Weak Foot                 18159 non-null  float64\n",
      " 17  Skill Moves               18159 non-null  float64\n",
      " 18  Work Rate                 18159 non-null  object \n",
      " 19  Body Type                 18159 non-null  object \n",
      " 20  Real Face                 18159 non-null  object \n",
      " 21  Position                  18147 non-null  object \n",
      " 22  Jersey Number             18147 non-null  float64\n",
      " 23  Joined                    16654 non-null  object \n",
      " 24  Loaned From               1264 non-null   object \n",
      " 25  Contract Valid Until      17918 non-null  object \n",
      " 26  Height                    18159 non-null  object \n",
      " 27  Weight                    18159 non-null  object \n",
      " 28  LS                        16122 non-null  object \n",
      " 29  ST                        16122 non-null  object \n",
      " 30  RS                        16122 non-null  object \n",
      " 31  LW                        16122 non-null  object \n",
      " 32  LF                        16122 non-null  object \n",
      " 33  CF                        16122 non-null  object \n",
      " 34  RF                        16122 non-null  object \n",
      " 35  RW                        16122 non-null  object \n",
      " 36  LAM                       16122 non-null  object \n",
      " 37  CAM                       16122 non-null  object \n",
      " 38  RAM                       16122 non-null  object \n",
      " 39  LM                        16122 non-null  object \n",
      " 40  LCM                       16122 non-null  object \n",
      " 41  CM                        16122 non-null  object \n",
      " 42  RCM                       16122 non-null  object \n",
      " 43  RM                        16122 non-null  object \n",
      " 44  LWB                       16122 non-null  object \n",
      " 45  LDM                       16122 non-null  object \n",
      " 46  CDM                       16122 non-null  object \n",
      " 47  RDM                       16122 non-null  object \n",
      " 48  RWB                       16122 non-null  object \n",
      " 49  LB                        16122 non-null  object \n",
      " 50  LCB                       16122 non-null  object \n",
      " 51  CB                        16122 non-null  object \n",
      " 52  RCB                       16122 non-null  object \n",
      " 53  RB                        16122 non-null  object \n",
      " 54  Crossing                  18159 non-null  float64\n",
      " 55  Finishing                 18159 non-null  float64\n",
      " 56  HeadingAccuracy           18159 non-null  float64\n",
      " 57  ShortPassing              18159 non-null  float64\n",
      " 58  Volleys                   18159 non-null  float64\n",
      " 59  Dribbling                 18159 non-null  float64\n",
      " 60  Curve                     18159 non-null  float64\n",
      " 61  FKAccuracy                18159 non-null  float64\n",
      " 62  LongPassing               18159 non-null  float64\n",
      " 63  BallControl               18159 non-null  float64\n",
      " 64  Acceleration              18159 non-null  float64\n",
      " 65  SprintSpeed               18159 non-null  float64\n",
      " 66  Agility                   18159 non-null  float64\n",
      " 67  Reactions                 18159 non-null  float64\n",
      " 68  Balance                   18159 non-null  float64\n",
      " 69  ShotPower                 18159 non-null  float64\n",
      " 70  Jumping                   18159 non-null  float64\n",
      " 71  Stamina                   18159 non-null  float64\n",
      " 72  Strength                  18159 non-null  float64\n",
      " 73  LongShots                 18159 non-null  float64\n",
      " 74  Aggression                18159 non-null  float64\n",
      " 75  Interceptions             18159 non-null  float64\n",
      " 76  Positioning               18159 non-null  float64\n",
      " 77  Vision                    18159 non-null  float64\n",
      " 78  Penalties                 18159 non-null  float64\n",
      " 79  Composure                 18159 non-null  float64\n",
      " 80  Marking                   18159 non-null  float64\n",
      " 81  StandingTackle            18159 non-null  float64\n",
      " 82  SlidingTackle             18159 non-null  float64\n",
      " 83  GKDiving                  18159 non-null  float64\n",
      " 84  GKHandling                18159 non-null  float64\n",
      " 85  GKKicking                 18159 non-null  float64\n",
      " 86  GKPositioning             18159 non-null  float64\n",
      " 87  GKReflexes                18159 non-null  float64\n",
      " 88  Release Clause            16643 non-null  object \n",
      "dtypes: float64(38), int64(6), object(45)\n",
      "memory usage: 12.4+ MB\n"
     ]
    }
   ],
   "source": [
    "fifa.info()"
   ]
  },
  {
   "cell_type": "markdown",
   "metadata": {
    "id": "r8EkBud1lPEY"
   },
   "source": [
    "#### Filtering the data"
   ]
  },
  {
   "cell_type": "code",
   "execution_count": 5,
   "metadata": {
    "id": "2Xz9Taz-lLnn"
   },
   "outputs": [],
   "source": [
    "# Drop the unwanted column\n",
    "fifa.drop(\"Unnamed: 0\",axis=\"columns\",inplace=True)"
   ]
  },
  {
   "cell_type": "code",
   "execution_count": 6,
   "metadata": {
    "id": "EbvrMkYclVe3"
   },
   "outputs": [],
   "source": [
    "# Start index from index 1 \n",
    "fifa.index  += 1"
   ]
  },
  {
   "cell_type": "code",
   "execution_count": 7,
   "metadata": {
    "colab": {
     "base_uri": "https://localhost:8080/",
     "height": 226
    },
    "id": "gNLKBqNnlXSc",
    "outputId": "5647bf83-6ae1-4ec8-ab10-3e55a515bf13"
   },
   "outputs": [
    {
     "data": {
      "text/html": [
       "<div>\n",
       "<style scoped>\n",
       "    .dataframe tbody tr th:only-of-type {\n",
       "        vertical-align: middle;\n",
       "    }\n",
       "\n",
       "    .dataframe tbody tr th {\n",
       "        vertical-align: top;\n",
       "    }\n",
       "\n",
       "    .dataframe thead th {\n",
       "        text-align: right;\n",
       "    }\n",
       "</style>\n",
       "<table border=\"1\" class=\"dataframe\">\n",
       "  <thead>\n",
       "    <tr style=\"text-align: right;\">\n",
       "      <th></th>\n",
       "      <th>ID</th>\n",
       "      <th>Name</th>\n",
       "      <th>Age</th>\n",
       "      <th>Photo</th>\n",
       "      <th>Nationality</th>\n",
       "      <th>Flag</th>\n",
       "      <th>Overall</th>\n",
       "      <th>Potential</th>\n",
       "      <th>Club</th>\n",
       "      <th>Club Logo</th>\n",
       "      <th>...</th>\n",
       "      <th>Composure</th>\n",
       "      <th>Marking</th>\n",
       "      <th>StandingTackle</th>\n",
       "      <th>SlidingTackle</th>\n",
       "      <th>GKDiving</th>\n",
       "      <th>GKHandling</th>\n",
       "      <th>GKKicking</th>\n",
       "      <th>GKPositioning</th>\n",
       "      <th>GKReflexes</th>\n",
       "      <th>Release Clause</th>\n",
       "    </tr>\n",
       "  </thead>\n",
       "  <tbody>\n",
       "    <tr>\n",
       "      <th>1</th>\n",
       "      <td>158023</td>\n",
       "      <td>L. Messi</td>\n",
       "      <td>31</td>\n",
       "      <td>https://cdn.sofifa.org/players/4/19/158023.png</td>\n",
       "      <td>Argentina</td>\n",
       "      <td>https://cdn.sofifa.org/flags/52.png</td>\n",
       "      <td>94</td>\n",
       "      <td>94</td>\n",
       "      <td>FC Barcelona</td>\n",
       "      <td>https://cdn.sofifa.org/teams/2/light/241.png</td>\n",
       "      <td>...</td>\n",
       "      <td>96.0</td>\n",
       "      <td>33.0</td>\n",
       "      <td>28.0</td>\n",
       "      <td>26.0</td>\n",
       "      <td>6.0</td>\n",
       "      <td>11.0</td>\n",
       "      <td>15.0</td>\n",
       "      <td>14.0</td>\n",
       "      <td>8.0</td>\n",
       "      <td>€226.5M</td>\n",
       "    </tr>\n",
       "    <tr>\n",
       "      <th>2</th>\n",
       "      <td>20801</td>\n",
       "      <td>Cristiano Ronaldo</td>\n",
       "      <td>33</td>\n",
       "      <td>https://cdn.sofifa.org/players/4/19/20801.png</td>\n",
       "      <td>Portugal</td>\n",
       "      <td>https://cdn.sofifa.org/flags/38.png</td>\n",
       "      <td>94</td>\n",
       "      <td>94</td>\n",
       "      <td>Juventus</td>\n",
       "      <td>https://cdn.sofifa.org/teams/2/light/45.png</td>\n",
       "      <td>...</td>\n",
       "      <td>95.0</td>\n",
       "      <td>28.0</td>\n",
       "      <td>31.0</td>\n",
       "      <td>23.0</td>\n",
       "      <td>7.0</td>\n",
       "      <td>11.0</td>\n",
       "      <td>15.0</td>\n",
       "      <td>14.0</td>\n",
       "      <td>11.0</td>\n",
       "      <td>€127.1M</td>\n",
       "    </tr>\n",
       "  </tbody>\n",
       "</table>\n",
       "<p>2 rows × 88 columns</p>\n",
       "</div>"
      ],
      "text/plain": [
       "       ID               Name  Age  \\\n",
       "1  158023           L. Messi   31   \n",
       "2   20801  Cristiano Ronaldo   33   \n",
       "\n",
       "                                            Photo Nationality  \\\n",
       "1  https://cdn.sofifa.org/players/4/19/158023.png   Argentina   \n",
       "2   https://cdn.sofifa.org/players/4/19/20801.png    Portugal   \n",
       "\n",
       "                                  Flag  Overall  Potential          Club  \\\n",
       "1  https://cdn.sofifa.org/flags/52.png       94         94  FC Barcelona   \n",
       "2  https://cdn.sofifa.org/flags/38.png       94         94      Juventus   \n",
       "\n",
       "                                      Club Logo  ... Composure Marking  \\\n",
       "1  https://cdn.sofifa.org/teams/2/light/241.png  ...      96.0    33.0   \n",
       "2   https://cdn.sofifa.org/teams/2/light/45.png  ...      95.0    28.0   \n",
       "\n",
       "   StandingTackle SlidingTackle  GKDiving  GKHandling  GKKicking  \\\n",
       "1            28.0          26.0       6.0        11.0       15.0   \n",
       "2            31.0          23.0       7.0        11.0       15.0   \n",
       "\n",
       "  GKPositioning GKReflexes Release Clause  \n",
       "1          14.0        8.0        €226.5M  \n",
       "2          14.0       11.0        €127.1M  \n",
       "\n",
       "[2 rows x 88 columns]"
      ]
     },
     "execution_count": 7,
     "metadata": {},
     "output_type": "execute_result"
    }
   ],
   "source": [
    "fifa.head(2)"
   ]
  },
  {
   "cell_type": "markdown",
   "metadata": {
    "id": "jBpUaljtlalB"
   },
   "source": [
    "#### Data Cleaning"
   ]
  },
  {
   "cell_type": "code",
   "execution_count": 8,
   "metadata": {
    "colab": {
     "base_uri": "https://localhost:8080/"
    },
    "id": "piuKUkF5lb4X",
    "outputId": "d92b26e0-3b3d-40cf-b59d-52b2326bf233"
   },
   "outputs": [
    {
     "data": {
      "text/plain": [
       "ID                   0\n",
       "Name                 0\n",
       "Age                  0\n",
       "Photo                0\n",
       "Nationality          0\n",
       "                  ... \n",
       "GKHandling          48\n",
       "GKKicking           48\n",
       "GKPositioning       48\n",
       "GKReflexes          48\n",
       "Release Clause    1564\n",
       "Length: 88, dtype: int64"
      ]
     },
     "execution_count": 8,
     "metadata": {},
     "output_type": "execute_result"
    }
   ],
   "source": [
    "# Checking if the data contains any NULL Values\n",
    "fifa.isna().sum()"
   ]
  },
  {
   "cell_type": "code",
   "execution_count": 9,
   "metadata": {
    "colab": {
     "base_uri": "https://localhost:8080/"
    },
    "id": "gUG2uszmlhKm",
    "outputId": "6c8974a6-7444-4a85-d52b-1fee22bb830b"
   },
   "outputs": [
    {
     "data": {
      "text/plain": [
       "ID               0\n",
       "Name             0\n",
       "Age              0\n",
       "Photo            0\n",
       "Nationality      0\n",
       "Flag             0\n",
       "Overall          0\n",
       "Potential        0\n",
       "Club           241\n",
       "Club Logo        0\n",
       "dtype: int64"
      ]
     },
     "execution_count": 9,
     "metadata": {},
     "output_type": "execute_result"
    }
   ],
   "source": [
    "# Filling the NULL values for proper data visualization\n",
    "fifa.isna().sum().head(10)"
   ]
  },
  {
   "cell_type": "code",
   "execution_count": 10,
   "metadata": {
    "id": "iP6bX0PxljCf"
   },
   "outputs": [],
   "source": [
    "fifa[\"Club\"].fillna(\"No Club\",inplace=True)\n",
    "fifa[\"Joined\"].fillna(method=\"pad\",inplace=True)\n",
    "fifa[\"Loaned From\"].fillna(\"None\",inplace=True)\n",
    "fifa[\"Contract Valid Until\"].fillna(method=\"pad\",inplace=True)\n",
    "fifa[\"Height\"].fillna(\"5'11\",inplace=True)\n",
    "fifa[\"Weight\"].fillna(\"170lbs\",inplace=True)\n",
    "fifa[\"Preferred Foot\"].fillna(method=\"pad\",inplace=True)\n",
    "IR_mean = fifa[\"International Reputation\"].mean()\n",
    "fifa[\"International Reputation\"].fillna(IR_mean,inplace=True)\n",
    "WF_mean = fifa[\"Weak Foot\"].mean()\n",
    "fifa[\"Weak Foot\"].fillna(WF_mean,inplace=True)\n",
    "fifa[\"Body Type\"].fillna(\"Normal\",inplace=True)\n",
    "fifa[\"Real Face\"].fillna(\"Probably\",inplace=True)\n",
    "fifa[\"Position\"].fillna(\"RW\",inplace=True)\n",
    "fifa[\"Work Rate\"].fillna(\"Medium/ Medium\",inplace=True)\n",
    "fifa[\"CB\"].fillna(method=\"pad\",inplace=True)\n",
    "fifa[\"RCB\"].fillna(method=\"pad\",inplace=True)\n",
    "fifa[\"RB\"].fillna(method='pad',inplace=True)\n",
    "fifa[\"HeadingAccuracy\"].fillna(fifa[\"HeadingAccuracy\"].mean(),inplace=True)\n",
    "fifa[\"ShortPassing\"].fillna(fifa[\"ShortPassing\"].mean(),inplace=True)\n",
    "fifa[\"Volleys\"].fillna(fifa[\"Volleys\"].mean(),inplace=True)\n",
    "fifa[\"Dribbling\"].fillna(fifa[\"Dribbling\"].mean(),inplace=True)\n",
    "fifa[\"Curve\"].fillna(fifa[\"Curve\"].mean(),inplace=True)\n",
    "fifa[\"BallControl\"].fillna(fifa[\"BallControl\"].mean(),inplace=True)\n",
    "fifa[\"LongPassing\"].fillna(fifa[\"LongPassing\"].mean(),inplace=True)\n",
    "fifa[\"FKAccuracy\"].fillna(fifa[\"FKAccuracy\"].mean(),inplace=True)\n",
    "fifa[\"Acceleration\"].fillna(fifa[\"Acceleration\"].mean(),inplace=True)\n",
    "fifa[\"SprintSpeed\"].fillna(fifa[\"SprintSpeed\"].mean(),inplace=True)\n",
    "fifa[\"Agility\"].fillna(fifa[\"Agility\"].mean(),inplace=True)\n",
    "fifa[\"Reactions\"].fillna(fifa[\"Reactions\"].mean(),inplace=True)\n",
    "fifa[\"Balance\"].fillna(fifa[\"Balance\"].mean(),inplace=True)"
   ]
  },
  {
   "cell_type": "code",
   "execution_count": 11,
   "metadata": {
    "colab": {
     "base_uri": "https://localhost:8080/",
     "height": 332
    },
    "id": "zv0Q9rKiloth",
    "outputId": "e327118e-efbe-48ee-d9a2-2bb46c4a4167"
   },
   "outputs": [
    {
     "data": {
      "text/html": [
       "<div>\n",
       "<style scoped>\n",
       "    .dataframe tbody tr th:only-of-type {\n",
       "        vertical-align: middle;\n",
       "    }\n",
       "\n",
       "    .dataframe tbody tr th {\n",
       "        vertical-align: top;\n",
       "    }\n",
       "\n",
       "    .dataframe thead th {\n",
       "        text-align: right;\n",
       "    }\n",
       "</style>\n",
       "<table border=\"1\" class=\"dataframe\">\n",
       "  <thead>\n",
       "    <tr style=\"text-align: right;\">\n",
       "      <th></th>\n",
       "      <th>ID</th>\n",
       "      <th>Age</th>\n",
       "      <th>Overall</th>\n",
       "      <th>Potential</th>\n",
       "      <th>Special</th>\n",
       "      <th>International Reputation</th>\n",
       "      <th>Weak Foot</th>\n",
       "      <th>Skill Moves</th>\n",
       "      <th>Jersey Number</th>\n",
       "      <th>Crossing</th>\n",
       "      <th>...</th>\n",
       "      <th>Penalties</th>\n",
       "      <th>Composure</th>\n",
       "      <th>Marking</th>\n",
       "      <th>StandingTackle</th>\n",
       "      <th>SlidingTackle</th>\n",
       "      <th>GKDiving</th>\n",
       "      <th>GKHandling</th>\n",
       "      <th>GKKicking</th>\n",
       "      <th>GKPositioning</th>\n",
       "      <th>GKReflexes</th>\n",
       "    </tr>\n",
       "  </thead>\n",
       "  <tbody>\n",
       "    <tr>\n",
       "      <th>count</th>\n",
       "      <td>18207.000000</td>\n",
       "      <td>18207.000000</td>\n",
       "      <td>18207.000000</td>\n",
       "      <td>18207.000000</td>\n",
       "      <td>18207.000000</td>\n",
       "      <td>18207.000000</td>\n",
       "      <td>18207.000000</td>\n",
       "      <td>18159.000000</td>\n",
       "      <td>18147.000000</td>\n",
       "      <td>18159.000000</td>\n",
       "      <td>...</td>\n",
       "      <td>18159.000000</td>\n",
       "      <td>18159.000000</td>\n",
       "      <td>18159.000000</td>\n",
       "      <td>18159.000000</td>\n",
       "      <td>18159.000000</td>\n",
       "      <td>18159.000000</td>\n",
       "      <td>18159.000000</td>\n",
       "      <td>18159.000000</td>\n",
       "      <td>18159.000000</td>\n",
       "      <td>18159.000000</td>\n",
       "    </tr>\n",
       "    <tr>\n",
       "      <th>mean</th>\n",
       "      <td>214298.338606</td>\n",
       "      <td>25.122206</td>\n",
       "      <td>66.238699</td>\n",
       "      <td>71.307299</td>\n",
       "      <td>1597.809908</td>\n",
       "      <td>1.113222</td>\n",
       "      <td>2.947299</td>\n",
       "      <td>2.361308</td>\n",
       "      <td>19.546096</td>\n",
       "      <td>49.734181</td>\n",
       "      <td>...</td>\n",
       "      <td>48.548598</td>\n",
       "      <td>58.648274</td>\n",
       "      <td>47.281623</td>\n",
       "      <td>47.697836</td>\n",
       "      <td>45.661435</td>\n",
       "      <td>16.616223</td>\n",
       "      <td>16.391596</td>\n",
       "      <td>16.232061</td>\n",
       "      <td>16.388898</td>\n",
       "      <td>16.710887</td>\n",
       "    </tr>\n",
       "    <tr>\n",
       "      <th>std</th>\n",
       "      <td>29965.244204</td>\n",
       "      <td>4.669943</td>\n",
       "      <td>6.908930</td>\n",
       "      <td>6.136496</td>\n",
       "      <td>272.586016</td>\n",
       "      <td>0.393511</td>\n",
       "      <td>0.659585</td>\n",
       "      <td>0.756164</td>\n",
       "      <td>15.947765</td>\n",
       "      <td>18.364524</td>\n",
       "      <td>...</td>\n",
       "      <td>15.704053</td>\n",
       "      <td>11.436133</td>\n",
       "      <td>19.904397</td>\n",
       "      <td>21.664004</td>\n",
       "      <td>21.289135</td>\n",
       "      <td>17.695349</td>\n",
       "      <td>16.906900</td>\n",
       "      <td>16.502864</td>\n",
       "      <td>17.034669</td>\n",
       "      <td>17.955119</td>\n",
       "    </tr>\n",
       "    <tr>\n",
       "      <th>min</th>\n",
       "      <td>16.000000</td>\n",
       "      <td>16.000000</td>\n",
       "      <td>46.000000</td>\n",
       "      <td>48.000000</td>\n",
       "      <td>731.000000</td>\n",
       "      <td>1.000000</td>\n",
       "      <td>1.000000</td>\n",
       "      <td>1.000000</td>\n",
       "      <td>1.000000</td>\n",
       "      <td>5.000000</td>\n",
       "      <td>...</td>\n",
       "      <td>5.000000</td>\n",
       "      <td>3.000000</td>\n",
       "      <td>3.000000</td>\n",
       "      <td>2.000000</td>\n",
       "      <td>3.000000</td>\n",
       "      <td>1.000000</td>\n",
       "      <td>1.000000</td>\n",
       "      <td>1.000000</td>\n",
       "      <td>1.000000</td>\n",
       "      <td>1.000000</td>\n",
       "    </tr>\n",
       "    <tr>\n",
       "      <th>25%</th>\n",
       "      <td>200315.500000</td>\n",
       "      <td>21.000000</td>\n",
       "      <td>62.000000</td>\n",
       "      <td>67.000000</td>\n",
       "      <td>1457.000000</td>\n",
       "      <td>1.000000</td>\n",
       "      <td>3.000000</td>\n",
       "      <td>2.000000</td>\n",
       "      <td>8.000000</td>\n",
       "      <td>38.000000</td>\n",
       "      <td>...</td>\n",
       "      <td>39.000000</td>\n",
       "      <td>51.000000</td>\n",
       "      <td>30.000000</td>\n",
       "      <td>27.000000</td>\n",
       "      <td>24.000000</td>\n",
       "      <td>8.000000</td>\n",
       "      <td>8.000000</td>\n",
       "      <td>8.000000</td>\n",
       "      <td>8.000000</td>\n",
       "      <td>8.000000</td>\n",
       "    </tr>\n",
       "    <tr>\n",
       "      <th>50%</th>\n",
       "      <td>221759.000000</td>\n",
       "      <td>25.000000</td>\n",
       "      <td>66.000000</td>\n",
       "      <td>71.000000</td>\n",
       "      <td>1635.000000</td>\n",
       "      <td>1.000000</td>\n",
       "      <td>3.000000</td>\n",
       "      <td>2.000000</td>\n",
       "      <td>17.000000</td>\n",
       "      <td>54.000000</td>\n",
       "      <td>...</td>\n",
       "      <td>49.000000</td>\n",
       "      <td>60.000000</td>\n",
       "      <td>53.000000</td>\n",
       "      <td>55.000000</td>\n",
       "      <td>52.000000</td>\n",
       "      <td>11.000000</td>\n",
       "      <td>11.000000</td>\n",
       "      <td>11.000000</td>\n",
       "      <td>11.000000</td>\n",
       "      <td>11.000000</td>\n",
       "    </tr>\n",
       "    <tr>\n",
       "      <th>75%</th>\n",
       "      <td>236529.500000</td>\n",
       "      <td>28.000000</td>\n",
       "      <td>71.000000</td>\n",
       "      <td>75.000000</td>\n",
       "      <td>1787.000000</td>\n",
       "      <td>1.000000</td>\n",
       "      <td>3.000000</td>\n",
       "      <td>3.000000</td>\n",
       "      <td>26.000000</td>\n",
       "      <td>64.000000</td>\n",
       "      <td>...</td>\n",
       "      <td>60.000000</td>\n",
       "      <td>67.000000</td>\n",
       "      <td>64.000000</td>\n",
       "      <td>66.000000</td>\n",
       "      <td>64.000000</td>\n",
       "      <td>14.000000</td>\n",
       "      <td>14.000000</td>\n",
       "      <td>14.000000</td>\n",
       "      <td>14.000000</td>\n",
       "      <td>14.000000</td>\n",
       "    </tr>\n",
       "    <tr>\n",
       "      <th>max</th>\n",
       "      <td>246620.000000</td>\n",
       "      <td>45.000000</td>\n",
       "      <td>94.000000</td>\n",
       "      <td>95.000000</td>\n",
       "      <td>2346.000000</td>\n",
       "      <td>5.000000</td>\n",
       "      <td>5.000000</td>\n",
       "      <td>5.000000</td>\n",
       "      <td>99.000000</td>\n",
       "      <td>93.000000</td>\n",
       "      <td>...</td>\n",
       "      <td>92.000000</td>\n",
       "      <td>96.000000</td>\n",
       "      <td>94.000000</td>\n",
       "      <td>93.000000</td>\n",
       "      <td>91.000000</td>\n",
       "      <td>90.000000</td>\n",
       "      <td>92.000000</td>\n",
       "      <td>91.000000</td>\n",
       "      <td>90.000000</td>\n",
       "      <td>94.000000</td>\n",
       "    </tr>\n",
       "  </tbody>\n",
       "</table>\n",
       "<p>8 rows × 43 columns</p>\n",
       "</div>"
      ],
      "text/plain": [
       "                  ID           Age       Overall     Potential       Special  \\\n",
       "count   18207.000000  18207.000000  18207.000000  18207.000000  18207.000000   \n",
       "mean   214298.338606     25.122206     66.238699     71.307299   1597.809908   \n",
       "std     29965.244204      4.669943      6.908930      6.136496    272.586016   \n",
       "min        16.000000     16.000000     46.000000     48.000000    731.000000   \n",
       "25%    200315.500000     21.000000     62.000000     67.000000   1457.000000   \n",
       "50%    221759.000000     25.000000     66.000000     71.000000   1635.000000   \n",
       "75%    236529.500000     28.000000     71.000000     75.000000   1787.000000   \n",
       "max    246620.000000     45.000000     94.000000     95.000000   2346.000000   \n",
       "\n",
       "       International Reputation     Weak Foot   Skill Moves  Jersey Number  \\\n",
       "count              18207.000000  18207.000000  18159.000000   18147.000000   \n",
       "mean                   1.113222      2.947299      2.361308      19.546096   \n",
       "std                    0.393511      0.659585      0.756164      15.947765   \n",
       "min                    1.000000      1.000000      1.000000       1.000000   \n",
       "25%                    1.000000      3.000000      2.000000       8.000000   \n",
       "50%                    1.000000      3.000000      2.000000      17.000000   \n",
       "75%                    1.000000      3.000000      3.000000      26.000000   \n",
       "max                    5.000000      5.000000      5.000000      99.000000   \n",
       "\n",
       "           Crossing  ...     Penalties     Composure       Marking  \\\n",
       "count  18159.000000  ...  18159.000000  18159.000000  18159.000000   \n",
       "mean      49.734181  ...     48.548598     58.648274     47.281623   \n",
       "std       18.364524  ...     15.704053     11.436133     19.904397   \n",
       "min        5.000000  ...      5.000000      3.000000      3.000000   \n",
       "25%       38.000000  ...     39.000000     51.000000     30.000000   \n",
       "50%       54.000000  ...     49.000000     60.000000     53.000000   \n",
       "75%       64.000000  ...     60.000000     67.000000     64.000000   \n",
       "max       93.000000  ...     92.000000     96.000000     94.000000   \n",
       "\n",
       "       StandingTackle  SlidingTackle      GKDiving    GKHandling  \\\n",
       "count    18159.000000   18159.000000  18159.000000  18159.000000   \n",
       "mean        47.697836      45.661435     16.616223     16.391596   \n",
       "std         21.664004      21.289135     17.695349     16.906900   \n",
       "min          2.000000       3.000000      1.000000      1.000000   \n",
       "25%         27.000000      24.000000      8.000000      8.000000   \n",
       "50%         55.000000      52.000000     11.000000     11.000000   \n",
       "75%         66.000000      64.000000     14.000000     14.000000   \n",
       "max         93.000000      91.000000     90.000000     92.000000   \n",
       "\n",
       "          GKKicking  GKPositioning    GKReflexes  \n",
       "count  18159.000000   18159.000000  18159.000000  \n",
       "mean      16.232061      16.388898     16.710887  \n",
       "std       16.502864      17.034669     17.955119  \n",
       "min        1.000000       1.000000      1.000000  \n",
       "25%        8.000000       8.000000      8.000000  \n",
       "50%       11.000000      11.000000     11.000000  \n",
       "75%       14.000000      14.000000     14.000000  \n",
       "max       91.000000      90.000000     94.000000  \n",
       "\n",
       "[8 rows x 43 columns]"
      ]
     },
     "execution_count": 11,
     "metadata": {},
     "output_type": "execute_result"
    }
   ],
   "source": [
    "fifa.describe()"
   ]
  },
  {
   "cell_type": "code",
   "execution_count": 12,
   "metadata": {
    "colab": {
     "base_uri": "https://localhost:8080/",
     "height": 242
    },
    "id": "ARxKBM11lq0-",
    "outputId": "6db265a7-d508-46ff-8e01-8da9e0021282"
   },
   "outputs": [
    {
     "data": {
      "text/html": [
       "<div>\n",
       "<style scoped>\n",
       "    .dataframe tbody tr th:only-of-type {\n",
       "        vertical-align: middle;\n",
       "    }\n",
       "\n",
       "    .dataframe tbody tr th {\n",
       "        vertical-align: top;\n",
       "    }\n",
       "\n",
       "    .dataframe thead th {\n",
       "        text-align: right;\n",
       "    }\n",
       "</style>\n",
       "<table border=\"1\" class=\"dataframe\">\n",
       "  <thead>\n",
       "    <tr style=\"text-align: right;\">\n",
       "      <th></th>\n",
       "      <th>Name</th>\n",
       "      <th>Photo</th>\n",
       "      <th>Nationality</th>\n",
       "      <th>Flag</th>\n",
       "      <th>Club</th>\n",
       "      <th>Club Logo</th>\n",
       "      <th>Value</th>\n",
       "      <th>Wage</th>\n",
       "      <th>Preferred Foot</th>\n",
       "      <th>Work Rate</th>\n",
       "      <th>...</th>\n",
       "      <th>LDM</th>\n",
       "      <th>CDM</th>\n",
       "      <th>RDM</th>\n",
       "      <th>RWB</th>\n",
       "      <th>LB</th>\n",
       "      <th>LCB</th>\n",
       "      <th>CB</th>\n",
       "      <th>RCB</th>\n",
       "      <th>RB</th>\n",
       "      <th>Release Clause</th>\n",
       "    </tr>\n",
       "  </thead>\n",
       "  <tbody>\n",
       "    <tr>\n",
       "      <th>count</th>\n",
       "      <td>18207</td>\n",
       "      <td>18207</td>\n",
       "      <td>18207</td>\n",
       "      <td>18207</td>\n",
       "      <td>18207</td>\n",
       "      <td>18207</td>\n",
       "      <td>18207</td>\n",
       "      <td>18207</td>\n",
       "      <td>18207</td>\n",
       "      <td>18207</td>\n",
       "      <td>...</td>\n",
       "      <td>16122</td>\n",
       "      <td>16122</td>\n",
       "      <td>16122</td>\n",
       "      <td>16122</td>\n",
       "      <td>16122</td>\n",
       "      <td>16122</td>\n",
       "      <td>18207</td>\n",
       "      <td>18207</td>\n",
       "      <td>18207</td>\n",
       "      <td>16643</td>\n",
       "    </tr>\n",
       "    <tr>\n",
       "      <th>unique</th>\n",
       "      <td>17194</td>\n",
       "      <td>18207</td>\n",
       "      <td>164</td>\n",
       "      <td>164</td>\n",
       "      <td>652</td>\n",
       "      <td>679</td>\n",
       "      <td>217</td>\n",
       "      <td>144</td>\n",
       "      <td>2</td>\n",
       "      <td>9</td>\n",
       "      <td>...</td>\n",
       "      <td>99</td>\n",
       "      <td>99</td>\n",
       "      <td>99</td>\n",
       "      <td>95</td>\n",
       "      <td>98</td>\n",
       "      <td>108</td>\n",
       "      <td>108</td>\n",
       "      <td>108</td>\n",
       "      <td>98</td>\n",
       "      <td>1244</td>\n",
       "    </tr>\n",
       "    <tr>\n",
       "      <th>top</th>\n",
       "      <td>J. Rodríguez</td>\n",
       "      <td>https://cdn.sofifa.org/players/4/19/210455.png</td>\n",
       "      <td>England</td>\n",
       "      <td>https://cdn.sofifa.org/flags/14.png</td>\n",
       "      <td>No Club</td>\n",
       "      <td>https://cdn.sofifa.org/teams/2/light/461.png</td>\n",
       "      <td>€1.1M</td>\n",
       "      <td>€1K</td>\n",
       "      <td>Right</td>\n",
       "      <td>Medium/ Medium</td>\n",
       "      <td>...</td>\n",
       "      <td>62+2</td>\n",
       "      <td>62+2</td>\n",
       "      <td>62+2</td>\n",
       "      <td>61+2</td>\n",
       "      <td>61+2</td>\n",
       "      <td>63+2</td>\n",
       "      <td>63+2</td>\n",
       "      <td>63+2</td>\n",
       "      <td>60+2</td>\n",
       "      <td>€1.1M</td>\n",
       "    </tr>\n",
       "    <tr>\n",
       "      <th>freq</th>\n",
       "      <td>11</td>\n",
       "      <td>1</td>\n",
       "      <td>1662</td>\n",
       "      <td>1662</td>\n",
       "      <td>241</td>\n",
       "      <td>33</td>\n",
       "      <td>431</td>\n",
       "      <td>4900</td>\n",
       "      <td>13996</td>\n",
       "      <td>9858</td>\n",
       "      <td>...</td>\n",
       "      <td>660</td>\n",
       "      <td>660</td>\n",
       "      <td>660</td>\n",
       "      <td>713</td>\n",
       "      <td>669</td>\n",
       "      <td>634</td>\n",
       "      <td>708</td>\n",
       "      <td>708</td>\n",
       "      <td>757</td>\n",
       "      <td>557</td>\n",
       "    </tr>\n",
       "  </tbody>\n",
       "</table>\n",
       "<p>4 rows × 45 columns</p>\n",
       "</div>"
      ],
      "text/plain": [
       "                Name                                           Photo  \\\n",
       "count          18207                                           18207   \n",
       "unique         17194                                           18207   \n",
       "top     J. Rodríguez  https://cdn.sofifa.org/players/4/19/210455.png   \n",
       "freq              11                                               1   \n",
       "\n",
       "       Nationality                                 Flag     Club  \\\n",
       "count        18207                                18207    18207   \n",
       "unique         164                                  164      652   \n",
       "top        England  https://cdn.sofifa.org/flags/14.png  No Club   \n",
       "freq          1662                                 1662      241   \n",
       "\n",
       "                                           Club Logo  Value   Wage  \\\n",
       "count                                          18207  18207  18207   \n",
       "unique                                           679    217    144   \n",
       "top     https://cdn.sofifa.org/teams/2/light/461.png  €1.1M    €1K   \n",
       "freq                                              33    431   4900   \n",
       "\n",
       "       Preferred Foot       Work Rate  ...    LDM    CDM    RDM    RWB     LB  \\\n",
       "count           18207           18207  ...  16122  16122  16122  16122  16122   \n",
       "unique              2               9  ...     99     99     99     95     98   \n",
       "top             Right  Medium/ Medium  ...   62+2   62+2   62+2   61+2   61+2   \n",
       "freq            13996            9858  ...    660    660    660    713    669   \n",
       "\n",
       "          LCB     CB    RCB     RB Release Clause  \n",
       "count   16122  18207  18207  18207          16643  \n",
       "unique    108    108    108     98           1244  \n",
       "top      63+2   63+2   63+2   60+2          €1.1M  \n",
       "freq      634    708    708    757            557  \n",
       "\n",
       "[4 rows x 45 columns]"
      ]
     },
     "execution_count": 12,
     "metadata": {},
     "output_type": "execute_result"
    }
   ],
   "source": [
    "fifa.describe(include=[\"object\"])"
   ]
  },
  {
   "cell_type": "markdown",
   "metadata": {
    "id": "U9icZxRzluOf"
   },
   "source": [
    "- Player James Rodriguez has appeared 11 times in this dataset and England Nation has most number of players \n",
    "- There are 431 players which has market alue around 1.1M"
   ]
  },
  {
   "cell_type": "markdown",
   "metadata": {},
   "source": [
    "#### <a href=\"#Points\">Back To Top</a>"
   ]
  },
  {
   "cell_type": "markdown",
   "metadata": {
    "id": "niKklqwFlyY2"
   },
   "source": [
    "#### 1. List all Indian Footballers"
   ]
  },
  {
   "cell_type": "code",
   "execution_count": 13,
   "metadata": {
    "colab": {
     "base_uri": "https://localhost:8080/",
     "height": 665
    },
    "id": "j5Rb50LblzCr",
    "outputId": "cc6b5902-28ae-4210-a012-99b234141e7e"
   },
   "outputs": [
    {
     "data": {
      "text/html": [
       "<div>\n",
       "<style scoped>\n",
       "    .dataframe tbody tr th:only-of-type {\n",
       "        vertical-align: middle;\n",
       "    }\n",
       "\n",
       "    .dataframe tbody tr th {\n",
       "        vertical-align: top;\n",
       "    }\n",
       "\n",
       "    .dataframe thead th {\n",
       "        text-align: right;\n",
       "    }\n",
       "</style>\n",
       "<table border=\"1\" class=\"dataframe\">\n",
       "  <thead>\n",
       "    <tr style=\"text-align: right;\">\n",
       "      <th></th>\n",
       "      <th>Name</th>\n",
       "      <th>Age</th>\n",
       "      <th>Jersey Number</th>\n",
       "      <th>Overall</th>\n",
       "      <th>Potential</th>\n",
       "      <th>Position</th>\n",
       "    </tr>\n",
       "  </thead>\n",
       "  <tbody>\n",
       "    <tr>\n",
       "      <th>8606</th>\n",
       "      <td>S. Chhetri</td>\n",
       "      <td>33</td>\n",
       "      <td>11.0</td>\n",
       "      <td>67</td>\n",
       "      <td>67</td>\n",
       "      <td>LS</td>\n",
       "    </tr>\n",
       "    <tr>\n",
       "      <th>10012</th>\n",
       "      <td>S. Jhingan</td>\n",
       "      <td>24</td>\n",
       "      <td>5.0</td>\n",
       "      <td>65</td>\n",
       "      <td>71</td>\n",
       "      <td>RCB</td>\n",
       "    </tr>\n",
       "    <tr>\n",
       "      <th>12599</th>\n",
       "      <td>J. Lalpekhlua</td>\n",
       "      <td>27</td>\n",
       "      <td>12.0</td>\n",
       "      <td>63</td>\n",
       "      <td>64</td>\n",
       "      <td>RS</td>\n",
       "    </tr>\n",
       "    <tr>\n",
       "      <th>12812</th>\n",
       "      <td>G. Singh Sandhu</td>\n",
       "      <td>26</td>\n",
       "      <td>23.0</td>\n",
       "      <td>63</td>\n",
       "      <td>68</td>\n",
       "      <td>GK</td>\n",
       "    </tr>\n",
       "    <tr>\n",
       "      <th>13509</th>\n",
       "      <td>A. Edathodika</td>\n",
       "      <td>31</td>\n",
       "      <td>22.0</td>\n",
       "      <td>62</td>\n",
       "      <td>62</td>\n",
       "      <td>LCB</td>\n",
       "    </tr>\n",
       "    <tr>\n",
       "      <th>14055</th>\n",
       "      <td>P. Halder</td>\n",
       "      <td>25</td>\n",
       "      <td>17.0</td>\n",
       "      <td>61</td>\n",
       "      <td>67</td>\n",
       "      <td>RCM</td>\n",
       "    </tr>\n",
       "    <tr>\n",
       "      <th>14200</th>\n",
       "      <td>P. Kotal</td>\n",
       "      <td>24</td>\n",
       "      <td>20.0</td>\n",
       "      <td>61</td>\n",
       "      <td>66</td>\n",
       "      <td>RB</td>\n",
       "    </tr>\n",
       "    <tr>\n",
       "      <th>14219</th>\n",
       "      <td>L. Ralte</td>\n",
       "      <td>25</td>\n",
       "      <td>18.0</td>\n",
       "      <td>61</td>\n",
       "      <td>62</td>\n",
       "      <td>LW</td>\n",
       "    </tr>\n",
       "    <tr>\n",
       "      <th>14706</th>\n",
       "      <td>N. Das</td>\n",
       "      <td>24</td>\n",
       "      <td>21.0</td>\n",
       "      <td>60</td>\n",
       "      <td>65</td>\n",
       "      <td>LB</td>\n",
       "    </tr>\n",
       "    <tr>\n",
       "      <th>14787</th>\n",
       "      <td>U. Singh</td>\n",
       "      <td>22</td>\n",
       "      <td>15.0</td>\n",
       "      <td>60</td>\n",
       "      <td>67</td>\n",
       "      <td>RM</td>\n",
       "    </tr>\n",
       "    <tr>\n",
       "      <th>14916</th>\n",
       "      <td>H. Narzary</td>\n",
       "      <td>24</td>\n",
       "      <td>19.0</td>\n",
       "      <td>60</td>\n",
       "      <td>66</td>\n",
       "      <td>LM</td>\n",
       "    </tr>\n",
       "    <tr>\n",
       "      <th>15357</th>\n",
       "      <td>R. Singh</td>\n",
       "      <td>28</td>\n",
       "      <td>9.0</td>\n",
       "      <td>59</td>\n",
       "      <td>59</td>\n",
       "      <td>ST</td>\n",
       "    </tr>\n",
       "    <tr>\n",
       "      <th>15644</th>\n",
       "      <td>S. Singh</td>\n",
       "      <td>22</td>\n",
       "      <td>3.0</td>\n",
       "      <td>59</td>\n",
       "      <td>65</td>\n",
       "      <td>CB</td>\n",
       "    </tr>\n",
       "    <tr>\n",
       "      <th>15653</th>\n",
       "      <td>A. Thapa</td>\n",
       "      <td>20</td>\n",
       "      <td>7.0</td>\n",
       "      <td>59</td>\n",
       "      <td>71</td>\n",
       "      <td>LCM</td>\n",
       "    </tr>\n",
       "    <tr>\n",
       "      <th>15856</th>\n",
       "      <td>M. Rafique</td>\n",
       "      <td>25</td>\n",
       "      <td>8.0</td>\n",
       "      <td>58</td>\n",
       "      <td>61</td>\n",
       "      <td>CM</td>\n",
       "    </tr>\n",
       "    <tr>\n",
       "      <th>15865</th>\n",
       "      <td>A. Singh</td>\n",
       "      <td>25</td>\n",
       "      <td>16.0</td>\n",
       "      <td>58</td>\n",
       "      <td>62</td>\n",
       "      <td>GK</td>\n",
       "    </tr>\n",
       "    <tr>\n",
       "      <th>15885</th>\n",
       "      <td>B. Singh</td>\n",
       "      <td>31</td>\n",
       "      <td>10.0</td>\n",
       "      <td>58</td>\n",
       "      <td>58</td>\n",
       "      <td>ST</td>\n",
       "    </tr>\n",
       "    <tr>\n",
       "      <th>16136</th>\n",
       "      <td>S. Bose</td>\n",
       "      <td>22</td>\n",
       "      <td>2.0</td>\n",
       "      <td>58</td>\n",
       "      <td>66</td>\n",
       "      <td>LB</td>\n",
       "    </tr>\n",
       "    <tr>\n",
       "      <th>16266</th>\n",
       "      <td>R. Borges</td>\n",
       "      <td>26</td>\n",
       "      <td>14.0</td>\n",
       "      <td>58</td>\n",
       "      <td>60</td>\n",
       "      <td>CDM</td>\n",
       "    </tr>\n",
       "    <tr>\n",
       "      <th>16451</th>\n",
       "      <td>S. Paul</td>\n",
       "      <td>31</td>\n",
       "      <td>NaN</td>\n",
       "      <td>57</td>\n",
       "      <td>57</td>\n",
       "      <td>RW</td>\n",
       "    </tr>\n",
       "  </tbody>\n",
       "</table>\n",
       "</div>"
      ],
      "text/plain": [
       "                  Name  Age  Jersey Number  Overall  Potential Position\n",
       "8606        S. Chhetri   33           11.0       67         67       LS\n",
       "10012       S. Jhingan   24            5.0       65         71      RCB\n",
       "12599    J. Lalpekhlua   27           12.0       63         64       RS\n",
       "12812  G. Singh Sandhu   26           23.0       63         68       GK\n",
       "13509    A. Edathodika   31           22.0       62         62      LCB\n",
       "14055        P. Halder   25           17.0       61         67      RCM\n",
       "14200         P. Kotal   24           20.0       61         66       RB\n",
       "14219         L. Ralte   25           18.0       61         62       LW\n",
       "14706           N. Das   24           21.0       60         65       LB\n",
       "14787         U. Singh   22           15.0       60         67       RM\n",
       "14916       H. Narzary   24           19.0       60         66       LM\n",
       "15357         R. Singh   28            9.0       59         59       ST\n",
       "15644         S. Singh   22            3.0       59         65       CB\n",
       "15653         A. Thapa   20            7.0       59         71      LCM\n",
       "15856       M. Rafique   25            8.0       58         61       CM\n",
       "15865         A. Singh   25           16.0       58         62       GK\n",
       "15885         B. Singh   31           10.0       58         58       ST\n",
       "16136          S. Bose   22            2.0       58         66       LB\n",
       "16266        R. Borges   26           14.0       58         60      CDM\n",
       "16451          S. Paul   31            NaN       57         57       RW"
      ]
     },
     "execution_count": 13,
     "metadata": {},
     "output_type": "execute_result"
    }
   ],
   "source": [
    "fifa.loc[fifa[\"Nationality\"]==\"India\"][[\"Name\",\"Age\",\"Jersey Number\",\"Overall\",\"Potential\",\"Position\"]].head(20)"
   ]
  },
  {
   "cell_type": "markdown",
   "metadata": {
    "id": "F-WFkXF9l7Xv"
   },
   "source": [
    "#### 2. Top Indian Football Player"
   ]
  },
  {
   "cell_type": "code",
   "execution_count": 14,
   "metadata": {
    "colab": {
     "base_uri": "https://localhost:8080/",
     "height": 179
    },
    "id": "8cu-0q7Ul73r",
    "outputId": "11e81057-c0ae-4c73-952f-36022b56a9ac"
   },
   "outputs": [
    {
     "data": {
      "text/html": [
       "<div>\n",
       "<style scoped>\n",
       "    .dataframe tbody tr th:only-of-type {\n",
       "        vertical-align: middle;\n",
       "    }\n",
       "\n",
       "    .dataframe tbody tr th {\n",
       "        vertical-align: top;\n",
       "    }\n",
       "\n",
       "    .dataframe thead th {\n",
       "        text-align: right;\n",
       "    }\n",
       "</style>\n",
       "<table border=\"1\" class=\"dataframe\">\n",
       "  <thead>\n",
       "    <tr style=\"text-align: right;\">\n",
       "      <th></th>\n",
       "      <th>ID</th>\n",
       "      <th>Name</th>\n",
       "      <th>Age</th>\n",
       "      <th>Photo</th>\n",
       "      <th>Nationality</th>\n",
       "      <th>Flag</th>\n",
       "      <th>Overall</th>\n",
       "      <th>Potential</th>\n",
       "      <th>Club</th>\n",
       "      <th>Club Logo</th>\n",
       "      <th>...</th>\n",
       "      <th>Composure</th>\n",
       "      <th>Marking</th>\n",
       "      <th>StandingTackle</th>\n",
       "      <th>SlidingTackle</th>\n",
       "      <th>GKDiving</th>\n",
       "      <th>GKHandling</th>\n",
       "      <th>GKKicking</th>\n",
       "      <th>GKPositioning</th>\n",
       "      <th>GKReflexes</th>\n",
       "      <th>Release Clause</th>\n",
       "    </tr>\n",
       "  </thead>\n",
       "  <tbody>\n",
       "    <tr>\n",
       "      <th>8606</th>\n",
       "      <td>190939</td>\n",
       "      <td>S. Chhetri</td>\n",
       "      <td>33</td>\n",
       "      <td>https://cdn.sofifa.org/players/4/19/190939.png</td>\n",
       "      <td>India</td>\n",
       "      <td>https://cdn.sofifa.org/flags/159.png</td>\n",
       "      <td>67</td>\n",
       "      <td>67</td>\n",
       "      <td>No Club</td>\n",
       "      <td>https://cdn.sofifa.org/flags/159.png</td>\n",
       "      <td>...</td>\n",
       "      <td>67.0</td>\n",
       "      <td>30.0</td>\n",
       "      <td>24.0</td>\n",
       "      <td>44.0</td>\n",
       "      <td>10.0</td>\n",
       "      <td>7.0</td>\n",
       "      <td>11.0</td>\n",
       "      <td>9.0</td>\n",
       "      <td>10.0</td>\n",
       "      <td>NaN</td>\n",
       "    </tr>\n",
       "  </tbody>\n",
       "</table>\n",
       "<p>1 rows × 88 columns</p>\n",
       "</div>"
      ],
      "text/plain": [
       "          ID        Name  Age                                           Photo  \\\n",
       "8606  190939  S. Chhetri   33  https://cdn.sofifa.org/players/4/19/190939.png   \n",
       "\n",
       "     Nationality                                  Flag  Overall  Potential  \\\n",
       "8606       India  https://cdn.sofifa.org/flags/159.png       67         67   \n",
       "\n",
       "         Club                             Club Logo  ... Composure Marking  \\\n",
       "8606  No Club  https://cdn.sofifa.org/flags/159.png  ...      67.0    30.0   \n",
       "\n",
       "      StandingTackle SlidingTackle  GKDiving  GKHandling  GKKicking  \\\n",
       "8606            24.0          44.0      10.0         7.0       11.0   \n",
       "\n",
       "     GKPositioning GKReflexes Release Clause  \n",
       "8606           9.0       10.0            NaN  \n",
       "\n",
       "[1 rows x 88 columns]"
      ]
     },
     "execution_count": 14,
     "metadata": {},
     "output_type": "execute_result"
    }
   ],
   "source": [
    "fifa.loc[(fifa[\"Nationality\"]==\"India\") & (fifa[\"Overall\"]>65)].head()"
   ]
  },
  {
   "cell_type": "markdown",
   "metadata": {},
   "source": [
    "#### <a href=\"#Points\">Back To Top</a>"
   ]
  },
  {
   "cell_type": "markdown",
   "metadata": {
    "id": "r3kSEiJ_l_8O"
   },
   "source": [
    "#### 3. Analysing Club Data Manchester United"
   ]
  },
  {
   "cell_type": "code",
   "execution_count": 15,
   "metadata": {
    "colab": {
     "base_uri": "https://localhost:8080/",
     "height": 357
    },
    "id": "oCzomKMPmAVb",
    "outputId": "9c92fcbb-9ee6-4276-cb25-dc280da19c29"
   },
   "outputs": [
    {
     "data": {
      "text/html": [
       "<div>\n",
       "<style scoped>\n",
       "    .dataframe tbody tr th:only-of-type {\n",
       "        vertical-align: middle;\n",
       "    }\n",
       "\n",
       "    .dataframe tbody tr th {\n",
       "        vertical-align: top;\n",
       "    }\n",
       "\n",
       "    .dataframe thead th {\n",
       "        text-align: right;\n",
       "    }\n",
       "</style>\n",
       "<table border=\"1\" class=\"dataframe\">\n",
       "  <thead>\n",
       "    <tr style=\"text-align: right;\">\n",
       "      <th></th>\n",
       "      <th>Name</th>\n",
       "      <th>Age</th>\n",
       "      <th>Jersey Number</th>\n",
       "      <th>Nationality</th>\n",
       "      <th>Wage</th>\n",
       "      <th>Value</th>\n",
       "      <th>Contract Valid Until</th>\n",
       "      <th>Overall</th>\n",
       "      <th>Potential</th>\n",
       "      <th>Position</th>\n",
       "    </tr>\n",
       "  </thead>\n",
       "  <tbody>\n",
       "    <tr>\n",
       "      <th>4</th>\n",
       "      <td>De Gea</td>\n",
       "      <td>27</td>\n",
       "      <td>1.0</td>\n",
       "      <td>Spain</td>\n",
       "      <td>€260K</td>\n",
       "      <td>€72M</td>\n",
       "      <td>2020</td>\n",
       "      <td>91</td>\n",
       "      <td>93</td>\n",
       "      <td>GK</td>\n",
       "    </tr>\n",
       "    <tr>\n",
       "      <th>46</th>\n",
       "      <td>P. Pogba</td>\n",
       "      <td>25</td>\n",
       "      <td>6.0</td>\n",
       "      <td>France</td>\n",
       "      <td>€210K</td>\n",
       "      <td>€64M</td>\n",
       "      <td>2021</td>\n",
       "      <td>87</td>\n",
       "      <td>91</td>\n",
       "      <td>RDM</td>\n",
       "    </tr>\n",
       "    <tr>\n",
       "      <th>48</th>\n",
       "      <td>R. Lukaku</td>\n",
       "      <td>25</td>\n",
       "      <td>9.0</td>\n",
       "      <td>Belgium</td>\n",
       "      <td>€230K</td>\n",
       "      <td>€62.5M</td>\n",
       "      <td>2022</td>\n",
       "      <td>87</td>\n",
       "      <td>89</td>\n",
       "      <td>ST</td>\n",
       "    </tr>\n",
       "    <tr>\n",
       "      <th>94</th>\n",
       "      <td>A. Sánchez</td>\n",
       "      <td>29</td>\n",
       "      <td>7.0</td>\n",
       "      <td>Chile</td>\n",
       "      <td>€215K</td>\n",
       "      <td>€37.5M</td>\n",
       "      <td>2022</td>\n",
       "      <td>85</td>\n",
       "      <td>85</td>\n",
       "      <td>RW</td>\n",
       "    </tr>\n",
       "    <tr>\n",
       "      <th>117</th>\n",
       "      <td>A. Martial</td>\n",
       "      <td>22</td>\n",
       "      <td>11.0</td>\n",
       "      <td>France</td>\n",
       "      <td>€165K</td>\n",
       "      <td>€42.5M</td>\n",
       "      <td>2019</td>\n",
       "      <td>84</td>\n",
       "      <td>90</td>\n",
       "      <td>LW</td>\n",
       "    </tr>\n",
       "    <tr>\n",
       "      <th>133</th>\n",
       "      <td>N. Matić</td>\n",
       "      <td>29</td>\n",
       "      <td>31.0</td>\n",
       "      <td>Serbia</td>\n",
       "      <td>€165K</td>\n",
       "      <td>€24M</td>\n",
       "      <td>2020</td>\n",
       "      <td>84</td>\n",
       "      <td>84</td>\n",
       "      <td>CDM</td>\n",
       "    </tr>\n",
       "    <tr>\n",
       "      <th>212</th>\n",
       "      <td>Juan Mata</td>\n",
       "      <td>30</td>\n",
       "      <td>8.0</td>\n",
       "      <td>Spain</td>\n",
       "      <td>€160K</td>\n",
       "      <td>€24.5M</td>\n",
       "      <td>2019</td>\n",
       "      <td>83</td>\n",
       "      <td>83</td>\n",
       "      <td>RM</td>\n",
       "    </tr>\n",
       "    <tr>\n",
       "      <th>251</th>\n",
       "      <td>Fred</td>\n",
       "      <td>25</td>\n",
       "      <td>17.0</td>\n",
       "      <td>Brazil</td>\n",
       "      <td>€140K</td>\n",
       "      <td>€26.5M</td>\n",
       "      <td>2023</td>\n",
       "      <td>82</td>\n",
       "      <td>84</td>\n",
       "      <td>CM</td>\n",
       "    </tr>\n",
       "    <tr>\n",
       "      <th>255</th>\n",
       "      <td>J. Lingard</td>\n",
       "      <td>25</td>\n",
       "      <td>7.0</td>\n",
       "      <td>England</td>\n",
       "      <td>€140K</td>\n",
       "      <td>€26.5M</td>\n",
       "      <td>2021</td>\n",
       "      <td>82</td>\n",
       "      <td>83</td>\n",
       "      <td>CAM</td>\n",
       "    </tr>\n",
       "    <tr>\n",
       "      <th>320</th>\n",
       "      <td>M. Rashford</td>\n",
       "      <td>20</td>\n",
       "      <td>11.0</td>\n",
       "      <td>England</td>\n",
       "      <td>€110K</td>\n",
       "      <td>€27M</td>\n",
       "      <td>2020</td>\n",
       "      <td>81</td>\n",
       "      <td>89</td>\n",
       "      <td>LW</td>\n",
       "    </tr>\n",
       "  </tbody>\n",
       "</table>\n",
       "</div>"
      ],
      "text/plain": [
       "            Name  Age  Jersey Number Nationality   Wage   Value  \\\n",
       "4         De Gea   27            1.0       Spain  €260K    €72M   \n",
       "46      P. Pogba   25            6.0      France  €210K    €64M   \n",
       "48     R. Lukaku   25            9.0     Belgium  €230K  €62.5M   \n",
       "94    A. Sánchez   29            7.0       Chile  €215K  €37.5M   \n",
       "117   A. Martial   22           11.0      France  €165K  €42.5M   \n",
       "133     N. Matić   29           31.0      Serbia  €165K    €24M   \n",
       "212    Juan Mata   30            8.0       Spain  €160K  €24.5M   \n",
       "251         Fred   25           17.0      Brazil  €140K  €26.5M   \n",
       "255   J. Lingard   25            7.0     England  €140K  €26.5M   \n",
       "320  M. Rashford   20           11.0     England  €110K    €27M   \n",
       "\n",
       "    Contract Valid Until  Overall  Potential Position  \n",
       "4                   2020       91         93       GK  \n",
       "46                  2021       87         91      RDM  \n",
       "48                  2022       87         89       ST  \n",
       "94                  2022       85         85       RW  \n",
       "117                 2019       84         90       LW  \n",
       "133                 2020       84         84      CDM  \n",
       "212                 2019       83         83       RM  \n",
       "251                 2023       82         84       CM  \n",
       "255                 2021       82         83      CAM  \n",
       "320                 2020       81         89       LW  "
      ]
     },
     "execution_count": 15,
     "metadata": {},
     "output_type": "execute_result"
    }
   ],
   "source": [
    "x = fifa[fifa[\"Club\"]==\"Manchester United\"][[\"Name\",\"Age\",\"Jersey Number\",\"Nationality\",\"Wage\",\"Value\",\"Contract Valid Until\",\"Overall\",\"Potential\",\"Position\"]].head(10)\n",
    "x"
   ]
  },
  {
   "cell_type": "code",
   "execution_count": 16,
   "metadata": {
    "colab": {
     "base_uri": "https://localhost:8080/"
    },
    "id": "GIvSPzTRmB3R",
    "outputId": "5de0bf9d-927f-4503-dcb2-86ec869c50d8"
   },
   "outputs": [
    {
     "data": {
      "text/plain": [
       "(10, 10)"
      ]
     },
     "execution_count": 16,
     "metadata": {},
     "output_type": "execute_result"
    }
   ],
   "source": [
    "x.shape"
   ]
  },
  {
   "cell_type": "markdown",
   "metadata": {
    "id": "NHHwjnZnmE6D"
   },
   "source": [
    "#### 4. Top 10 Players whos Ratings are Higher in Strength"
   ]
  },
  {
   "cell_type": "code",
   "execution_count": 17,
   "metadata": {
    "colab": {
     "base_uri": "https://localhost:8080/",
     "height": 357
    },
    "id": "-weaQZPTmFYX",
    "outputId": "34c27b8b-b709-476f-97f2-148088034610"
   },
   "outputs": [
    {
     "data": {
      "text/html": [
       "<div>\n",
       "<style scoped>\n",
       "    .dataframe tbody tr th:only-of-type {\n",
       "        vertical-align: middle;\n",
       "    }\n",
       "\n",
       "    .dataframe tbody tr th {\n",
       "        vertical-align: top;\n",
       "    }\n",
       "\n",
       "    .dataframe thead th {\n",
       "        text-align: right;\n",
       "    }\n",
       "</style>\n",
       "<table border=\"1\" class=\"dataframe\">\n",
       "  <thead>\n",
       "    <tr style=\"text-align: right;\">\n",
       "      <th></th>\n",
       "      <th>Name</th>\n",
       "      <th>Strength</th>\n",
       "      <th>Nationality</th>\n",
       "      <th>Club</th>\n",
       "      <th>Age</th>\n",
       "    </tr>\n",
       "  </thead>\n",
       "  <tbody>\n",
       "    <tr>\n",
       "      <th>9502</th>\n",
       "      <td>A. Akinfenwa</td>\n",
       "      <td>97.0</td>\n",
       "      <td>England</td>\n",
       "      <td>Wycombe Wanderers</td>\n",
       "      <td>36</td>\n",
       "    </tr>\n",
       "    <tr>\n",
       "      <th>1125</th>\n",
       "      <td>Wesley</td>\n",
       "      <td>95.0</td>\n",
       "      <td>Brazil</td>\n",
       "      <td>Club Brugge KV</td>\n",
       "      <td>21</td>\n",
       "    </tr>\n",
       "    <tr>\n",
       "      <th>2560</th>\n",
       "      <td>K. Waston</td>\n",
       "      <td>95.0</td>\n",
       "      <td>Costa Rica</td>\n",
       "      <td>Vancouver Whitecaps FC</td>\n",
       "      <td>30</td>\n",
       "    </tr>\n",
       "    <tr>\n",
       "      <th>14112</th>\n",
       "      <td>T. Chorý</td>\n",
       "      <td>95.0</td>\n",
       "      <td>Czech Republic</td>\n",
       "      <td>Viktoria Plzeň</td>\n",
       "      <td>23</td>\n",
       "    </tr>\n",
       "    <tr>\n",
       "      <th>15180</th>\n",
       "      <td>M. Rhead</td>\n",
       "      <td>94.0</td>\n",
       "      <td>England</td>\n",
       "      <td>Lincoln City</td>\n",
       "      <td>34</td>\n",
       "    </tr>\n",
       "    <tr>\n",
       "      <th>116</th>\n",
       "      <td>N. Süle</td>\n",
       "      <td>94.0</td>\n",
       "      <td>Germany</td>\n",
       "      <td>FC Bayern München</td>\n",
       "      <td>22</td>\n",
       "    </tr>\n",
       "    <tr>\n",
       "      <th>1115</th>\n",
       "      <td>K. Mbodji</td>\n",
       "      <td>94.0</td>\n",
       "      <td>Senegal</td>\n",
       "      <td>FC Nantes</td>\n",
       "      <td>28</td>\n",
       "    </tr>\n",
       "    <tr>\n",
       "      <th>5522</th>\n",
       "      <td>F. Ballas</td>\n",
       "      <td>94.0</td>\n",
       "      <td>Germany</td>\n",
       "      <td>SG Dynamo Dresden</td>\n",
       "      <td>25</td>\n",
       "    </tr>\n",
       "    <tr>\n",
       "      <th>8716</th>\n",
       "      <td>F. Carvalho</td>\n",
       "      <td>94.0</td>\n",
       "      <td>Uruguay</td>\n",
       "      <td>Vålerenga Fotball</td>\n",
       "      <td>24</td>\n",
       "    </tr>\n",
       "    <tr>\n",
       "      <th>468</th>\n",
       "      <td>J. Vestergaard</td>\n",
       "      <td>94.0</td>\n",
       "      <td>Denmark</td>\n",
       "      <td>Southampton</td>\n",
       "      <td>25</td>\n",
       "    </tr>\n",
       "  </tbody>\n",
       "</table>\n",
       "</div>"
      ],
      "text/plain": [
       "                 Name  Strength     Nationality                    Club  Age\n",
       "9502     A. Akinfenwa      97.0         England       Wycombe Wanderers   36\n",
       "1125           Wesley      95.0          Brazil          Club Brugge KV   21\n",
       "2560        K. Waston      95.0      Costa Rica  Vancouver Whitecaps FC   30\n",
       "14112        T. Chorý      95.0  Czech Republic          Viktoria Plzeň   23\n",
       "15180        M. Rhead      94.0         England            Lincoln City   34\n",
       "116           N. Süle      94.0         Germany       FC Bayern München   22\n",
       "1115        K. Mbodji      94.0         Senegal               FC Nantes   28\n",
       "5522        F. Ballas      94.0         Germany       SG Dynamo Dresden   25\n",
       "8716      F. Carvalho      94.0         Uruguay       Vålerenga Fotball   24\n",
       "468    J. Vestergaard      94.0         Denmark             Southampton   25"
      ]
     },
     "execution_count": 17,
     "metadata": {},
     "output_type": "execute_result"
    }
   ],
   "source": [
    "fifa.sort_values([\"Strength\"],ascending=False)[[\"Name\",\"Strength\",\"Nationality\",\"Club\",\"Age\"]].head(10)"
   ]
  },
  {
   "cell_type": "code",
   "execution_count": 18,
   "metadata": {
    "id": "fcFo3JiwmHF3"
   },
   "outputs": [],
   "source": [
    "strength_mean = fifa.Strength.mean()"
   ]
  },
  {
   "cell_type": "code",
   "execution_count": 19,
   "metadata": {
    "colab": {
     "base_uri": "https://localhost:8080/",
     "height": 295
    },
    "id": "C9ZPvqfZmJDD",
    "outputId": "c1752f76-c731-44ad-9a1b-06fe1b97c517"
   },
   "outputs": [
    {
     "data": {
      "image/png": "[encoded data removed]",
      "text/plain": [
       "<Figure size 432x288 with 1 Axes>"
      ]
     },
     "metadata": {
      "needs_background": "light"
     },
     "output_type": "display_data"
    }
   ],
   "source": [
    "fifa[\"Strength\"].hist(color=\"pink\")\n",
    "plt.xlabel(\"strength\")\n",
    "plt.ylabel(\"Players count\")\n",
    "plt.axvline(strength_mean,color=\"red\")\n",
    "plt.title(\"Most Strength Players\")\n",
    "plt.grid(False)\n",
    "plt.show()"
   ]
  },
  {
   "cell_type": "markdown",
   "metadata": {
    "id": "nhPxI96LmNaB"
   },
   "source": [
    "- A.Akinfenwa from England Has the higest strength rating(97) along with M.Rhead England(94)\n",
    "- The average players who's strength rating is around 60-70"
   ]
  },
  {
   "cell_type": "markdown",
   "metadata": {},
   "source": [
    "#### <a href=\"#Points\">Back To Top</a>"
   ]
  },
  {
   "cell_type": "markdown",
   "metadata": {
    "id": "lgAQCFFYmQAW"
   },
   "source": [
    "#### 5. Most Preferred Foot of Players"
   ]
  },
  {
   "cell_type": "code",
   "execution_count": 20,
   "metadata": {
    "id": "bZfYEcbAmKmE"
   },
   "outputs": [],
   "source": [
    "Left = fifa[fifa[\"Preferred Foot\"]==\"Left\"].count()[0]"
   ]
  },
  {
   "cell_type": "code",
   "execution_count": 21,
   "metadata": {
    "id": "FAZ582QrmRvK"
   },
   "outputs": [],
   "source": [
    "Right = fifa[fifa[\"Preferred Foot\"]==\"Right\"].count()[0]"
   ]
  },
  {
   "cell_type": "code",
   "execution_count": 22,
   "metadata": {
    "colab": {
     "base_uri": "https://localhost:8080/",
     "height": 378
    },
    "id": "xu11m4WMmS07",
    "outputId": "5c0a5d61-e73a-404c-9f09-90a9a8a70c9a"
   },
   "outputs": [
    {
     "data": {
      "image/png": "[encoded data removed]",
      "text/plain": [
       "<Figure size 432x432 with 1 Axes>"
      ]
     },
     "metadata": {},
     "output_type": "display_data"
    }
   ],
   "source": [
    "plt.figure(figsize=(6,6))\n",
    "plt.pie(x=[Left,Right],labels=[\"Left\",\"Right\"],colors=[\"c\",\"salmon\"],shadow=True,autopct=\"%1.1f%%\",explode=(0,0.1))\n",
    "plt.title(\"Preferred Foot of Players\",\n",
    "         fontdict={\"fontname\":\"DejaVu Sans\",\"fontsize\":20})\n",
    "plt.show()"
   ]
  },
  {
   "cell_type": "markdown",
   "metadata": {},
   "source": [
    "#### <a href=\"#Points\">Back To Top</a>"
   ]
  },
  {
   "cell_type": "markdown",
   "metadata": {
    "id": "e87NX83RmW0a"
   },
   "source": [
    "#### 6. Comparison of Position and Overall Scores"
   ]
  },
  {
   "cell_type": "code",
   "execution_count": 23,
   "metadata": {
    "id": "JuoD6ZRUsfQF"
   },
   "outputs": [],
   "source": [
    "x = fifa.groupby(\"Position\")[\"Overall\"].count().sort_values(ascending=False)"
   ]
  },
  {
   "cell_type": "code",
   "execution_count": 24,
   "metadata": {
    "colab": {
     "base_uri": "https://localhost:8080/",
     "height": 799
    },
    "id": "r48gyQ1Wskt1",
    "outputId": "0dd6bff5-2d03-4bcb-8d69-e9bd193b1a82"
   },
   "outputs": [
    {
     "data": {
      "image/png": "[encoded data removed]",
      "text/plain": [
       "<Figure size 936x936 with 1 Axes>"
      ]
     },
     "metadata": {
      "needs_background": "light"
     },
     "output_type": "display_data"
    }
   ],
   "source": [
    "plt.figure(figsize=(13,13))\n",
    "ax = sns.barplot(x.values,x.index)\n",
    "plt.xlabel(\"Overall Score\",fontsize=20)\n",
    "plt.ylabel(\"Different Position's in Football\",fontsize=20)\n",
    "plt.title(\"Different Position's Counts\",\n",
    "         fontdict={\"fontname\":\"DejaVu Sans\",\"fontsize\":20})\n",
    "plt.show()"
   ]
  },
  {
   "cell_type": "markdown",
   "metadata": {
    "id": "DB1iz5OPmaxv"
   },
   "source": [
    "- There are most players who loves to play forward and has a ST(Striker) Position.\n",
    "- In the dataset there are more than 2000 Players who plays ST Position\n",
    "- The RF(Right-Forward), LAM(Left Attacking Midfileder), RAM(Right Attacking Midfileder) Position has a least Count of below 30 Count\n",
    "- The 2nd Most Played Position is GK(goalkeeper position) , Followed by CB(Center Back which is knwon for Defending)"
   ]
  },
  {
   "cell_type": "code",
   "execution_count": 25,
   "metadata": {
    "id": "BE678BxKmYZw"
   },
   "outputs": [],
   "source": [
    "#Defining a function for cleaning a Weight Data\n",
    "\n",
    "def cleaning(value):\n",
    "    rep = value.replace(\"lbs\",\"\")\n",
    "    return float(rep)\n",
    "\n",
    "#Applying the function to Weight Data\n",
    "fifa[\"Weight\"] = fifa[\"Weight\"].apply(lambda x: cleaning(x))"
   ]
  },
  {
   "cell_type": "code",
   "execution_count": 26,
   "metadata": {
    "colab": {
     "base_uri": "https://localhost:8080/"
    },
    "id": "Jj4qJRdImcWD",
    "outputId": "0c89e474-c7de-4dcc-ffe9-e122681d6b15"
   },
   "outputs": [
    {
     "data": {
      "text/plain": [
       "1    159.0\n",
       "2    183.0\n",
       "3    150.0\n",
       "4    168.0\n",
       "5    154.0\n",
       "Name: Weight, dtype: float64"
      ]
     },
     "execution_count": 26,
     "metadata": {},
     "output_type": "execute_result"
    }
   ],
   "source": [
    "fifa[\"Weight\"].head()"
   ]
  },
  {
   "cell_type": "code",
   "execution_count": 27,
   "metadata": {
    "id": "KsFqA_ZAmeYG"
   },
   "outputs": [],
   "source": [
    "    # Defining a function for cleaning Wage,Value columns\n",
    "\n",
    "    def cleanWage(Value):\n",
    "        out = Value.replace(\"€\",\"\")\n",
    "        if(\"M\" in out):\n",
    "            out = float(out.replace(\"M\",\"\"))*10000000\n",
    "        elif(\"K\" in Value):\n",
    "            out = float(out.replace(\"K\",\"\"))*1000\n",
    "        return float(out)    "
   ]
  },
  {
   "cell_type": "code",
   "execution_count": 28,
   "metadata": {
    "id": "QJDTxuH-mgTh"
   },
   "outputs": [],
   "source": [
    "fifa[\"Value\"] = fifa[\"Value\"].apply(lambda x: cleanWage(x))\n",
    "fifa[\"Wage\"] = fifa[\"Wage\"].apply(lambda x: cleanWage(x))"
   ]
  },
  {
   "cell_type": "code",
   "execution_count": 29,
   "metadata": {
    "colab": {
     "base_uri": "https://localhost:8080/"
    },
    "id": "f4cwn04VmhwF",
    "outputId": "4a07838c-269c-47db-89c8-b7c8774739b1"
   },
   "outputs": [
    {
     "data": {
      "text/plain": [
       "1    565000.0\n",
       "2    405000.0\n",
       "3    290000.0\n",
       "4    260000.0\n",
       "5    355000.0\n",
       "Name: Wage, dtype: float64"
      ]
     },
     "execution_count": 29,
     "metadata": {},
     "output_type": "execute_result"
    }
   ],
   "source": [
    "fifa[\"Wage\"].head()"
   ]
  },
  {
   "cell_type": "markdown",
   "metadata": {},
   "source": [
    "#### <a href=\"#Points\">Back To Top</a>"
   ]
  },
  {
   "cell_type": "markdown",
   "metadata": {
    "id": "val4QwJgwiDY"
   },
   "source": [
    "#### 7. Distribution of Wages per player"
   ]
  },
  {
   "cell_type": "code",
   "execution_count": 30,
   "metadata": {
    "colab": {
     "base_uri": "https://localhost:8080/",
     "height": 328
    },
    "id": "1Y1gWiJcmi4c",
    "outputId": "47c2faf9-04ea-4809-8c2c-90e5373bd5df"
   },
   "outputs": [
    {
     "data": {
      "image/png": "[encoded data removed]",
      "text/plain": [
       "<Figure size 576x288 with 1 Axes>"
      ]
     },
     "metadata": {
      "needs_background": "light"
     },
     "output_type": "display_data"
    }
   ],
   "source": [
    "plt.figure(figsize=(8,4))\n",
    "sns.distplot(fifa[\"Wage\"],kde=True)\n",
    "plt.xlabel(\"Wage of Players\")\n",
    "plt.ylabel(\"Count of players\")\n",
    "plt.title(\"Distribution of Wages of Players\",\n",
    "          fontdict={\"fontname\":\"DejaVu Sans\",\"fontsize\":20})\n",
    "plt.xticks(rotation=90)\n",
    "sns.set_style(\"darkgrid\")\n",
    "plt.grid(False)\n",
    "plt.show()"
   ]
  },
  {
   "cell_type": "markdown",
   "metadata": {
    "id": "-M-3HBM3w99K"
   },
   "source": [
    "#### 8. Skill Moves of Players"
   ]
  },
  {
   "cell_type": "code",
   "execution_count": 31,
   "metadata": {
    "colab": {
     "base_uri": "https://localhost:8080/",
     "height": 295
    },
    "id": "tCKZRUxoxJZT",
    "outputId": "03e22df8-d2b2-403a-c631-c2551801a815"
   },
   "outputs": [
    {
     "data": {
      "image/png": "[encoded data removed]",
      "text/plain": [
       "<Figure size 576x288 with 1 Axes>"
      ]
     },
     "metadata": {},
     "output_type": "display_data"
    }
   ],
   "source": [
    "plt.figure(figsize=(8,4))\n",
    "sns.countplot(data=fifa,x=\"Skill Moves\",palette=\"pastel\")\n",
    "plt.xlabel(\"Skill Moves/ 5 Star Rating\")\n",
    "plt.ylabel(\"Count in Thousands\")\n",
    "plt.title(\"Count of Players On the Basis of their Skill Moves\")\n",
    "sns.set_style(\"dark\")\n",
    "plt.show()"
   ]
  },
  {
   "cell_type": "markdown",
   "metadata": {},
   "source": [
    "#### <a href=\"#Points\">Back To Top</a>"
   ]
  },
  {
   "cell_type": "markdown",
   "metadata": {
    "id": "zM5THOOrybDl"
   },
   "source": [
    "#### 9. Top 10 Players with 5.0 Skill Moves"
   ]
  },
  {
   "cell_type": "code",
   "execution_count": 32,
   "metadata": {
    "colab": {
     "base_uri": "https://localhost:8080/",
     "height": 357
    },
    "id": "SIFpO4eKmka-",
    "outputId": "c17f2d5a-f792-408f-b10a-ab5a74947835"
   },
   "outputs": [
    {
     "data": {
      "text/html": [
       "<div>\n",
       "<style scoped>\n",
       "    .dataframe tbody tr th:only-of-type {\n",
       "        vertical-align: middle;\n",
       "    }\n",
       "\n",
       "    .dataframe tbody tr th {\n",
       "        vertical-align: top;\n",
       "    }\n",
       "\n",
       "    .dataframe thead th {\n",
       "        text-align: right;\n",
       "    }\n",
       "</style>\n",
       "<table border=\"1\" class=\"dataframe\">\n",
       "  <thead>\n",
       "    <tr style=\"text-align: right;\">\n",
       "      <th></th>\n",
       "      <th>Name</th>\n",
       "      <th>Age</th>\n",
       "      <th>Club</th>\n",
       "      <th>Skill Moves</th>\n",
       "    </tr>\n",
       "  </thead>\n",
       "  <tbody>\n",
       "    <tr>\n",
       "      <th>2</th>\n",
       "      <td>Cristiano Ronaldo</td>\n",
       "      <td>33</td>\n",
       "      <td>Juventus</td>\n",
       "      <td>5.0</td>\n",
       "    </tr>\n",
       "    <tr>\n",
       "      <th>3</th>\n",
       "      <td>Neymar Jr</td>\n",
       "      <td>26</td>\n",
       "      <td>Paris Saint-Germain</td>\n",
       "      <td>5.0</td>\n",
       "    </tr>\n",
       "    <tr>\n",
       "      <th>26</th>\n",
       "      <td>K. Mbappé</td>\n",
       "      <td>19</td>\n",
       "      <td>Paris Saint-Germain</td>\n",
       "      <td>5.0</td>\n",
       "    </tr>\n",
       "    <tr>\n",
       "      <th>33</th>\n",
       "      <td>Coutinho</td>\n",
       "      <td>26</td>\n",
       "      <td>FC Barcelona</td>\n",
       "      <td>5.0</td>\n",
       "    </tr>\n",
       "    <tr>\n",
       "      <th>36</th>\n",
       "      <td>Marcelo</td>\n",
       "      <td>30</td>\n",
       "      <td>Real Madrid</td>\n",
       "      <td>5.0</td>\n",
       "    </tr>\n",
       "    <tr>\n",
       "      <th>46</th>\n",
       "      <td>P. Pogba</td>\n",
       "      <td>25</td>\n",
       "      <td>Manchester United</td>\n",
       "      <td>5.0</td>\n",
       "    </tr>\n",
       "    <tr>\n",
       "      <th>66</th>\n",
       "      <td>Douglas Costa</td>\n",
       "      <td>27</td>\n",
       "      <td>Juventus</td>\n",
       "      <td>5.0</td>\n",
       "    </tr>\n",
       "    <tr>\n",
       "      <th>68</th>\n",
       "      <td>Thiago</td>\n",
       "      <td>27</td>\n",
       "      <td>FC Bayern München</td>\n",
       "      <td>5.0</td>\n",
       "    </tr>\n",
       "    <tr>\n",
       "      <th>85</th>\n",
       "      <td>R. Mahrez</td>\n",
       "      <td>27</td>\n",
       "      <td>Manchester City</td>\n",
       "      <td>5.0</td>\n",
       "    </tr>\n",
       "    <tr>\n",
       "      <th>110</th>\n",
       "      <td>Z. Ibrahimović</td>\n",
       "      <td>36</td>\n",
       "      <td>LA Galaxy</td>\n",
       "      <td>5.0</td>\n",
       "    </tr>\n",
       "  </tbody>\n",
       "</table>\n",
       "</div>"
      ],
      "text/plain": [
       "                  Name  Age                 Club  Skill Moves\n",
       "2    Cristiano Ronaldo   33             Juventus          5.0\n",
       "3            Neymar Jr   26  Paris Saint-Germain          5.0\n",
       "26           K. Mbappé   19  Paris Saint-Germain          5.0\n",
       "33            Coutinho   26         FC Barcelona          5.0\n",
       "36             Marcelo   30          Real Madrid          5.0\n",
       "46            P. Pogba   25    Manchester United          5.0\n",
       "66       Douglas Costa   27             Juventus          5.0\n",
       "68              Thiago   27    FC Bayern München          5.0\n",
       "85           R. Mahrez   27      Manchester City          5.0\n",
       "110     Z. Ibrahimović   36            LA Galaxy          5.0"
      ]
     },
     "execution_count": 32,
     "metadata": {},
     "output_type": "execute_result"
    }
   ],
   "source": [
    "fifa[fifa[\"Skill Moves\"]==5.0][[\"Name\",\"Age\",\"Club\",\"Skill Moves\"]].head(10)"
   ]
  },
  {
   "cell_type": "markdown",
   "metadata": {
    "id": "LcvZkjw5zVhB"
   },
   "source": [
    "#### 10. List which age group has the most active professional players"
   ]
  },
  {
   "cell_type": "code",
   "execution_count": 33,
   "metadata": {
    "colab": {
     "base_uri": "https://localhost:8080/",
     "height": 297
    },
    "id": "IKGRHI7Mn-og",
    "outputId": "f4b36515-9ee6-4014-a9cd-607e7d01efd6"
   },
   "outputs": [
    {
     "data": {
      "image/png": "[encoded data removed]",
      "text/plain": [
       "<Figure size 504x288 with 1 Axes>"
      ]
     },
     "metadata": {},
     "output_type": "display_data"
    }
   ],
   "source": [
    "plt.figure(figsize=(7,4))\n",
    "fifa.Age.value_counts().head(10).plot(kind=\"bar\")\n",
    "plt.xticks(rotation=10)\n",
    "sns.set_style(\"whitegrid\")\n",
    "plt.title(\"Most active young professional players\")\n",
    "plt.xlabel(\"Age\")\n",
    "plt.ylabel(\"count in Thousands\")\n",
    "plt.show()"
   ]
  },
  {
   "cell_type": "markdown",
   "metadata": {
    "id": "i3Rg5k6VzhaI"
   },
   "source": [
    "- From age 21 - 25 there are most young players around 6772 players"
   ]
  },
  {
   "cell_type": "markdown",
   "metadata": {},
   "source": [
    "#### <a href=\"#Points\">Back To Top</a>"
   ]
  },
  {
   "cell_type": "markdown",
   "metadata": {
    "id": "1k66vCzczp2x"
   },
   "source": [
    "#### 11. List top 10 nations with most active professional players "
   ]
  },
  {
   "cell_type": "code",
   "execution_count": 34,
   "metadata": {
    "colab": {
     "base_uri": "https://localhost:8080/",
     "height": 307
    },
    "id": "wQl4qkudzazY",
    "outputId": "899c9922-3b1b-4e8f-e801-5faaa3b36e09"
   },
   "outputs": [
    {
     "data": {
      "image/png": "[encoded data removed]",
      "text/plain": [
       "<Figure size 576x288 with 1 Axes>"
      ]
     },
     "metadata": {},
     "output_type": "display_data"
    }
   ],
   "source": [
    "plt.figure(figsize=(8,4))\n",
    "fifa.Nationality.value_counts().head(10).plot(kind=\"barh\",color=\"orange\")\n",
    "plt.title(\"Top 5 Nations with most players\")\n",
    "plt.xlabel(\"count in Thousand\")\n",
    "plt.ylabel(\"Nationality\")\n",
    "sns.set_style(\"whitegrid\")\n",
    "plt.grid(False)\n",
    "plt.xticks(rotation=30)\n",
    "plt.show()"
   ]
  },
  {
   "cell_type": "markdown",
   "metadata": {
    "id": "iPrKrX2Sz1RY"
   },
   "source": [
    "- Europe countries has most professional players from England has the most players with 1662 players in the data followed by Germany 1198 and spain 1072\n",
    "- In south American Argentina 937 has most professional players then  Columbia 618 and Brazil 827\n",
    "- There is only one asian country Japan which has 478 professional players"
   ]
  },
  {
   "cell_type": "markdown",
   "metadata": {},
   "source": [
    "#### <a href=\"#Points\">Back To Top</a>"
   ]
  },
  {
   "cell_type": "markdown",
   "metadata": {
    "id": "tp1ttFKcz59h"
   },
   "source": [
    "#### 12. Average Height of Players"
   ]
  },
  {
   "cell_type": "code",
   "execution_count": 35,
   "metadata": {
    "colab": {
     "base_uri": "https://localhost:8080/",
     "height": 300
    },
    "id": "wKYWNBTDzt28",
    "outputId": "1f6b611a-2ecc-4401-848a-284075fb9e39"
   },
   "outputs": [
    {
     "data": {
      "image/png": "[encoded data removed]",
      "text/plain": [
       "<Figure size 576x288 with 1 Axes>"
      ]
     },
     "metadata": {},
     "output_type": "display_data"
    }
   ],
   "source": [
    "plt.figure(figsize=(8,4))\n",
    "sns.countplot(data=fifa,x=\"Height\",palette=\"dark\")\n",
    "plt.title(\"Count of Players Basis of Height\",fontsize=20)\n",
    "sns.set_style(\"darkgrid\")\n",
    "plt.show()"
   ]
  },
  {
   "cell_type": "markdown",
   "metadata": {},
   "source": [
    "#### <a href=\"#Points\">Back To Top</a>"
   ]
  },
  {
   "cell_type": "markdown",
   "metadata": {
    "id": "_GcbJ_x72UA7"
   },
   "source": [
    "#### 13. Work-Rates of players"
   ]
  },
  {
   "cell_type": "code",
   "execution_count": 36,
   "metadata": {
    "colab": {
     "base_uri": "https://localhost:8080/",
     "height": 350
    },
    "id": "H2DQvfjg2CEt",
    "outputId": "1f1d02c0-6f66-423a-f7b8-5ca7a687608c"
   },
   "outputs": [
    {
     "data": {
      "image/png": "[encoded data removed]",
      "text/plain": [
       "<Figure size 1008x360 with 1 Axes>"
      ]
     },
     "metadata": {},
     "output_type": "display_data"
    }
   ],
   "source": [
    "plt.figure(figsize=(14,5))\n",
    "plt.hist(fifa[\"Work Rate\"],rwidth=0.8,color=\"salmon\")\n",
    "plt.title(\"Different Work Rates of Players\")\n",
    "plt.xlabel(\"Work Rates\")\n",
    "plt.ylabel(\"Player counts\")\n",
    "plt.grid(False)\n",
    "plt.show()\n"
   ]
  },
  {
   "cell_type": "markdown",
   "metadata": {},
   "source": [
    "#### <a href=\"#Points\">Back To Top</a>"
   ]
  },
  {
   "cell_type": "markdown",
   "metadata": {
    "id": "MALE7nd35dIY"
   },
   "source": [
    "#### 14. Comparison of Overall scores of players"
   ]
  },
  {
   "cell_type": "code",
   "execution_count": 37,
   "metadata": {
    "colab": {
     "base_uri": "https://localhost:8080/",
     "height": 426
    },
    "id": "fsyv_PCO3fHf",
    "outputId": "f13bb339-371a-451a-d41d-7008ac84d10d"
   },
   "outputs": [
    {
     "data": {
      "text/plain": [
       "[]"
      ]
     },
     "execution_count": 37,
     "metadata": {},
     "output_type": "execute_result"
    },
    {
     "data": {
      "image/png": "[encoded data removed]",
      "text/plain": [
       "<Figure size 1008x432 with 1 Axes>"
      ]
     },
     "metadata": {},
     "output_type": "display_data"
    }
   ],
   "source": [
    "plt.figure(figsize=(14,6))\n",
    "sns.distplot(fifa[\"Overall\"],bins=52,kde=False,color=\"r\")\n",
    "plt.xlabel(\"Player Scores\")\n",
    "plt.ylabel(\"Player Counts\")\n",
    "plt.title(\"Players Overall Scores\",fontsize=20)\n",
    "sns.set(style=\"dark\",palette=\"deep\",color_codes=True)\n",
    "plt.plot()"
   ]
  },
  {
   "cell_type": "markdown",
   "metadata": {
    "id": "X0LdVWFwb-WZ"
   },
   "source": [
    "- More than 1000 players have 68% Overall Score\n",
    "- Only 5 Players have 90% Overall Score\n"
   ]
  },
  {
   "cell_type": "markdown",
   "metadata": {},
   "source": [
    "#### <a href=\"#Points\">Back To Top</a>"
   ]
  },
  {
   "cell_type": "markdown",
   "metadata": {
    "id": "mCWQsuV3dOnm"
   },
   "source": [
    "#### 15. Which Nation has the most Active Professional players"
   ]
  },
  {
   "cell_type": "code",
   "execution_count": 61,
   "metadata": {
    "colab": {
     "base_uri": "https://localhost:8080/",
     "height": 1000
    },
    "id": "NpXr-_VccNzj",
    "outputId": "dc550cc3-7568-4d8d-e34b-86c29e81f1e2"
   },
   "outputs": [
    {
     "data": {
      "text/plain": [
       "[]"
      ]
     },
     "execution_count": 61,
     "metadata": {},
     "output_type": "execute_result"
    },
    {
     "data": {
      "image/png": "[encoded data removed]",
      "text/plain": [
       "<Figure size 1080x1080 with 1 Axes>"
      ]
     },
     "metadata": {},
     "output_type": "display_data"
    }
   ],
   "source": [
    "plt.figure(figsize=(15,15))\n",
    "plt.style.use(\"dark_background\")\n",
    "fifa[\"Nationality\"].value_counts().head(75).plot(kind=\"bar\")\n",
    "plt.xlabel(\"Countries\",fontsize=20)\n",
    "plt.ylabel(\"Player Counts\",fontsize=20)\n",
    "plt.title(\"Most Active Pro Players wrt Nation\",\n",
    "          fontdict={\"fontname\":\"DejaVu Sans\",\"fontsize\":20})\n",
    "plt.grid(False)\n",
    "plt.plot()"
   ]
  },
  {
   "cell_type": "markdown",
   "metadata": {
    "id": "rnWRiYnZfByq"
   },
   "source": [
    "- England has most Active players of 1800 players count\n",
    "- Followed by Germany,Spain ,Argentina.Brazil"
   ]
  },
  {
   "cell_type": "markdown",
   "metadata": {},
   "source": [
    "#### <a href=\"#Points\">Back To Top</a>"
   ]
  },
  {
   "cell_type": "markdown",
   "metadata": {
    "id": "wwL9is76f_Qi"
   },
   "source": [
    "#### 16. Which Age of Players have most number of professional Players"
   ]
  },
  {
   "cell_type": "code",
   "execution_count": 39,
   "metadata": {
    "colab": {
     "base_uri": "https://localhost:8080/",
     "height": 495
    },
    "id": "asBJmwTsgEMX",
    "outputId": "a79f56cf-2111-4952-9646-6b8cce69fe09"
   },
   "outputs": [
    {
     "data": {
      "text/plain": [
       "[]"
      ]
     },
     "execution_count": 39,
     "metadata": {},
     "output_type": "execute_result"
    },
    {
     "data": {
      "image/png": "[encoded data removed]",
      "text/plain": [
       "<Figure size 720x504 with 1 Axes>"
      ]
     },
     "metadata": {},
     "output_type": "display_data"
    }
   ],
   "source": [
    "plt.figure(figsize=(10,7))\n",
    "sns.distplot(fifa[\"Age\"],kde=False,color=\"g\",bins=58)\n",
    "sns.set(style=\"dark\",palette=\"colorblind\",color_codes=True)\n",
    "plt.xlabel(\"Age\",fontsize=20)\n",
    "plt.ylabel(\"Player Counts\",fontsize=20)\n",
    "plt.title(\"Number of Age of Players \",\n",
    "          fontdict={\"fontname\":\"DejaVu Sans\",\"fontsize\":20})\n",
    "plt.plot()"
   ]
  },
  {
   "cell_type": "markdown",
   "metadata": {},
   "source": [
    "#### <a href=\"#Points\">Back To Top</a>"
   ]
  },
  {
   "cell_type": "markdown",
   "metadata": {
    "id": "yjU75bADiNCt"
   },
   "source": [
    "#### 17. Which Age group has got better Overall Scores"
   ]
  },
  {
   "cell_type": "code",
   "execution_count": 40,
   "metadata": {
    "colab": {
     "base_uri": "https://localhost:8080/",
     "height": 636
    },
    "id": "5S4iXyxrgGG-",
    "outputId": "2d49400c-6c62-4a43-fd07-d1799c83cc64"
   },
   "outputs": [
    {
     "data": {
      "image/png": "[encoded data removed]",
      "text/plain": [
       "<Figure size 1152x720 with 1 Axes>"
      ]
     },
     "metadata": {},
     "output_type": "display_data"
    }
   ],
   "source": [
    "plt.figure(figsize=(16,10))\n",
    "sns.boxplot(data=fifa,x=\"Overall\",y=\"Age\")\n",
    "plt.style.use(\"dark_background\")\n",
    "plt.xlabel(\"Overall\",fontsize=20)\n",
    "plt.ylabel(\"Age Groups\",fontsize=20)\n",
    "plt.title(\"Age Group vs Overall Scores\",\n",
    "          fontdict={\"fontname\":\"DejaVu Sans\",\"fontsize\":20})\n",
    "plt.show()"
   ]
  },
  {
   "cell_type": "markdown",
   "metadata": {
    "id": "4fwiTgjvmr8V"
   },
   "source": [
    "- Age between 30-35 has the higest 94% Overall Scores\n",
    "- The least Overall Score is 47% which has 18 Age group\n",
    "- By this data we can say that the more experience player gets the more overall scores the managed to get from the ratings "
   ]
  },
  {
   "cell_type": "markdown",
   "metadata": {},
   "source": [
    "#### <a href=\"#Points\">Back To Top</a>"
   ]
  },
  {
   "cell_type": "markdown",
   "metadata": {
    "id": "cC-dURcnpfFR"
   },
   "source": [
    "#### 18. Best Player per each position with their Age Name Club and Nationality based on Overall Score"
   ]
  },
  {
   "cell_type": "code",
   "execution_count": 41,
   "metadata": {
    "colab": {
     "base_uri": "https://localhost:8080/",
     "height": 881
    },
    "id": "ifW4hXtqjCfp",
    "outputId": "9d1645f2-1b51-49b4-9178-cade33def0df"
   },
   "outputs": [
    {
     "data": {
      "text/html": [
       "<div>\n",
       "<style scoped>\n",
       "    .dataframe tbody tr th:only-of-type {\n",
       "        vertical-align: middle;\n",
       "    }\n",
       "\n",
       "    .dataframe tbody tr th {\n",
       "        vertical-align: top;\n",
       "    }\n",
       "\n",
       "    .dataframe thead th {\n",
       "        text-align: right;\n",
       "    }\n",
       "</style>\n",
       "<table border=\"1\" class=\"dataframe\">\n",
       "  <thead>\n",
       "    <tr style=\"text-align: right;\">\n",
       "      <th></th>\n",
       "      <th>Position</th>\n",
       "      <th>Name</th>\n",
       "      <th>Age</th>\n",
       "      <th>Club</th>\n",
       "      <th>Nationality</th>\n",
       "      <th>Overall</th>\n",
       "    </tr>\n",
       "  </thead>\n",
       "  <tbody>\n",
       "    <tr>\n",
       "      <th>19</th>\n",
       "      <td>GK</td>\n",
       "      <td>M. ter Stegen</td>\n",
       "      <td>26</td>\n",
       "      <td>FC Barcelona</td>\n",
       "      <td>Germany</td>\n",
       "      <td>89</td>\n",
       "    </tr>\n",
       "    <tr>\n",
       "      <th>14</th>\n",
       "      <td>LCM</td>\n",
       "      <td>David Silva</td>\n",
       "      <td>32</td>\n",
       "      <td>Manchester City</td>\n",
       "      <td>Spain</td>\n",
       "      <td>90</td>\n",
       "    </tr>\n",
       "    <tr>\n",
       "      <th>22</th>\n",
       "      <td>LS</td>\n",
       "      <td>E. Cavani</td>\n",
       "      <td>31</td>\n",
       "      <td>Paris Saint-Germain</td>\n",
       "      <td>Uruguay</td>\n",
       "      <td>89</td>\n",
       "    </tr>\n",
       "    <tr>\n",
       "      <th>273</th>\n",
       "      <td>LF</td>\n",
       "      <td>Jonathan Viera</td>\n",
       "      <td>28</td>\n",
       "      <td>Beijing Sinobo Guoan FC</td>\n",
       "      <td>Spain</td>\n",
       "      <td>82</td>\n",
       "    </tr>\n",
       "    <tr>\n",
       "      <th>69</th>\n",
       "      <td>LM</td>\n",
       "      <td>M. Reus</td>\n",
       "      <td>29</td>\n",
       "      <td>Borussia Dortmund</td>\n",
       "      <td>Germany</td>\n",
       "      <td>86</td>\n",
       "    </tr>\n",
       "    <tr>\n",
       "      <th>5</th>\n",
       "      <td>RCM</td>\n",
       "      <td>K. De Bruyne</td>\n",
       "      <td>27</td>\n",
       "      <td>Manchester City</td>\n",
       "      <td>Belgium</td>\n",
       "      <td>91</td>\n",
       "    </tr>\n",
       "    <tr>\n",
       "      <th>30</th>\n",
       "      <td>LW</td>\n",
       "      <td>L. Insigne</td>\n",
       "      <td>27</td>\n",
       "      <td>Napoli</td>\n",
       "      <td>Italy</td>\n",
       "      <td>88</td>\n",
       "    </tr>\n",
       "    <tr>\n",
       "      <th>37</th>\n",
       "      <td>ST</td>\n",
       "      <td>G. Bale</td>\n",
       "      <td>28</td>\n",
       "      <td>Real Madrid</td>\n",
       "      <td>Wales</td>\n",
       "      <td>88</td>\n",
       "    </tr>\n",
       "    <tr>\n",
       "      <th>26</th>\n",
       "      <td>RM</td>\n",
       "      <td>K. Mbappé</td>\n",
       "      <td>19</td>\n",
       "      <td>Paris Saint-Germain</td>\n",
       "      <td>France</td>\n",
       "      <td>88</td>\n",
       "    </tr>\n",
       "    <tr>\n",
       "      <th>13</th>\n",
       "      <td>CB</td>\n",
       "      <td>D. Godín</td>\n",
       "      <td>32</td>\n",
       "      <td>Atlético Madrid</td>\n",
       "      <td>Uruguay</td>\n",
       "      <td>90</td>\n",
       "    </tr>\n",
       "    <tr>\n",
       "      <th>16</th>\n",
       "      <td>LF</td>\n",
       "      <td>P. Dybala</td>\n",
       "      <td>24</td>\n",
       "      <td>Juventus</td>\n",
       "      <td>Argentina</td>\n",
       "      <td>89</td>\n",
       "    </tr>\n",
       "    <tr>\n",
       "      <th>7</th>\n",
       "      <td>RCM</td>\n",
       "      <td>L. Modrić</td>\n",
       "      <td>32</td>\n",
       "      <td>Real Madrid</td>\n",
       "      <td>Croatia</td>\n",
       "      <td>91</td>\n",
       "    </tr>\n",
       "    <tr>\n",
       "      <th>35</th>\n",
       "      <td>LCB</td>\n",
       "      <td>M. Hummels</td>\n",
       "      <td>29</td>\n",
       "      <td>FC Bayern München</td>\n",
       "      <td>Germany</td>\n",
       "      <td>88</td>\n",
       "    </tr>\n",
       "    <tr>\n",
       "      <th>23</th>\n",
       "      <td>GK</td>\n",
       "      <td>M. Neuer</td>\n",
       "      <td>32</td>\n",
       "      <td>FC Bayern München</td>\n",
       "      <td>Germany</td>\n",
       "      <td>89</td>\n",
       "    </tr>\n",
       "    <tr>\n",
       "      <th>4</th>\n",
       "      <td>GK</td>\n",
       "      <td>De Gea</td>\n",
       "      <td>27</td>\n",
       "      <td>Manchester United</td>\n",
       "      <td>Spain</td>\n",
       "      <td>91</td>\n",
       "    </tr>\n",
       "    <tr>\n",
       "      <th>476</th>\n",
       "      <td>LB</td>\n",
       "      <td>L. Digne</td>\n",
       "      <td>24</td>\n",
       "      <td>Everton</td>\n",
       "      <td>France</td>\n",
       "      <td>80</td>\n",
       "    </tr>\n",
       "    <tr>\n",
       "      <th>131</th>\n",
       "      <td>ST</td>\n",
       "      <td>Iago Aspas</td>\n",
       "      <td>30</td>\n",
       "      <td>RC Celta</td>\n",
       "      <td>Spain</td>\n",
       "      <td>84</td>\n",
       "    </tr>\n",
       "    <tr>\n",
       "      <th>71</th>\n",
       "      <td>RCB</td>\n",
       "      <td>L. Bonucci</td>\n",
       "      <td>31</td>\n",
       "      <td>Juventus</td>\n",
       "      <td>Italy</td>\n",
       "      <td>86</td>\n",
       "    </tr>\n",
       "    <tr>\n",
       "      <th>10</th>\n",
       "      <td>GK</td>\n",
       "      <td>J. Oblak</td>\n",
       "      <td>25</td>\n",
       "      <td>Atlético Madrid</td>\n",
       "      <td>Slovenia</td>\n",
       "      <td>90</td>\n",
       "    </tr>\n",
       "    <tr>\n",
       "      <th>6</th>\n",
       "      <td>LF</td>\n",
       "      <td>E. Hazard</td>\n",
       "      <td>27</td>\n",
       "      <td>Chelsea</td>\n",
       "      <td>Belgium</td>\n",
       "      <td>91</td>\n",
       "    </tr>\n",
       "    <tr>\n",
       "      <th>47</th>\n",
       "      <td>GK</td>\n",
       "      <td>K. Navas</td>\n",
       "      <td>31</td>\n",
       "      <td>Real Madrid</td>\n",
       "      <td>Costa Rica</td>\n",
       "      <td>87</td>\n",
       "    </tr>\n",
       "    <tr>\n",
       "      <th>2</th>\n",
       "      <td>ST</td>\n",
       "      <td>Cristiano Ronaldo</td>\n",
       "      <td>33</td>\n",
       "      <td>Juventus</td>\n",
       "      <td>Portugal</td>\n",
       "      <td>94</td>\n",
       "    </tr>\n",
       "    <tr>\n",
       "      <th>27</th>\n",
       "      <td>RM</td>\n",
       "      <td>M. Salah</td>\n",
       "      <td>26</td>\n",
       "      <td>Liverpool</td>\n",
       "      <td>Egypt</td>\n",
       "      <td>88</td>\n",
       "    </tr>\n",
       "    <tr>\n",
       "      <th>9</th>\n",
       "      <td>RCB</td>\n",
       "      <td>Sergio Ramos</td>\n",
       "      <td>32</td>\n",
       "      <td>Real Madrid</td>\n",
       "      <td>Spain</td>\n",
       "      <td>91</td>\n",
       "    </tr>\n",
       "    <tr>\n",
       "      <th>58</th>\n",
       "      <td>GK</td>\n",
       "      <td>Ederson</td>\n",
       "      <td>24</td>\n",
       "      <td>Manchester City</td>\n",
       "      <td>Brazil</td>\n",
       "      <td>86</td>\n",
       "    </tr>\n",
       "    <tr>\n",
       "      <th>452</th>\n",
       "      <td>RCB</td>\n",
       "      <td>M. Keane</td>\n",
       "      <td>25</td>\n",
       "      <td>Everton</td>\n",
       "      <td>England</td>\n",
       "      <td>80</td>\n",
       "    </tr>\n",
       "    <tr>\n",
       "      <th>3</th>\n",
       "      <td>LW</td>\n",
       "      <td>Neymar Jr</td>\n",
       "      <td>26</td>\n",
       "      <td>Paris Saint-Germain</td>\n",
       "      <td>Brazil</td>\n",
       "      <td>92</td>\n",
       "    </tr>\n",
       "  </tbody>\n",
       "</table>\n",
       "</div>"
      ],
      "text/plain": [
       "    Position               Name  Age                     Club Nationality  \\\n",
       "19        GK      M. ter Stegen   26             FC Barcelona     Germany   \n",
       "14       LCM        David Silva   32          Manchester City       Spain   \n",
       "22        LS          E. Cavani   31      Paris Saint-Germain     Uruguay   \n",
       "273       LF     Jonathan Viera   28  Beijing Sinobo Guoan FC       Spain   \n",
       "69        LM            M. Reus   29        Borussia Dortmund     Germany   \n",
       "5        RCM       K. De Bruyne   27          Manchester City     Belgium   \n",
       "30        LW         L. Insigne   27                   Napoli       Italy   \n",
       "37        ST            G. Bale   28              Real Madrid       Wales   \n",
       "26        RM          K. Mbappé   19      Paris Saint-Germain      France   \n",
       "13        CB           D. Godín   32          Atlético Madrid     Uruguay   \n",
       "16        LF          P. Dybala   24                 Juventus   Argentina   \n",
       "7        RCM          L. Modrić   32              Real Madrid     Croatia   \n",
       "35       LCB         M. Hummels   29        FC Bayern München     Germany   \n",
       "23        GK           M. Neuer   32        FC Bayern München     Germany   \n",
       "4         GK             De Gea   27        Manchester United       Spain   \n",
       "476       LB           L. Digne   24                  Everton      France   \n",
       "131       ST         Iago Aspas   30                 RC Celta       Spain   \n",
       "71       RCB         L. Bonucci   31                 Juventus       Italy   \n",
       "10        GK           J. Oblak   25          Atlético Madrid    Slovenia   \n",
       "6         LF          E. Hazard   27                  Chelsea     Belgium   \n",
       "47        GK           K. Navas   31              Real Madrid  Costa Rica   \n",
       "2         ST  Cristiano Ronaldo   33                 Juventus    Portugal   \n",
       "27        RM           M. Salah   26                Liverpool       Egypt   \n",
       "9        RCB       Sergio Ramos   32              Real Madrid       Spain   \n",
       "58        GK            Ederson   24          Manchester City      Brazil   \n",
       "452      RCB           M. Keane   25                  Everton     England   \n",
       "3         LW          Neymar Jr   26      Paris Saint-Germain      Brazil   \n",
       "\n",
       "     Overall  \n",
       "19        89  \n",
       "14        90  \n",
       "22        89  \n",
       "273       82  \n",
       "69        86  \n",
       "5         91  \n",
       "30        88  \n",
       "37        88  \n",
       "26        88  \n",
       "13        90  \n",
       "16        89  \n",
       "7         91  \n",
       "35        88  \n",
       "23        89  \n",
       "4         91  \n",
       "476       80  \n",
       "131       84  \n",
       "71        86  \n",
       "10        90  \n",
       "6         91  \n",
       "47        87  \n",
       "2         94  \n",
       "27        88  \n",
       "9         91  \n",
       "58        86  \n",
       "452       80  \n",
       "3         92  "
      ]
     },
     "execution_count": 41,
     "metadata": {},
     "output_type": "execute_result"
    }
   ],
   "source": [
    "fifa.iloc[fifa.groupby(\"Position\")[\"Overall\"].idxmax()][[\"Position\",\"Name\",\"Age\",\"Club\",\"Nationality\",\"Overall\"]]"
   ]
  },
  {
   "cell_type": "markdown",
   "metadata": {},
   "source": [
    "#### <a href=\"#Points\">Back To Top</a>"
   ]
  },
  {
   "cell_type": "markdown",
   "metadata": {
    "id": "Ldm5mjFaueSc"
   },
   "source": [
    "#### 19. Best Player per each position with their Age Name Club and Nationality based on SprintSpeed "
   ]
  },
  {
   "cell_type": "code",
   "execution_count": 42,
   "metadata": {
    "colab": {
     "base_uri": "https://localhost:8080/",
     "height": 881
    },
    "id": "DHZZV0Y2tjTD",
    "outputId": "8387cff3-de22-4231-846b-4a7efe8068b5"
   },
   "outputs": [
    {
     "data": {
      "text/html": [
       "<div>\n",
       "<style scoped>\n",
       "    .dataframe tbody tr th:only-of-type {\n",
       "        vertical-align: middle;\n",
       "    }\n",
       "\n",
       "    .dataframe tbody tr th {\n",
       "        vertical-align: top;\n",
       "    }\n",
       "\n",
       "    .dataframe thead th {\n",
       "        text-align: right;\n",
       "    }\n",
       "</style>\n",
       "<table border=\"1\" class=\"dataframe\">\n",
       "  <thead>\n",
       "    <tr style=\"text-align: right;\">\n",
       "      <th></th>\n",
       "      <th>Position</th>\n",
       "      <th>Name</th>\n",
       "      <th>Age</th>\n",
       "      <th>Club</th>\n",
       "      <th>Nationality</th>\n",
       "      <th>SprintSpeed</th>\n",
       "    </tr>\n",
       "  </thead>\n",
       "  <tbody>\n",
       "    <tr>\n",
       "      <th>898</th>\n",
       "      <td>RM</td>\n",
       "      <td>G. Pereiro</td>\n",
       "      <td>23</td>\n",
       "      <td>PSV</td>\n",
       "      <td>Uruguay</td>\n",
       "      <td>75.0</td>\n",
       "    </tr>\n",
       "    <tr>\n",
       "      <th>9873</th>\n",
       "      <td>GK</td>\n",
       "      <td>K. Kamiński</td>\n",
       "      <td>27</td>\n",
       "      <td>Júbilo Iwata</td>\n",
       "      <td>Poland</td>\n",
       "      <td>44.0</td>\n",
       "    </tr>\n",
       "    <tr>\n",
       "      <th>16963</th>\n",
       "      <td>LW</td>\n",
       "      <td>S. Abifade</td>\n",
       "      <td>18</td>\n",
       "      <td>Eintracht Braunschweig</td>\n",
       "      <td>Germany</td>\n",
       "      <td>82.0</td>\n",
       "    </tr>\n",
       "    <tr>\n",
       "      <th>6821</th>\n",
       "      <td>GK</td>\n",
       "      <td>F. Kaplan</td>\n",
       "      <td>29</td>\n",
       "      <td>Antalyaspor</td>\n",
       "      <td>Turkey</td>\n",
       "      <td>44.0</td>\n",
       "    </tr>\n",
       "    <tr>\n",
       "      <th>15884</th>\n",
       "      <td>RB</td>\n",
       "      <td>Du Wenyang</td>\n",
       "      <td>28</td>\n",
       "      <td>Hebei China Fortune FC</td>\n",
       "      <td>China PR</td>\n",
       "      <td>58.0</td>\n",
       "    </tr>\n",
       "    <tr>\n",
       "      <th>1917</th>\n",
       "      <td>RCM</td>\n",
       "      <td>V. Guzmán</td>\n",
       "      <td>23</td>\n",
       "      <td>Pachuca</td>\n",
       "      <td>Mexico</td>\n",
       "      <td>76.0</td>\n",
       "    </tr>\n",
       "    <tr>\n",
       "      <th>6126</th>\n",
       "      <td>CB</td>\n",
       "      <td>R. Vincelot</td>\n",
       "      <td>32</td>\n",
       "      <td>Crawley Town</td>\n",
       "      <td>France</td>\n",
       "      <td>59.0</td>\n",
       "    </tr>\n",
       "    <tr>\n",
       "      <th>51</th>\n",
       "      <td>RF</td>\n",
       "      <td>D. Mertens</td>\n",
       "      <td>31</td>\n",
       "      <td>Napoli</td>\n",
       "      <td>Belgium</td>\n",
       "      <td>85.0</td>\n",
       "    </tr>\n",
       "    <tr>\n",
       "      <th>1254</th>\n",
       "      <td>RM</td>\n",
       "      <td>F. Bartels</td>\n",
       "      <td>31</td>\n",
       "      <td>SV Werder Bremen</td>\n",
       "      <td>Germany</td>\n",
       "      <td>76.0</td>\n",
       "    </tr>\n",
       "    <tr>\n",
       "      <th>3571</th>\n",
       "      <td>LCB</td>\n",
       "      <td>Diego Ângelo</td>\n",
       "      <td>32</td>\n",
       "      <td>Antalyaspor</td>\n",
       "      <td>Brazil</td>\n",
       "      <td>37.0</td>\n",
       "    </tr>\n",
       "    <tr>\n",
       "      <th>4194</th>\n",
       "      <td>RAM</td>\n",
       "      <td>L. Seijas</td>\n",
       "      <td>32</td>\n",
       "      <td>Independiente Santa Fe</td>\n",
       "      <td>Venezuela</td>\n",
       "      <td>64.0</td>\n",
       "    </tr>\n",
       "    <tr>\n",
       "      <th>7</th>\n",
       "      <td>RCM</td>\n",
       "      <td>L. Modrić</td>\n",
       "      <td>32</td>\n",
       "      <td>Real Madrid</td>\n",
       "      <td>Croatia</td>\n",
       "      <td>72.0</td>\n",
       "    </tr>\n",
       "    <tr>\n",
       "      <th>35</th>\n",
       "      <td>LCB</td>\n",
       "      <td>M. Hummels</td>\n",
       "      <td>29</td>\n",
       "      <td>FC Bayern München</td>\n",
       "      <td>Germany</td>\n",
       "      <td>64.0</td>\n",
       "    </tr>\n",
       "    <tr>\n",
       "      <th>331</th>\n",
       "      <td>LS</td>\n",
       "      <td>Morales</td>\n",
       "      <td>30</td>\n",
       "      <td>Levante UD</td>\n",
       "      <td>Spain</td>\n",
       "      <td>88.0</td>\n",
       "    </tr>\n",
       "    <tr>\n",
       "      <th>57</th>\n",
       "      <td>RW</td>\n",
       "      <td>Bernardo Silva</td>\n",
       "      <td>23</td>\n",
       "      <td>Manchester City</td>\n",
       "      <td>Portugal</td>\n",
       "      <td>74.0</td>\n",
       "    </tr>\n",
       "    <tr>\n",
       "      <th>8631</th>\n",
       "      <td>LB</td>\n",
       "      <td>V. Kostevych</td>\n",
       "      <td>25</td>\n",
       "      <td>Lech Poznań</td>\n",
       "      <td>Ukraine</td>\n",
       "      <td>80.0</td>\n",
       "    </tr>\n",
       "    <tr>\n",
       "      <th>131</th>\n",
       "      <td>ST</td>\n",
       "      <td>Iago Aspas</td>\n",
       "      <td>30</td>\n",
       "      <td>RC Celta</td>\n",
       "      <td>Spain</td>\n",
       "      <td>78.0</td>\n",
       "    </tr>\n",
       "    <tr>\n",
       "      <th>2598</th>\n",
       "      <td>LW</td>\n",
       "      <td>J. Gallardo</td>\n",
       "      <td>23</td>\n",
       "      <td>Monterrey</td>\n",
       "      <td>Mexico</td>\n",
       "      <td>77.0</td>\n",
       "    </tr>\n",
       "    <tr>\n",
       "      <th>1770</th>\n",
       "      <td>RB</td>\n",
       "      <td>K. Laimer</td>\n",
       "      <td>21</td>\n",
       "      <td>RB Leipzig</td>\n",
       "      <td>Austria</td>\n",
       "      <td>79.0</td>\n",
       "    </tr>\n",
       "    <tr>\n",
       "      <th>4870</th>\n",
       "      <td>LB</td>\n",
       "      <td>C. Ascues</td>\n",
       "      <td>26</td>\n",
       "      <td>Orlando City SC</td>\n",
       "      <td>Peru</td>\n",
       "      <td>67.0</td>\n",
       "    </tr>\n",
       "    <tr>\n",
       "      <th>9261</th>\n",
       "      <td>RB</td>\n",
       "      <td>J. Rafferty</td>\n",
       "      <td>24</td>\n",
       "      <td>Rochdale</td>\n",
       "      <td>Republic of Ireland</td>\n",
       "      <td>77.0</td>\n",
       "    </tr>\n",
       "    <tr>\n",
       "      <th>6163</th>\n",
       "      <td>ST</td>\n",
       "      <td>E. Rescaldani</td>\n",
       "      <td>26</td>\n",
       "      <td>Patronato</td>\n",
       "      <td>Argentina</td>\n",
       "      <td>36.0</td>\n",
       "    </tr>\n",
       "    <tr>\n",
       "      <th>27</th>\n",
       "      <td>RM</td>\n",
       "      <td>M. Salah</td>\n",
       "      <td>26</td>\n",
       "      <td>Liverpool</td>\n",
       "      <td>Egypt</td>\n",
       "      <td>91.0</td>\n",
       "    </tr>\n",
       "    <tr>\n",
       "      <th>14217</th>\n",
       "      <td>ST</td>\n",
       "      <td>M. Al Mania</td>\n",
       "      <td>22</td>\n",
       "      <td>Al Hazem</td>\n",
       "      <td>Saudi Arabia</td>\n",
       "      <td>80.0</td>\n",
       "    </tr>\n",
       "    <tr>\n",
       "      <th>1970</th>\n",
       "      <td>CAM</td>\n",
       "      <td>O. Duda</td>\n",
       "      <td>23</td>\n",
       "      <td>Hertha BSC</td>\n",
       "      <td>Slovakia</td>\n",
       "      <td>67.0</td>\n",
       "    </tr>\n",
       "    <tr>\n",
       "      <th>13535</th>\n",
       "      <td>GK</td>\n",
       "      <td>Sui Weijie</td>\n",
       "      <td>35</td>\n",
       "      <td>Chongqing Dangdai Lifan FC SWM Team</td>\n",
       "      <td>China PR</td>\n",
       "      <td>58.0</td>\n",
       "    </tr>\n",
       "    <tr>\n",
       "      <th>38</th>\n",
       "      <td>GK</td>\n",
       "      <td>H. Lloris</td>\n",
       "      <td>31</td>\n",
       "      <td>Tottenham Hotspur</td>\n",
       "      <td>France</td>\n",
       "      <td>62.0</td>\n",
       "    </tr>\n",
       "  </tbody>\n",
       "</table>\n",
       "</div>"
      ],
      "text/plain": [
       "      Position            Name  Age                                 Club  \\\n",
       "898         RM      G. Pereiro   23                                  PSV   \n",
       "9873        GK     K. Kamiński   27                         Júbilo Iwata   \n",
       "16963       LW      S. Abifade   18               Eintracht Braunschweig   \n",
       "6821        GK       F. Kaplan   29                          Antalyaspor   \n",
       "15884       RB      Du Wenyang   28               Hebei China Fortune FC   \n",
       "1917       RCM       V. Guzmán   23                              Pachuca   \n",
       "6126        CB     R. Vincelot   32                         Crawley Town   \n",
       "51          RF      D. Mertens   31                               Napoli   \n",
       "1254        RM      F. Bartels   31                     SV Werder Bremen   \n",
       "3571       LCB    Diego Ângelo   32                          Antalyaspor   \n",
       "4194       RAM       L. Seijas   32               Independiente Santa Fe   \n",
       "7          RCM       L. Modrić   32                          Real Madrid   \n",
       "35         LCB      M. Hummels   29                    FC Bayern München   \n",
       "331         LS         Morales   30                           Levante UD   \n",
       "57          RW  Bernardo Silva   23                      Manchester City   \n",
       "8631        LB    V. Kostevych   25                          Lech Poznań   \n",
       "131         ST      Iago Aspas   30                             RC Celta   \n",
       "2598        LW     J. Gallardo   23                            Monterrey   \n",
       "1770        RB       K. Laimer   21                           RB Leipzig   \n",
       "4870        LB       C. Ascues   26                      Orlando City SC   \n",
       "9261        RB     J. Rafferty   24                             Rochdale   \n",
       "6163        ST   E. Rescaldani   26                            Patronato   \n",
       "27          RM        M. Salah   26                            Liverpool   \n",
       "14217       ST     M. Al Mania   22                             Al Hazem   \n",
       "1970       CAM         O. Duda   23                           Hertha BSC   \n",
       "13535       GK      Sui Weijie   35  Chongqing Dangdai Lifan FC SWM Team   \n",
       "38          GK       H. Lloris   31                    Tottenham Hotspur   \n",
       "\n",
       "               Nationality  SprintSpeed  \n",
       "898                Uruguay         75.0  \n",
       "9873                Poland         44.0  \n",
       "16963              Germany         82.0  \n",
       "6821                Turkey         44.0  \n",
       "15884             China PR         58.0  \n",
       "1917                Mexico         76.0  \n",
       "6126                France         59.0  \n",
       "51                 Belgium         85.0  \n",
       "1254               Germany         76.0  \n",
       "3571                Brazil         37.0  \n",
       "4194             Venezuela         64.0  \n",
       "7                  Croatia         72.0  \n",
       "35                 Germany         64.0  \n",
       "331                  Spain         88.0  \n",
       "57                Portugal         74.0  \n",
       "8631               Ukraine         80.0  \n",
       "131                  Spain         78.0  \n",
       "2598                Mexico         77.0  \n",
       "1770               Austria         79.0  \n",
       "4870                  Peru         67.0  \n",
       "9261   Republic of Ireland         77.0  \n",
       "6163             Argentina         36.0  \n",
       "27                   Egypt         91.0  \n",
       "14217         Saudi Arabia         80.0  \n",
       "1970              Slovakia         67.0  \n",
       "13535             China PR         58.0  \n",
       "38                  France         62.0  "
      ]
     },
     "execution_count": 42,
     "metadata": {},
     "output_type": "execute_result"
    }
   ],
   "source": [
    "fifa.iloc[fifa.groupby(\"Position\")[\"SprintSpeed\"].idxmax()][[\"Position\",\"Name\",\"Age\",\"Club\",\"Nationality\",\"SprintSpeed\"]]"
   ]
  },
  {
   "cell_type": "markdown",
   "metadata": {},
   "source": [
    "#### <a href=\"#Points\">Back To Top</a>"
   ]
  },
  {
   "cell_type": "markdown",
   "metadata": {
    "id": "TAiSko4KMz_x"
   },
   "source": [
    "#### 20. Every Nation With their Strength Comparison"
   ]
  },
  {
   "cell_type": "code",
   "execution_count": 43,
   "metadata": {
    "colab": {
     "base_uri": "https://localhost:8080/",
     "height": 366
    },
    "id": "zksLoI92v5SM",
    "outputId": "19f9b79c-aba2-4ccf-dc64-50a17ed29227"
   },
   "outputs": [
    {
     "data": {
      "image/png": "[encoded data removed]",
      "text/plain": [
       "<Figure size 720x360 with 1 Axes>"
      ]
     },
     "metadata": {},
     "output_type": "display_data"
    }
   ],
   "source": [
    "plt.figure(figsize=(10,5))\n",
    "list1 = [\"Spain\",\"Columbia\",\"Argentina\",\"France\",\"Portugal\",\"England\",\"Germany\",\"Brazil\",\"India\"]\n",
    "list2 = fifa.loc[fifa[\"Nationality\"].isin(list1) & fifa[\"Weight\"]]\n",
    "\n",
    "\n",
    "sns.violinplot(x=list2[\"Nationality\"],y=list2[\"Strength\"],palette=\"Reds\")\n",
    "plt.xlabel(\"Countries\",fontsize=20)\n",
    "plt.ylabel(\"Strength Ratings\",fontsize=20)\n",
    "plt.grid(False)\n",
    "sns.set(style=\"white\",palette=\"colorblind\",color_codes=True)\n",
    "plt.title(\"Every Nation With their Strength Comparison\",fontsize=20)\n",
    "plt.show()"
   ]
  },
  {
   "cell_type": "markdown",
   "metadata": {
    "id": "cRi2OjkCAKM8"
   },
   "source": [
    "- England has the better strength players \n",
    "- Argentina also has better strength players from 24 - 96 ratings for strength\n",
    "- India has the top rating of 85% for strength "
   ]
  },
  {
   "cell_type": "markdown",
   "metadata": {},
   "source": [
    "#### <a href=\"#Points\">Back To Top</a>"
   ]
  },
  {
   "cell_type": "markdown",
   "metadata": {
    "id": "fJysPD3K_0oW"
   },
   "source": [
    "#### 21. Which Preferred Foot has the maximum ShotPower for Penalties"
   ]
  },
  {
   "cell_type": "code",
   "execution_count": 44,
   "metadata": {
    "colab": {
     "base_uri": "https://localhost:8080/",
     "height": 615
    },
    "id": "6gMaZzB36-U4",
    "outputId": "c0e070d6-7e43-454e-ebb2-ce7287c182c0"
   },
   "outputs": [
    {
     "data": {
      "image/png": "[encoded data removed]",
      "text/plain": [
       "<Figure size 720x720 with 1 Axes>"
      ]
     },
     "metadata": {},
     "output_type": "display_data"
    }
   ],
   "source": [
    "plt.figure(figsize=(10,10))\n",
    "sns.lineplot(data=fifa,x=\"ShotPower\",y=\"Penalties\",hue=\"Preferred Foot\")\n",
    "plt.grid(False)\n",
    "sns.set_style(\"dark\")\n",
    "plt.show()"
   ]
  },
  {
   "cell_type": "markdown",
   "metadata": {
    "id": "9T0lGRKaEwai"
   },
   "source": [
    "- By this data we can say that , The more the shotPower has the higher chance of scoring a penalty\n",
    "- Right foot players can take a better penalty shot as compared to left foot player\n",
    "- If your ShotPower is above 80% then the chances is higher for scoring penalties by Right Foot"
   ]
  },
  {
   "cell_type": "markdown",
   "metadata": {},
   "source": [
    "#### <a href=\"#Points\">Back To Top</a>"
   ]
  },
  {
   "cell_type": "markdown",
   "metadata": {
    "id": "MYiPCncnA4kO"
   },
   "source": [
    "#### 22. Distribution of Penalties Scores of players from different countries"
   ]
  },
  {
   "cell_type": "code",
   "execution_count": 45,
   "metadata": {
    "colab": {
     "base_uri": "https://localhost:8080/",
     "height": 421
    },
    "id": "jH4bYwBN7siX",
    "outputId": "35178c90-ec85-4c26-bc51-ccc6546d78fb"
   },
   "outputs": [
    {
     "data": {
      "image/png": "[encoded data removed]",
      "text/plain": [
       "<Figure size 720x432 with 1 Axes>"
      ]
     },
     "metadata": {},
     "output_type": "display_data"
    }
   ],
   "source": [
    "plt.figure(figsize=(10,6))\n",
    "a = [\"England\",\"France\",\"Germany\",\"Spain\",\"Portugal\",\"Argentina\",\"Brazil\",\"Chile\",\"Japan\"]\n",
    "b = fifa.loc[fifa[\"Nationality\"].isin(a) & fifa[\"Penalties\"]]\n",
    "sns.barplot(x=b[\"Nationality\"],y=b[\"Penalties\"],palette=\"spring\")\n",
    "plt.style.use(\"dark_background\")\n",
    "plt.xlabel(\"Nationality\",fontsize=20)\n",
    "plt.ylabel(\"Penalties\",fontsize=20)\n",
    "plt.title(\"Penalties Scores comparison of different nations\",fontsize=20)\n",
    "plt.show()"
   ]
  },
  {
   "cell_type": "markdown",
   "metadata": {
    "id": "HRuOubfjDYPN"
   },
   "source": [
    "- From the data Brazil has better penalty scorers\n",
    "- Portugal also have more than 50% penalty takers\n",
    "- Japan has the lowest rank among all the countries"
   ]
  },
  {
   "cell_type": "markdown",
   "metadata": {},
   "source": [
    "#### <a href=\"#Points\">Back To Top</a>"
   ]
  },
  {
   "cell_type": "markdown",
   "metadata": {
    "id": "x8K4o6jqmUcD"
   },
   "source": [
    "#### 23. Top 20 Most Aggresive Players"
   ]
  },
  {
   "cell_type": "code",
   "execution_count": 57,
   "metadata": {
    "colab": {
     "base_uri": "https://localhost:8080/",
     "height": 529
    },
    "id": "gtZ5k75emXWA",
    "outputId": "6053976a-9ac9-4c69-db30-f525afe4fb2a"
   },
   "outputs": [
    {
     "data": {
      "image/png": "[encoded data removed]",
      "text/plain": [
       "<Figure size 936x576 with 1 Axes>"
      ]
     },
     "metadata": {},
     "output_type": "display_data"
    }
   ],
   "source": [
    "x = fifa.groupby(\"Aggression\")[\"Name\"].max().sort_values(ascending=True).head(20)\n",
    "\n",
    "plt.figure(figsize=(13,8))\n",
    "sns.barplot(x.index,x.values)\n",
    "sns.set_style(\"whitegrid\")\n",
    "plt.xlabel(\"Aggression Rating\",fontsize=20)\n",
    "plt.ylabel(\"Player Name\",fontsize=20)\n",
    "plt.title(\"Top 20 Most Aggresive Players\",\n",
    "          fontdict={\"fontname\":\"DejaVu Sans\",\"fontsize\":20})\n",
    "plt.show()"
   ]
  },
  {
   "cell_type": "markdown",
   "metadata": {},
   "source": [
    "#### <a href=\"#Points\">Back To Top</a>"
   ]
  },
  {
   "cell_type": "markdown",
   "metadata": {
    "id": "AUcDxdYXrJw-"
   },
   "source": [
    "#### 24. Top European Clubs with high Wages"
   ]
  },
  {
   "cell_type": "code",
   "execution_count": 47,
   "metadata": {
    "colab": {
     "base_uri": "https://localhost:8080/",
     "height": 579
    },
    "id": "mX1Q_pwZmYyI",
    "outputId": "0cba2951-7234-46c8-dfd4-1a61364b8ee5"
   },
   "outputs": [
    {
     "data": {
      "image/png": "[encoded data removed]",
      "text/plain": [
       "<Figure size 1008x504 with 1 Axes>"
      ]
     },
     "metadata": {},
     "output_type": "display_data"
    }
   ],
   "source": [
    "plt.figure(figsize=(14,7))\n",
    "clubs = [\"Real Madrid\",\"Juventus\",\"FC Barcelona\",\"Paris Saint-Germain\",\"Manchester City\",\"FC Bayern München\",\"Chelsea\",\"Manchester United\",\" FC Bayern München\",\"Arsenal\"]\n",
    "data_clubs = fifa.loc[fifa[\"Club\"].isin(clubs) & fifa[\"Wage\"]]\n",
    "\n",
    "sns.boxplot(x=data_clubs[\"Club\"],y = data_clubs[\"Wage\"],palette=\"autumn\")\n",
    "plt.style.use(\"dark_background\")\n",
    "plt.xlabel(\"Wages in Millions\",fontsize=20)\n",
    "plt.ylabel(\"Clubs\",fontsize=20)\n",
    "plt.xticks(rotation=90)\n",
    "plt.title(\"Top European Clubs with high Wages\",\n",
    "          fontdict={\"fontname\":\"DejaVu Sans\",\"fontsize\":20})\n",
    "plt.show()"
   ]
  },
  {
   "cell_type": "markdown",
   "metadata": {
    "id": "31aD_n7MrvwO"
   },
   "source": [
    "- Club Real Madrid and FC Barcelona has the higest Wages around 4M + \n",
    "- Juventus also has Wages of 4M + Wages for the players\n",
    "- Arsenal Has the wages below 2M "
   ]
  },
  {
   "cell_type": "markdown",
   "metadata": {},
   "source": [
    "#### <a href=\"#Points\">Back To Top</a>"
   ]
  },
  {
   "cell_type": "markdown",
   "metadata": {
    "id": "2OCW2GFAwh1q"
   },
   "source": [
    "#### 25. Comparison of Top Clubs With Their Work Rate"
   ]
  },
  {
   "cell_type": "code",
   "execution_count": 48,
   "metadata": {
    "colab": {
     "base_uri": "https://localhost:8080/",
     "height": 521
    },
    "id": "-RLcm9SJrHsa",
    "outputId": "4477616a-7b0f-4c22-ac15-75f489f51f90"
   },
   "outputs": [
    {
     "data": {
      "image/png": "[encoded data removed]",
      "text/plain": [
       "<Figure size 720x432 with 1 Axes>"
      ]
     },
     "metadata": {},
     "output_type": "display_data"
    }
   ],
   "source": [
    "plt.figure(figsize=(10,6))\n",
    "clubs = [\"Real Madrid\",\"Juventus\",\"FC Barcelona\",\"Paris Saint-Germain\",\"Manchester City\",\"FC Bayern München\",\"Chelsea\",\"Manchester United\",\" FC Bayern München\",\"Arsenal\"]\n",
    "work_rate = fifa.loc[fifa[\"Club\"].isin(clubs) & fifa[\"Work Rate\"]]\n",
    "\n",
    "sns.lineplot(x = work_rate[\"Club\"], y = work_rate[\"Work Rate\"],label='Games', color='c',ls='-.',lw=2, marker='o',markerfacecolor='salmon')\n",
    "plt.grid(False)\n",
    "plt.xticks(rotation=90)\n",
    "plt.style.use(\"dark_background\")\n",
    "plt.xlabel(\"Clubs\",fontsize=20)\n",
    "plt.ylabel(\"Work-Rate\",fontsize=20)\n",
    "plt.title(\"Comparison of Top European Clubs with their Work Rate\",\n",
    "          fontdict={\"fontname\":\"DejaVu Sans\",\"fontsize\":20})\n",
    "plt.show()"
   ]
  },
  {
   "cell_type": "markdown",
   "metadata": {
    "id": "fgCvImZTxQci"
   },
   "source": [
    "- The Clubs Juventus and Arsenl Have Higher Work Rate\n",
    "- Clubs like Machester United , Chelsea , Real Madrid, Machester City have a High - Medium Work Rate"
   ]
  },
  {
   "cell_type": "markdown",
   "metadata": {},
   "source": [
    "#### <a href=\"#Points\">Back To Top</a>"
   ]
  },
  {
   "cell_type": "markdown",
   "metadata": {
    "id": "IKwzAJyt1c55"
   },
   "source": [
    "#### 26. Distribution of Potential in different Popular Clubs"
   ]
  },
  {
   "cell_type": "code",
   "execution_count": 56,
   "metadata": {
    "colab": {
     "base_uri": "https://localhost:8080/",
     "height": 554
    },
    "id": "ptGOyZdLwzWb",
    "outputId": "a1613d1a-aeec-4c3b-8a2e-7dea6d80e054"
   },
   "outputs": [
    {
     "data": {
      "image/png": "[encoded data removed]",
      "text/plain": [
       "<Figure size 1008x504 with 1 Axes>"
      ]
     },
     "metadata": {},
     "output_type": "display_data"
    }
   ],
   "source": [
    "plt.figure(figsize=(14,7))\n",
    "\n",
    "clubs = [\"Valencia CF\",\"Tottenham Hotspur\",\"Real Madrid\",\"Juventus\",\"FC Barcelona\",\"Paris Saint-Germain\",\n",
    "         \"Manchester City\",\"FC Bayern München\",\"Chelsea\",\"Manchester United\",\" FC Bayern München\",\"Arsenal\"]\n",
    "Potential_clubs = fifa.loc[fifa[\"Club\"].isin(clubs) & fifa[\"Potential\"]]\n",
    "sns.boxenplot(data=Potential_clubs, x = Potential_clubs[\"Club\"], y = Potential_clubs[\"Potential\"],palette=\"magma\")\n",
    "sns.set_style(\"white\")\n",
    "plt.style.use(\"seaborn\")\n",
    "plt.xlabel(\"Clubs\",fontsize=20)\n",
    "plt.ylabel(\"Potential Score\",fontsize=20)\n",
    "plt.title(\"Distribution of Potential in different Popular Clubs\",fontsize=20)\n",
    "plt.xticks(rotation=90)\n",
    "plt.show()"
   ]
  },
  {
   "cell_type": "markdown",
   "metadata": {
    "id": "a_HSwj321jk5"
   },
   "source": [
    "- Clubs like Paris Sain Germain , Manchester United, Chelsea, Real Madrid , Barcelona have higher Potential of Winning"
   ]
  },
  {
   "cell_type": "markdown",
   "metadata": {},
   "source": [
    "#### <a href=\"#Points\">Back To Top</a>"
   ]
  },
  {
   "cell_type": "markdown",
   "metadata": {
    "id": "DdcLZj9H2U9d"
   },
   "source": [
    "#### 27. 15 youngest Players from the data"
   ]
  },
  {
   "cell_type": "code",
   "execution_count": 50,
   "metadata": {
    "colab": {
     "base_uri": "https://localhost:8080/",
     "height": 345
    },
    "id": "yRVkim8kz4X6",
    "outputId": "7a953359-cdd3-459e-aef5-dc40e8c3f8e2"
   },
   "outputs": [
    {
     "data": {
      "text/html": [
       "<style  type=\"text/css\" >\n",
       "#T_2021dbc4_1782_11ec_b646_eb609ab9287erow0_col1,#T_2021dbc4_1782_11ec_b646_eb609ab9287erow1_col1,#T_2021dbc4_1782_11ec_b646_eb609ab9287erow2_col1,#T_2021dbc4_1782_11ec_b646_eb609ab9287erow3_col1,#T_2021dbc4_1782_11ec_b646_eb609ab9287erow4_col1,#T_2021dbc4_1782_11ec_b646_eb609ab9287erow5_col1,#T_2021dbc4_1782_11ec_b646_eb609ab9287erow6_col1,#T_2021dbc4_1782_11ec_b646_eb609ab9287erow7_col1,#T_2021dbc4_1782_11ec_b646_eb609ab9287erow8_col1,#T_2021dbc4_1782_11ec_b646_eb609ab9287erow9_col1,#T_2021dbc4_1782_11ec_b646_eb609ab9287erow10_col1,#T_2021dbc4_1782_11ec_b646_eb609ab9287erow11_col1,#T_2021dbc4_1782_11ec_b646_eb609ab9287erow12_col1,#T_2021dbc4_1782_11ec_b646_eb609ab9287erow13_col1,#T_2021dbc4_1782_11ec_b646_eb609ab9287erow14_col1{\n",
       "            background-color:  #440154;\n",
       "            color:  #f1f1f1;\n",
       "        }</style><table id=\"T_2021dbc4_1782_11ec_b646_eb609ab9287e\" ><thead>    <tr>        <th class=\"blank level0\" ></th>        <th class=\"col_heading level0 col0\" >Name</th>        <th class=\"col_heading level0 col1\" >Age</th>        <th class=\"col_heading level0 col2\" >Club</th>        <th class=\"col_heading level0 col3\" >Nationality</th>    </tr></thead><tbody>\n",
       "                <tr>\n",
       "                        <th id=\"T_2021dbc4_1782_11ec_b646_eb609ab9287elevel0_row0\" class=\"row_heading level0 row0\" >18207</th>\n",
       "                        <td id=\"T_2021dbc4_1782_11ec_b646_eb609ab9287erow0_col0\" class=\"data row0 col0\" >G. Nugent</td>\n",
       "                        <td id=\"T_2021dbc4_1782_11ec_b646_eb609ab9287erow0_col1\" class=\"data row0 col1\" >16</td>\n",
       "                        <td id=\"T_2021dbc4_1782_11ec_b646_eb609ab9287erow0_col2\" class=\"data row0 col2\" >Tranmere Rovers</td>\n",
       "                        <td id=\"T_2021dbc4_1782_11ec_b646_eb609ab9287erow0_col3\" class=\"data row0 col3\" >England</td>\n",
       "            </tr>\n",
       "            <tr>\n",
       "                        <th id=\"T_2021dbc4_1782_11ec_b646_eb609ab9287elevel0_row1\" class=\"row_heading level0 row1\" >17744</th>\n",
       "                        <td id=\"T_2021dbc4_1782_11ec_b646_eb609ab9287erow1_col0\" class=\"data row1 col0\" >J. Olstad</td>\n",
       "                        <td id=\"T_2021dbc4_1782_11ec_b646_eb609ab9287erow1_col1\" class=\"data row1 col1\" >16</td>\n",
       "                        <td id=\"T_2021dbc4_1782_11ec_b646_eb609ab9287erow1_col2\" class=\"data row1 col2\" >Sarpsborg 08 FF</td>\n",
       "                        <td id=\"T_2021dbc4_1782_11ec_b646_eb609ab9287erow1_col3\" class=\"data row1 col3\" >Norway</td>\n",
       "            </tr>\n",
       "            <tr>\n",
       "                        <th id=\"T_2021dbc4_1782_11ec_b646_eb609ab9287elevel0_row2\" class=\"row_heading level0 row2\" >13294</th>\n",
       "                        <td id=\"T_2021dbc4_1782_11ec_b646_eb609ab9287erow2_col0\" class=\"data row2 col0\" >H. Massengo</td>\n",
       "                        <td id=\"T_2021dbc4_1782_11ec_b646_eb609ab9287erow2_col1\" class=\"data row2 col1\" >16</td>\n",
       "                        <td id=\"T_2021dbc4_1782_11ec_b646_eb609ab9287erow2_col2\" class=\"data row2 col2\" >AS Monaco</td>\n",
       "                        <td id=\"T_2021dbc4_1782_11ec_b646_eb609ab9287erow2_col3\" class=\"data row2 col3\" >France</td>\n",
       "            </tr>\n",
       "            <tr>\n",
       "                        <th id=\"T_2021dbc4_1782_11ec_b646_eb609ab9287elevel0_row3\" class=\"row_heading level0 row3\" >16082</th>\n",
       "                        <td id=\"T_2021dbc4_1782_11ec_b646_eb609ab9287erow3_col0\" class=\"data row3 col0\" >J. Italiano</td>\n",
       "                        <td id=\"T_2021dbc4_1782_11ec_b646_eb609ab9287erow3_col1\" class=\"data row3 col1\" >16</td>\n",
       "                        <td id=\"T_2021dbc4_1782_11ec_b646_eb609ab9287erow3_col2\" class=\"data row3 col2\" >Perth Glory</td>\n",
       "                        <td id=\"T_2021dbc4_1782_11ec_b646_eb609ab9287erow3_col3\" class=\"data row3 col3\" >Australia</td>\n",
       "            </tr>\n",
       "            <tr>\n",
       "                        <th id=\"T_2021dbc4_1782_11ec_b646_eb609ab9287elevel0_row4\" class=\"row_heading level0 row4\" >18167</th>\n",
       "                        <td id=\"T_2021dbc4_1782_11ec_b646_eb609ab9287erow4_col0\" class=\"data row4 col0\" >N. Ayéva</td>\n",
       "                        <td id=\"T_2021dbc4_1782_11ec_b646_eb609ab9287erow4_col1\" class=\"data row4 col1\" >16</td>\n",
       "                        <td id=\"T_2021dbc4_1782_11ec_b646_eb609ab9287erow4_col2\" class=\"data row4 col2\" >Örebro SK</td>\n",
       "                        <td id=\"T_2021dbc4_1782_11ec_b646_eb609ab9287erow4_col3\" class=\"data row4 col3\" >Sweden</td>\n",
       "            </tr>\n",
       "            <tr>\n",
       "                        <th id=\"T_2021dbc4_1782_11ec_b646_eb609ab9287elevel0_row5\" class=\"row_heading level0 row5\" >17713</th>\n",
       "                        <td id=\"T_2021dbc4_1782_11ec_b646_eb609ab9287erow5_col0\" class=\"data row5 col0\" >K. Broda</td>\n",
       "                        <td id=\"T_2021dbc4_1782_11ec_b646_eb609ab9287erow5_col1\" class=\"data row5 col1\" >16</td>\n",
       "                        <td id=\"T_2021dbc4_1782_11ec_b646_eb609ab9287erow5_col2\" class=\"data row5 col2\" >Wisła Kraków</td>\n",
       "                        <td id=\"T_2021dbc4_1782_11ec_b646_eb609ab9287erow5_col3\" class=\"data row5 col3\" >Poland</td>\n",
       "            </tr>\n",
       "            <tr>\n",
       "                        <th id=\"T_2021dbc4_1782_11ec_b646_eb609ab9287elevel0_row6\" class=\"row_heading level0 row6\" >17355</th>\n",
       "                        <td id=\"T_2021dbc4_1782_11ec_b646_eb609ab9287erow6_col0\" class=\"data row6 col0\" >L. D'Arrigo</td>\n",
       "                        <td id=\"T_2021dbc4_1782_11ec_b646_eb609ab9287erow6_col1\" class=\"data row6 col1\" >16</td>\n",
       "                        <td id=\"T_2021dbc4_1782_11ec_b646_eb609ab9287erow6_col2\" class=\"data row6 col2\" >Adelaide United</td>\n",
       "                        <td id=\"T_2021dbc4_1782_11ec_b646_eb609ab9287erow6_col3\" class=\"data row6 col3\" >Australia</td>\n",
       "            </tr>\n",
       "            <tr>\n",
       "                        <th id=\"T_2021dbc4_1782_11ec_b646_eb609ab9287elevel0_row7\" class=\"row_heading level0 row7\" >13568</th>\n",
       "                        <td id=\"T_2021dbc4_1782_11ec_b646_eb609ab9287erow7_col0\" class=\"data row7 col0\" >Y. Verschaeren</td>\n",
       "                        <td id=\"T_2021dbc4_1782_11ec_b646_eb609ab9287erow7_col1\" class=\"data row7 col1\" >16</td>\n",
       "                        <td id=\"T_2021dbc4_1782_11ec_b646_eb609ab9287erow7_col2\" class=\"data row7 col2\" >RSC Anderlecht</td>\n",
       "                        <td id=\"T_2021dbc4_1782_11ec_b646_eb609ab9287erow7_col3\" class=\"data row7 col3\" >Belgium</td>\n",
       "            </tr>\n",
       "            <tr>\n",
       "                        <th id=\"T_2021dbc4_1782_11ec_b646_eb609ab9287elevel0_row8\" class=\"row_heading level0 row8\" >16928</th>\n",
       "                        <td id=\"T_2021dbc4_1782_11ec_b646_eb609ab9287erow8_col0\" class=\"data row8 col0\" >B. Nygren</td>\n",
       "                        <td id=\"T_2021dbc4_1782_11ec_b646_eb609ab9287erow8_col1\" class=\"data row8 col1\" >16</td>\n",
       "                        <td id=\"T_2021dbc4_1782_11ec_b646_eb609ab9287erow8_col2\" class=\"data row8 col2\" >IFK Göteborg</td>\n",
       "                        <td id=\"T_2021dbc4_1782_11ec_b646_eb609ab9287erow8_col3\" class=\"data row8 col3\" >Sweden</td>\n",
       "            </tr>\n",
       "            <tr>\n",
       "                        <th id=\"T_2021dbc4_1782_11ec_b646_eb609ab9287elevel0_row9\" class=\"row_heading level0 row9\" >18019</th>\n",
       "                        <td id=\"T_2021dbc4_1782_11ec_b646_eb609ab9287erow9_col0\" class=\"data row9 col0\" >B. O'Gorman</td>\n",
       "                        <td id=\"T_2021dbc4_1782_11ec_b646_eb609ab9287erow9_col1\" class=\"data row9 col1\" >16</td>\n",
       "                        <td id=\"T_2021dbc4_1782_11ec_b646_eb609ab9287erow9_col2\" class=\"data row9 col2\" >Bray Wanderers</td>\n",
       "                        <td id=\"T_2021dbc4_1782_11ec_b646_eb609ab9287erow9_col3\" class=\"data row9 col3\" >Republic of Ireland</td>\n",
       "            </tr>\n",
       "            <tr>\n",
       "                        <th id=\"T_2021dbc4_1782_11ec_b646_eb609ab9287elevel0_row10\" class=\"row_heading level0 row10\" >17092</th>\n",
       "                        <td id=\"T_2021dbc4_1782_11ec_b646_eb609ab9287erow10_col0\" class=\"data row10 col0\" >A. Doğan</td>\n",
       "                        <td id=\"T_2021dbc4_1782_11ec_b646_eb609ab9287erow10_col1\" class=\"data row10 col1\" >16</td>\n",
       "                        <td id=\"T_2021dbc4_1782_11ec_b646_eb609ab9287erow10_col2\" class=\"data row10 col2\" >Kayserispor</td>\n",
       "                        <td id=\"T_2021dbc4_1782_11ec_b646_eb609ab9287erow10_col3\" class=\"data row10 col3\" >Turkey</td>\n",
       "            </tr>\n",
       "            <tr>\n",
       "                        <th id=\"T_2021dbc4_1782_11ec_b646_eb609ab9287elevel0_row11\" class=\"row_heading level0 row11\" >17116</th>\n",
       "                        <td id=\"T_2021dbc4_1782_11ec_b646_eb609ab9287erow11_col0\" class=\"data row11 col0\" >C. Bassett</td>\n",
       "                        <td id=\"T_2021dbc4_1782_11ec_b646_eb609ab9287erow11_col1\" class=\"data row11 col1\" >16</td>\n",
       "                        <td id=\"T_2021dbc4_1782_11ec_b646_eb609ab9287erow11_col2\" class=\"data row11 col2\" >Colorado Rapids</td>\n",
       "                        <td id=\"T_2021dbc4_1782_11ec_b646_eb609ab9287erow11_col3\" class=\"data row11 col3\" >United States</td>\n",
       "            </tr>\n",
       "            <tr>\n",
       "                        <th id=\"T_2021dbc4_1782_11ec_b646_eb609ab9287elevel0_row12\" class=\"row_heading level0 row12\" >15794</th>\n",
       "                        <td id=\"T_2021dbc4_1782_11ec_b646_eb609ab9287erow12_col0\" class=\"data row12 col0\" >J. Lahne</td>\n",
       "                        <td id=\"T_2021dbc4_1782_11ec_b646_eb609ab9287erow12_col1\" class=\"data row12 col1\" >16</td>\n",
       "                        <td id=\"T_2021dbc4_1782_11ec_b646_eb609ab9287erow12_col2\" class=\"data row12 col2\" >IF Brommapojkarna</td>\n",
       "                        <td id=\"T_2021dbc4_1782_11ec_b646_eb609ab9287erow12_col3\" class=\"data row12 col3\" >Sweden</td>\n",
       "            </tr>\n",
       "            <tr>\n",
       "                        <th id=\"T_2021dbc4_1782_11ec_b646_eb609ab9287elevel0_row13\" class=\"row_heading level0 row13\" >15747</th>\n",
       "                        <td id=\"T_2021dbc4_1782_11ec_b646_eb609ab9287erow13_col0\" class=\"data row13 col0\" >Y. Begraoui</td>\n",
       "                        <td id=\"T_2021dbc4_1782_11ec_b646_eb609ab9287erow13_col1\" class=\"data row13 col1\" >16</td>\n",
       "                        <td id=\"T_2021dbc4_1782_11ec_b646_eb609ab9287erow13_col2\" class=\"data row13 col2\" >AJ Auxerre</td>\n",
       "                        <td id=\"T_2021dbc4_1782_11ec_b646_eb609ab9287erow13_col3\" class=\"data row13 col3\" >France</td>\n",
       "            </tr>\n",
       "            <tr>\n",
       "                        <th id=\"T_2021dbc4_1782_11ec_b646_eb609ab9287elevel0_row14\" class=\"row_heading level0 row14\" >17176</th>\n",
       "                        <td id=\"T_2021dbc4_1782_11ec_b646_eb609ab9287erow14_col0\" class=\"data row14 col0\" >B. Mumba</td>\n",
       "                        <td id=\"T_2021dbc4_1782_11ec_b646_eb609ab9287erow14_col1\" class=\"data row14 col1\" >16</td>\n",
       "                        <td id=\"T_2021dbc4_1782_11ec_b646_eb609ab9287erow14_col2\" class=\"data row14 col2\" >Sunderland</td>\n",
       "                        <td id=\"T_2021dbc4_1782_11ec_b646_eb609ab9287erow14_col3\" class=\"data row14 col3\" >England</td>\n",
       "            </tr>\n",
       "    </tbody></table>"
      ],
      "text/plain": [
       "<pandas.io.formats.style.Styler at 0x22d01d25670>"
      ]
     },
     "execution_count": 50,
     "metadata": {},
     "output_type": "execute_result"
    }
   ],
   "source": [
    "fifa.sort_values(\"Age\",ascending=True)[[\"Name\",\"Age\",\"Club\",\"Nationality\"]].head(15).style.background_gradient(\"viridis\")"
   ]
  },
  {
   "cell_type": "markdown",
   "metadata": {
    "id": "tyyoV5XN3RaJ"
   },
   "source": [
    "#### 28. 15 Eldest Players from the data"
   ]
  },
  {
   "cell_type": "code",
   "execution_count": 51,
   "metadata": {
    "colab": {
     "base_uri": "https://localhost:8080/",
     "height": 345
    },
    "id": "ERQLxdiB2lni",
    "outputId": "2f9e443c-863d-4676-87c6-f18164be341e"
   },
   "outputs": [
    {
     "data": {
      "text/html": [
       "<style  type=\"text/css\" >\n",
       "#T_202d0e5a_1782_11ec_b55d_eb609ab9287erow0_col1{\n",
       "            background-color:  #fde725;\n",
       "            color:  #000000;\n",
       "        }#T_202d0e5a_1782_11ec_b55d_eb609ab9287erow1_col1,#T_202d0e5a_1782_11ec_b55d_eb609ab9287erow2_col1{\n",
       "            background-color:  #7ad151;\n",
       "            color:  #000000;\n",
       "        }#T_202d0e5a_1782_11ec_b55d_eb609ab9287erow3_col1{\n",
       "            background-color:  #2a788e;\n",
       "            color:  #000000;\n",
       "        }#T_202d0e5a_1782_11ec_b55d_eb609ab9287erow4_col1,#T_202d0e5a_1782_11ec_b55d_eb609ab9287erow5_col1,#T_202d0e5a_1782_11ec_b55d_eb609ab9287erow6_col1,#T_202d0e5a_1782_11ec_b55d_eb609ab9287erow7_col1,#T_202d0e5a_1782_11ec_b55d_eb609ab9287erow8_col1{\n",
       "            background-color:  #414487;\n",
       "            color:  #f1f1f1;\n",
       "        }#T_202d0e5a_1782_11ec_b55d_eb609ab9287erow9_col1,#T_202d0e5a_1782_11ec_b55d_eb609ab9287erow10_col1,#T_202d0e5a_1782_11ec_b55d_eb609ab9287erow11_col1,#T_202d0e5a_1782_11ec_b55d_eb609ab9287erow12_col1,#T_202d0e5a_1782_11ec_b55d_eb609ab9287erow13_col1,#T_202d0e5a_1782_11ec_b55d_eb609ab9287erow14_col1{\n",
       "            background-color:  #440154;\n",
       "            color:  #f1f1f1;\n",
       "        }</style><table id=\"T_202d0e5a_1782_11ec_b55d_eb609ab9287e\" ><thead>    <tr>        <th class=\"blank level0\" ></th>        <th class=\"col_heading level0 col0\" >Name</th>        <th class=\"col_heading level0 col1\" >Age</th>        <th class=\"col_heading level0 col2\" >Club</th>        <th class=\"col_heading level0 col3\" >Nationality</th>    </tr></thead><tbody>\n",
       "                <tr>\n",
       "                        <th id=\"T_202d0e5a_1782_11ec_b55d_eb609ab9287elevel0_row0\" class=\"row_heading level0 row0\" >4742</th>\n",
       "                        <td id=\"T_202d0e5a_1782_11ec_b55d_eb609ab9287erow0_col0\" class=\"data row0 col0\" >O. Pérez</td>\n",
       "                        <td id=\"T_202d0e5a_1782_11ec_b55d_eb609ab9287erow0_col1\" class=\"data row0 col1\" >45</td>\n",
       "                        <td id=\"T_202d0e5a_1782_11ec_b55d_eb609ab9287erow0_col2\" class=\"data row0 col2\" >Pachuca</td>\n",
       "                        <td id=\"T_202d0e5a_1782_11ec_b55d_eb609ab9287erow0_col3\" class=\"data row0 col3\" >Mexico</td>\n",
       "            </tr>\n",
       "            <tr>\n",
       "                        <th id=\"T_202d0e5a_1782_11ec_b55d_eb609ab9287elevel0_row1\" class=\"row_heading level0 row1\" >18184</th>\n",
       "                        <td id=\"T_202d0e5a_1782_11ec_b55d_eb609ab9287erow1_col0\" class=\"data row1 col0\" >K. Pilkington</td>\n",
       "                        <td id=\"T_202d0e5a_1782_11ec_b55d_eb609ab9287erow1_col1\" class=\"data row1 col1\" >44</td>\n",
       "                        <td id=\"T_202d0e5a_1782_11ec_b55d_eb609ab9287erow1_col2\" class=\"data row1 col2\" >Cambridge United</td>\n",
       "                        <td id=\"T_202d0e5a_1782_11ec_b55d_eb609ab9287erow1_col3\" class=\"data row1 col3\" >England</td>\n",
       "            </tr>\n",
       "            <tr>\n",
       "                        <th id=\"T_202d0e5a_1782_11ec_b55d_eb609ab9287elevel0_row2\" class=\"row_heading level0 row2\" >17727</th>\n",
       "                        <td id=\"T_202d0e5a_1782_11ec_b55d_eb609ab9287erow2_col0\" class=\"data row2 col0\" >T. Warner</td>\n",
       "                        <td id=\"T_202d0e5a_1782_11ec_b55d_eb609ab9287erow2_col1\" class=\"data row2 col1\" >44</td>\n",
       "                        <td id=\"T_202d0e5a_1782_11ec_b55d_eb609ab9287erow2_col2\" class=\"data row2 col2\" >Accrington Stanley</td>\n",
       "                        <td id=\"T_202d0e5a_1782_11ec_b55d_eb609ab9287erow2_col3\" class=\"data row2 col3\" >Trinidad & Tobago</td>\n",
       "            </tr>\n",
       "            <tr>\n",
       "                        <th id=\"T_202d0e5a_1782_11ec_b55d_eb609ab9287elevel0_row3\" class=\"row_heading level0 row3\" >10546</th>\n",
       "                        <td id=\"T_202d0e5a_1782_11ec_b55d_eb609ab9287erow3_col0\" class=\"data row3 col0\" >S. Narazaki</td>\n",
       "                        <td id=\"T_202d0e5a_1782_11ec_b55d_eb609ab9287erow3_col1\" class=\"data row3 col1\" >42</td>\n",
       "                        <td id=\"T_202d0e5a_1782_11ec_b55d_eb609ab9287erow3_col2\" class=\"data row3 col2\" >Nagoya Grampus</td>\n",
       "                        <td id=\"T_202d0e5a_1782_11ec_b55d_eb609ab9287erow3_col3\" class=\"data row3 col3\" >Japan</td>\n",
       "            </tr>\n",
       "            <tr>\n",
       "                        <th id=\"T_202d0e5a_1782_11ec_b55d_eb609ab9287elevel0_row4\" class=\"row_heading level0 row4\" >7226</th>\n",
       "                        <td id=\"T_202d0e5a_1782_11ec_b55d_eb609ab9287erow4_col0\" class=\"data row4 col0\" >C. Muñoz</td>\n",
       "                        <td id=\"T_202d0e5a_1782_11ec_b55d_eb609ab9287erow4_col1\" class=\"data row4 col1\" >41</td>\n",
       "                        <td id=\"T_202d0e5a_1782_11ec_b55d_eb609ab9287erow4_col2\" class=\"data row4 col2\" >CD Universidad de Concepción</td>\n",
       "                        <td id=\"T_202d0e5a_1782_11ec_b55d_eb609ab9287erow4_col3\" class=\"data row4 col3\" >Argentina</td>\n",
       "            </tr>\n",
       "            <tr>\n",
       "                        <th id=\"T_202d0e5a_1782_11ec_b55d_eb609ab9287elevel0_row5\" class=\"row_heading level0 row5\" >1121</th>\n",
       "                        <td id=\"T_202d0e5a_1782_11ec_b55d_eb609ab9287erow5_col0\" class=\"data row5 col0\" >J. Villar</td>\n",
       "                        <td id=\"T_202d0e5a_1782_11ec_b55d_eb609ab9287erow5_col1\" class=\"data row5 col1\" >41</td>\n",
       "                        <td id=\"T_202d0e5a_1782_11ec_b55d_eb609ab9287erow5_col2\" class=\"data row5 col2\" >No Club</td>\n",
       "                        <td id=\"T_202d0e5a_1782_11ec_b55d_eb609ab9287erow5_col3\" class=\"data row5 col3\" >Paraguay</td>\n",
       "            </tr>\n",
       "            <tr>\n",
       "                        <th id=\"T_202d0e5a_1782_11ec_b55d_eb609ab9287elevel0_row6\" class=\"row_heading level0 row6\" >12193</th>\n",
       "                        <td id=\"T_202d0e5a_1782_11ec_b55d_eb609ab9287erow6_col0\" class=\"data row6 col0\" >H. Sulaimani</td>\n",
       "                        <td id=\"T_202d0e5a_1782_11ec_b55d_eb609ab9287erow6_col1\" class=\"data row6 col1\" >41</td>\n",
       "                        <td id=\"T_202d0e5a_1782_11ec_b55d_eb609ab9287erow6_col2\" class=\"data row6 col2\" >Ohod Club</td>\n",
       "                        <td id=\"T_202d0e5a_1782_11ec_b55d_eb609ab9287erow6_col3\" class=\"data row6 col3\" >Saudi Arabia</td>\n",
       "            </tr>\n",
       "            <tr>\n",
       "                        <th id=\"T_202d0e5a_1782_11ec_b55d_eb609ab9287elevel0_row7\" class=\"row_heading level0 row7\" >15427</th>\n",
       "                        <td id=\"T_202d0e5a_1782_11ec_b55d_eb609ab9287erow7_col0\" class=\"data row7 col0\" >M. Tyler</td>\n",
       "                        <td id=\"T_202d0e5a_1782_11ec_b55d_eb609ab9287erow7_col1\" class=\"data row7 col1\" >41</td>\n",
       "                        <td id=\"T_202d0e5a_1782_11ec_b55d_eb609ab9287erow7_col2\" class=\"data row7 col2\" >Peterborough United</td>\n",
       "                        <td id=\"T_202d0e5a_1782_11ec_b55d_eb609ab9287erow7_col3\" class=\"data row7 col3\" >England</td>\n",
       "            </tr>\n",
       "            <tr>\n",
       "                        <th id=\"T_202d0e5a_1782_11ec_b55d_eb609ab9287elevel0_row8\" class=\"row_heading level0 row8\" >4229</th>\n",
       "                        <td id=\"T_202d0e5a_1782_11ec_b55d_eb609ab9287erow8_col0\" class=\"data row8 col0\" >B. Nivet</td>\n",
       "                        <td id=\"T_202d0e5a_1782_11ec_b55d_eb609ab9287erow8_col1\" class=\"data row8 col1\" >41</td>\n",
       "                        <td id=\"T_202d0e5a_1782_11ec_b55d_eb609ab9287erow8_col2\" class=\"data row8 col2\" >ESTAC Troyes</td>\n",
       "                        <td id=\"T_202d0e5a_1782_11ec_b55d_eb609ab9287erow8_col3\" class=\"data row8 col3\" >France</td>\n",
       "            </tr>\n",
       "            <tr>\n",
       "                        <th id=\"T_202d0e5a_1782_11ec_b55d_eb609ab9287elevel0_row9\" class=\"row_heading level0 row9\" >10357</th>\n",
       "                        <td id=\"T_202d0e5a_1782_11ec_b55d_eb609ab9287erow9_col0\" class=\"data row9 col0\" >F. Kippe</td>\n",
       "                        <td id=\"T_202d0e5a_1782_11ec_b55d_eb609ab9287erow9_col1\" class=\"data row9 col1\" >40</td>\n",
       "                        <td id=\"T_202d0e5a_1782_11ec_b55d_eb609ab9287erow9_col2\" class=\"data row9 col2\" >Lillestrøm SK</td>\n",
       "                        <td id=\"T_202d0e5a_1782_11ec_b55d_eb609ab9287erow9_col3\" class=\"data row9 col3\" >Norway</td>\n",
       "            </tr>\n",
       "            <tr>\n",
       "                        <th id=\"T_202d0e5a_1782_11ec_b55d_eb609ab9287elevel0_row10\" class=\"row_heading level0 row10\" >16265</th>\n",
       "                        <td id=\"T_202d0e5a_1782_11ec_b55d_eb609ab9287erow10_col0\" class=\"data row10 col0\" >P. van der Vlag</td>\n",
       "                        <td id=\"T_202d0e5a_1782_11ec_b55d_eb609ab9287erow10_col1\" class=\"data row10 col1\" >40</td>\n",
       "                        <td id=\"T_202d0e5a_1782_11ec_b55d_eb609ab9287erow10_col2\" class=\"data row10 col2\" >FC Emmen</td>\n",
       "                        <td id=\"T_202d0e5a_1782_11ec_b55d_eb609ab9287erow10_col3\" class=\"data row10 col3\" >Netherlands</td>\n",
       "            </tr>\n",
       "            <tr>\n",
       "                        <th id=\"T_202d0e5a_1782_11ec_b55d_eb609ab9287elevel0_row11\" class=\"row_heading level0 row11\" >9485</th>\n",
       "                        <td id=\"T_202d0e5a_1782_11ec_b55d_eb609ab9287erow11_col0\" class=\"data row11 col0\" >B. Castillo</td>\n",
       "                        <td id=\"T_202d0e5a_1782_11ec_b55d_eb609ab9287erow11_col1\" class=\"data row11 col1\" >40</td>\n",
       "                        <td id=\"T_202d0e5a_1782_11ec_b55d_eb609ab9287erow11_col2\" class=\"data row11 col2\" >Atlético Huila</td>\n",
       "                        <td id=\"T_202d0e5a_1782_11ec_b55d_eb609ab9287erow11_col3\" class=\"data row11 col3\" >Colombia</td>\n",
       "            </tr>\n",
       "            <tr>\n",
       "                        <th id=\"T_202d0e5a_1782_11ec_b55d_eb609ab9287elevel0_row12\" class=\"row_heading level0 row12\" >4188</th>\n",
       "                        <td id=\"T_202d0e5a_1782_11ec_b55d_eb609ab9287erow12_col0\" class=\"data row12 col0\" >C. Lucchetti</td>\n",
       "                        <td id=\"T_202d0e5a_1782_11ec_b55d_eb609ab9287erow12_col1\" class=\"data row12 col1\" >40</td>\n",
       "                        <td id=\"T_202d0e5a_1782_11ec_b55d_eb609ab9287erow12_col2\" class=\"data row12 col2\" >Atlético Tucumán</td>\n",
       "                        <td id=\"T_202d0e5a_1782_11ec_b55d_eb609ab9287erow12_col3\" class=\"data row12 col3\" >Argentina</td>\n",
       "            </tr>\n",
       "            <tr>\n",
       "                        <th id=\"T_202d0e5a_1782_11ec_b55d_eb609ab9287elevel0_row13\" class=\"row_heading level0 row13\" >2822</th>\n",
       "                        <td id=\"T_202d0e5a_1782_11ec_b55d_eb609ab9287erow13_col0\" class=\"data row13 col0\" >S. Bertoli</td>\n",
       "                        <td id=\"T_202d0e5a_1782_11ec_b55d_eb609ab9287erow13_col1\" class=\"data row13 col1\" >40</td>\n",
       "                        <td id=\"T_202d0e5a_1782_11ec_b55d_eb609ab9287erow13_col2\" class=\"data row13 col2\" >Patronato</td>\n",
       "                        <td id=\"T_202d0e5a_1782_11ec_b55d_eb609ab9287erow13_col3\" class=\"data row13 col3\" >Argentina</td>\n",
       "            </tr>\n",
       "            <tr>\n",
       "                        <th id=\"T_202d0e5a_1782_11ec_b55d_eb609ab9287elevel0_row14\" class=\"row_heading level0 row14\" >3551</th>\n",
       "                        <td id=\"T_202d0e5a_1782_11ec_b55d_eb609ab9287erow14_col0\" class=\"data row14 col0\" >S. Nakamura</td>\n",
       "                        <td id=\"T_202d0e5a_1782_11ec_b55d_eb609ab9287erow14_col1\" class=\"data row14 col1\" >40</td>\n",
       "                        <td id=\"T_202d0e5a_1782_11ec_b55d_eb609ab9287erow14_col2\" class=\"data row14 col2\" >Júbilo Iwata</td>\n",
       "                        <td id=\"T_202d0e5a_1782_11ec_b55d_eb609ab9287erow14_col3\" class=\"data row14 col3\" >Japan</td>\n",
       "            </tr>\n",
       "    </tbody></table>"
      ],
      "text/plain": [
       "<pandas.io.formats.style.Styler at 0x22d7d9b4100>"
      ]
     },
     "execution_count": 51,
     "metadata": {},
     "output_type": "execute_result"
    }
   ],
   "source": [
    "fifa.sort_values(\"Age\",ascending=False)[[\"Name\",\"Age\",\"Club\",\"Nationality\"]].head(15).style.background_gradient(\"viridis\")"
   ]
  },
  {
   "cell_type": "markdown",
   "metadata": {
    "id": "5p7OBP6q6ZvQ"
   },
   "source": [
    "#### 29. Top 10 Left Footed Players and Right Footed Players"
   ]
  },
  {
   "cell_type": "code",
   "execution_count": 52,
   "metadata": {
    "colab": {
     "base_uri": "https://localhost:8080/",
     "height": 243
    },
    "id": "F-HRsA3V5h4m",
    "outputId": "8f6b0f72-6a37-4c02-9670-f92e702d7111"
   },
   "outputs": [
    {
     "data": {
      "text/html": [
       "<style  type=\"text/css\" >\n",
       "#T_203780f6_1782_11ec_b110_eb609ab9287erow0_col1{\n",
       "            background-color:  #fd9668;\n",
       "            color:  #000000;\n",
       "        }#T_203780f6_1782_11ec_b110_eb609ab9287erow1_col1{\n",
       "            background-color:  #feca8d;\n",
       "            color:  #000000;\n",
       "        }#T_203780f6_1782_11ec_b110_eb609ab9287erow2_col1{\n",
       "            background-color:  #000004;\n",
       "            color:  #f1f1f1;\n",
       "        }#T_203780f6_1782_11ec_b110_eb609ab9287erow3_col1{\n",
       "            background-color:  #721f81;\n",
       "            color:  #f1f1f1;\n",
       "        }#T_203780f6_1782_11ec_b110_eb609ab9287erow4_col1,#T_203780f6_1782_11ec_b110_eb609ab9287erow6_col1,#T_203780f6_1782_11ec_b110_eb609ab9287erow7_col1{\n",
       "            background-color:  #440f76;\n",
       "            color:  #f1f1f1;\n",
       "        }#T_203780f6_1782_11ec_b110_eb609ab9287erow5_col1{\n",
       "            background-color:  #fcfdbf;\n",
       "            color:  #000000;\n",
       "        }#T_203780f6_1782_11ec_b110_eb609ab9287erow8_col1{\n",
       "            background-color:  #f1605d;\n",
       "            color:  #000000;\n",
       "        }#T_203780f6_1782_11ec_b110_eb609ab9287erow9_col1{\n",
       "            background-color:  #9e2f7f;\n",
       "            color:  #f1f1f1;\n",
       "        }</style><table id=\"T_203780f6_1782_11ec_b110_eb609ab9287e\" ><thead>    <tr>        <th class=\"blank level0\" ></th>        <th class=\"col_heading level0 col0\" >Name</th>        <th class=\"col_heading level0 col1\" >Age</th>        <th class=\"col_heading level0 col2\" >Club</th>        <th class=\"col_heading level0 col3\" >Nationality</th>    </tr></thead><tbody>\n",
       "                <tr>\n",
       "                        <th id=\"T_203780f6_1782_11ec_b110_eb609ab9287elevel0_row0\" class=\"row_heading level0 row0\" >1</th>\n",
       "                        <td id=\"T_203780f6_1782_11ec_b110_eb609ab9287erow0_col0\" class=\"data row0 col0\" >L. Messi</td>\n",
       "                        <td id=\"T_203780f6_1782_11ec_b110_eb609ab9287erow0_col1\" class=\"data row0 col1\" >31</td>\n",
       "                        <td id=\"T_203780f6_1782_11ec_b110_eb609ab9287erow0_col2\" class=\"data row0 col2\" >FC Barcelona</td>\n",
       "                        <td id=\"T_203780f6_1782_11ec_b110_eb609ab9287erow0_col3\" class=\"data row0 col3\" >Argentina</td>\n",
       "            </tr>\n",
       "            <tr>\n",
       "                        <th id=\"T_203780f6_1782_11ec_b110_eb609ab9287elevel0_row1\" class=\"row_heading level0 row1\" >14</th>\n",
       "                        <td id=\"T_203780f6_1782_11ec_b110_eb609ab9287erow1_col0\" class=\"data row1 col0\" >David Silva</td>\n",
       "                        <td id=\"T_203780f6_1782_11ec_b110_eb609ab9287erow1_col1\" class=\"data row1 col1\" >32</td>\n",
       "                        <td id=\"T_203780f6_1782_11ec_b110_eb609ab9287erow1_col2\" class=\"data row1 col2\" >Manchester City</td>\n",
       "                        <td id=\"T_203780f6_1782_11ec_b110_eb609ab9287erow1_col3\" class=\"data row1 col3\" >Spain</td>\n",
       "            </tr>\n",
       "            <tr>\n",
       "                        <th id=\"T_203780f6_1782_11ec_b110_eb609ab9287elevel0_row2\" class=\"row_heading level0 row2\" >16</th>\n",
       "                        <td id=\"T_203780f6_1782_11ec_b110_eb609ab9287erow2_col0\" class=\"data row2 col0\" >P. Dybala</td>\n",
       "                        <td id=\"T_203780f6_1782_11ec_b110_eb609ab9287erow2_col1\" class=\"data row2 col1\" >24</td>\n",
       "                        <td id=\"T_203780f6_1782_11ec_b110_eb609ab9287erow2_col2\" class=\"data row2 col2\" >Juventus</td>\n",
       "                        <td id=\"T_203780f6_1782_11ec_b110_eb609ab9287erow2_col3\" class=\"data row2 col3\" >Argentina</td>\n",
       "            </tr>\n",
       "            <tr>\n",
       "                        <th id=\"T_203780f6_1782_11ec_b110_eb609ab9287elevel0_row3\" class=\"row_heading level0 row3\" >18</th>\n",
       "                        <td id=\"T_203780f6_1782_11ec_b110_eb609ab9287erow3_col0\" class=\"data row3 col0\" >A. Griezmann</td>\n",
       "                        <td id=\"T_203780f6_1782_11ec_b110_eb609ab9287erow3_col1\" class=\"data row3 col1\" >27</td>\n",
       "                        <td id=\"T_203780f6_1782_11ec_b110_eb609ab9287erow3_col2\" class=\"data row3 col2\" >Atlético Madrid</td>\n",
       "                        <td id=\"T_203780f6_1782_11ec_b110_eb609ab9287erow3_col3\" class=\"data row3 col3\" >France</td>\n",
       "            </tr>\n",
       "            <tr>\n",
       "                        <th id=\"T_203780f6_1782_11ec_b110_eb609ab9287elevel0_row4\" class=\"row_heading level0 row4\" >20</th>\n",
       "                        <td id=\"T_203780f6_1782_11ec_b110_eb609ab9287erow4_col0\" class=\"data row4 col0\" >T. Courtois</td>\n",
       "                        <td id=\"T_203780f6_1782_11ec_b110_eb609ab9287erow4_col1\" class=\"data row4 col1\" >26</td>\n",
       "                        <td id=\"T_203780f6_1782_11ec_b110_eb609ab9287erow4_col2\" class=\"data row4 col2\" >Real Madrid</td>\n",
       "                        <td id=\"T_203780f6_1782_11ec_b110_eb609ab9287erow4_col3\" class=\"data row4 col3\" >Belgium</td>\n",
       "            </tr>\n",
       "            <tr>\n",
       "                        <th id=\"T_203780f6_1782_11ec_b110_eb609ab9287elevel0_row5\" class=\"row_heading level0 row5\" >25</th>\n",
       "                        <td id=\"T_203780f6_1782_11ec_b110_eb609ab9287erow5_col0\" class=\"data row5 col0\" >G. Chiellini</td>\n",
       "                        <td id=\"T_203780f6_1782_11ec_b110_eb609ab9287erow5_col1\" class=\"data row5 col1\" >33</td>\n",
       "                        <td id=\"T_203780f6_1782_11ec_b110_eb609ab9287erow5_col2\" class=\"data row5 col2\" >Juventus</td>\n",
       "                        <td id=\"T_203780f6_1782_11ec_b110_eb609ab9287erow5_col3\" class=\"data row5 col3\" >Italy</td>\n",
       "            </tr>\n",
       "            <tr>\n",
       "                        <th id=\"T_203780f6_1782_11ec_b110_eb609ab9287elevel0_row6\" class=\"row_heading level0 row6\" >27</th>\n",
       "                        <td id=\"T_203780f6_1782_11ec_b110_eb609ab9287erow6_col0\" class=\"data row6 col0\" >M. Salah</td>\n",
       "                        <td id=\"T_203780f6_1782_11ec_b110_eb609ab9287erow6_col1\" class=\"data row6 col1\" >26</td>\n",
       "                        <td id=\"T_203780f6_1782_11ec_b110_eb609ab9287erow6_col2\" class=\"data row6 col2\" >Liverpool</td>\n",
       "                        <td id=\"T_203780f6_1782_11ec_b110_eb609ab9287erow6_col3\" class=\"data row6 col3\" >Egypt</td>\n",
       "            </tr>\n",
       "            <tr>\n",
       "                        <th id=\"T_203780f6_1782_11ec_b110_eb609ab9287elevel0_row7\" class=\"row_heading level0 row7\" >29</th>\n",
       "                        <td id=\"T_203780f6_1782_11ec_b110_eb609ab9287erow7_col0\" class=\"data row7 col0\" >J. Rodríguez</td>\n",
       "                        <td id=\"T_203780f6_1782_11ec_b110_eb609ab9287erow7_col1\" class=\"data row7 col1\" >26</td>\n",
       "                        <td id=\"T_203780f6_1782_11ec_b110_eb609ab9287erow7_col2\" class=\"data row7 col2\" >FC Bayern München</td>\n",
       "                        <td id=\"T_203780f6_1782_11ec_b110_eb609ab9287erow7_col3\" class=\"data row7 col3\" >Colombia</td>\n",
       "            </tr>\n",
       "            <tr>\n",
       "                        <th id=\"T_203780f6_1782_11ec_b110_eb609ab9287elevel0_row8\" class=\"row_heading level0 row8\" >36</th>\n",
       "                        <td id=\"T_203780f6_1782_11ec_b110_eb609ab9287erow8_col0\" class=\"data row8 col0\" >Marcelo</td>\n",
       "                        <td id=\"T_203780f6_1782_11ec_b110_eb609ab9287erow8_col1\" class=\"data row8 col1\" >30</td>\n",
       "                        <td id=\"T_203780f6_1782_11ec_b110_eb609ab9287erow8_col2\" class=\"data row8 col2\" >Real Madrid</td>\n",
       "                        <td id=\"T_203780f6_1782_11ec_b110_eb609ab9287erow8_col3\" class=\"data row8 col3\" >Brazil</td>\n",
       "            </tr>\n",
       "            <tr>\n",
       "                        <th id=\"T_203780f6_1782_11ec_b110_eb609ab9287elevel0_row9\" class=\"row_heading level0 row9\" >37</th>\n",
       "                        <td id=\"T_203780f6_1782_11ec_b110_eb609ab9287erow9_col0\" class=\"data row9 col0\" >G. Bale</td>\n",
       "                        <td id=\"T_203780f6_1782_11ec_b110_eb609ab9287erow9_col1\" class=\"data row9 col1\" >28</td>\n",
       "                        <td id=\"T_203780f6_1782_11ec_b110_eb609ab9287erow9_col2\" class=\"data row9 col2\" >Real Madrid</td>\n",
       "                        <td id=\"T_203780f6_1782_11ec_b110_eb609ab9287erow9_col3\" class=\"data row9 col3\" >Wales</td>\n",
       "            </tr>\n",
       "    </tbody></table>"
      ],
      "text/plain": [
       "<pandas.io.formats.style.Styler at 0x22d7eeeaa90>"
      ]
     },
     "execution_count": 52,
     "metadata": {},
     "output_type": "execute_result"
    }
   ],
   "source": [
    "fifa[fifa[\"Preferred Foot\"]==\"Left\"][[\"Name\",\"Age\",\"Club\",\"Nationality\"]].head(10).style.background_gradient(\"magma\")"
   ]
  },
  {
   "cell_type": "code",
   "execution_count": 53,
   "metadata": {
    "colab": {
     "base_uri": "https://localhost:8080/",
     "height": 243
    },
    "id": "m7PRGPC46tn8",
    "outputId": "7b16d10d-283e-4847-c166-b69780bf466a"
   },
   "outputs": [
    {
     "data": {
      "text/html": [
       "<style  type=\"text/css\" >\n",
       "#T_2052b5f2_1782_11ec_8c99_eb609ab9287erow0_col1{\n",
       "            background-color:  #ffc77f;\n",
       "            color:  #000000;\n",
       "        }#T_2052b5f2_1782_11ec_8c99_eb609ab9287erow1_col1{\n",
       "            background-color:  #281910;\n",
       "            color:  #f1f1f1;\n",
       "        }#T_2052b5f2_1782_11ec_8c99_eb609ab9287erow2_col1,#T_2052b5f2_1782_11ec_8c99_eb609ab9287erow3_col1,#T_2052b5f2_1782_11ec_8c99_eb609ab9287erow4_col1{\n",
       "            background-color:  #4f3220;\n",
       "            color:  #f1f1f1;\n",
       "        }#T_2052b5f2_1782_11ec_8c99_eb609ab9287erow5_col1,#T_2052b5f2_1782_11ec_8c99_eb609ab9287erow7_col1{\n",
       "            background-color:  #ffaf6f;\n",
       "            color:  #000000;\n",
       "        }#T_2052b5f2_1782_11ec_8c99_eb609ab9287erow6_col1{\n",
       "            background-color:  #ed9660;\n",
       "            color:  #000000;\n",
       "        }#T_2052b5f2_1782_11ec_8c99_eb609ab9287erow8_col1{\n",
       "            background-color:  #000000;\n",
       "            color:  #f1f1f1;\n",
       "        }#T_2052b5f2_1782_11ec_8c99_eb609ab9287erow9_col1{\n",
       "            background-color:  #9e6440;\n",
       "            color:  #000000;\n",
       "        }</style><table id=\"T_2052b5f2_1782_11ec_8c99_eb609ab9287e\" ><thead>    <tr>        <th class=\"blank level0\" ></th>        <th class=\"col_heading level0 col0\" >Name</th>        <th class=\"col_heading level0 col1\" >Age</th>        <th class=\"col_heading level0 col2\" >Club</th>        <th class=\"col_heading level0 col3\" >Nationality</th>    </tr></thead><tbody>\n",
       "                <tr>\n",
       "                        <th id=\"T_2052b5f2_1782_11ec_8c99_eb609ab9287elevel0_row0\" class=\"row_heading level0 row0\" >2</th>\n",
       "                        <td id=\"T_2052b5f2_1782_11ec_8c99_eb609ab9287erow0_col0\" class=\"data row0 col0\" >Cristiano Ronaldo</td>\n",
       "                        <td id=\"T_2052b5f2_1782_11ec_8c99_eb609ab9287erow0_col1\" class=\"data row0 col1\" >33</td>\n",
       "                        <td id=\"T_2052b5f2_1782_11ec_8c99_eb609ab9287erow0_col2\" class=\"data row0 col2\" >Juventus</td>\n",
       "                        <td id=\"T_2052b5f2_1782_11ec_8c99_eb609ab9287erow0_col3\" class=\"data row0 col3\" >Portugal</td>\n",
       "            </tr>\n",
       "            <tr>\n",
       "                        <th id=\"T_2052b5f2_1782_11ec_8c99_eb609ab9287elevel0_row1\" class=\"row_heading level0 row1\" >3</th>\n",
       "                        <td id=\"T_2052b5f2_1782_11ec_8c99_eb609ab9287erow1_col0\" class=\"data row1 col0\" >Neymar Jr</td>\n",
       "                        <td id=\"T_2052b5f2_1782_11ec_8c99_eb609ab9287erow1_col1\" class=\"data row1 col1\" >26</td>\n",
       "                        <td id=\"T_2052b5f2_1782_11ec_8c99_eb609ab9287erow1_col2\" class=\"data row1 col2\" >Paris Saint-Germain</td>\n",
       "                        <td id=\"T_2052b5f2_1782_11ec_8c99_eb609ab9287erow1_col3\" class=\"data row1 col3\" >Brazil</td>\n",
       "            </tr>\n",
       "            <tr>\n",
       "                        <th id=\"T_2052b5f2_1782_11ec_8c99_eb609ab9287elevel0_row2\" class=\"row_heading level0 row2\" >4</th>\n",
       "                        <td id=\"T_2052b5f2_1782_11ec_8c99_eb609ab9287erow2_col0\" class=\"data row2 col0\" >De Gea</td>\n",
       "                        <td id=\"T_2052b5f2_1782_11ec_8c99_eb609ab9287erow2_col1\" class=\"data row2 col1\" >27</td>\n",
       "                        <td id=\"T_2052b5f2_1782_11ec_8c99_eb609ab9287erow2_col2\" class=\"data row2 col2\" >Manchester United</td>\n",
       "                        <td id=\"T_2052b5f2_1782_11ec_8c99_eb609ab9287erow2_col3\" class=\"data row2 col3\" >Spain</td>\n",
       "            </tr>\n",
       "            <tr>\n",
       "                        <th id=\"T_2052b5f2_1782_11ec_8c99_eb609ab9287elevel0_row3\" class=\"row_heading level0 row3\" >5</th>\n",
       "                        <td id=\"T_2052b5f2_1782_11ec_8c99_eb609ab9287erow3_col0\" class=\"data row3 col0\" >K. De Bruyne</td>\n",
       "                        <td id=\"T_2052b5f2_1782_11ec_8c99_eb609ab9287erow3_col1\" class=\"data row3 col1\" >27</td>\n",
       "                        <td id=\"T_2052b5f2_1782_11ec_8c99_eb609ab9287erow3_col2\" class=\"data row3 col2\" >Manchester City</td>\n",
       "                        <td id=\"T_2052b5f2_1782_11ec_8c99_eb609ab9287erow3_col3\" class=\"data row3 col3\" >Belgium</td>\n",
       "            </tr>\n",
       "            <tr>\n",
       "                        <th id=\"T_2052b5f2_1782_11ec_8c99_eb609ab9287elevel0_row4\" class=\"row_heading level0 row4\" >6</th>\n",
       "                        <td id=\"T_2052b5f2_1782_11ec_8c99_eb609ab9287erow4_col0\" class=\"data row4 col0\" >E. Hazard</td>\n",
       "                        <td id=\"T_2052b5f2_1782_11ec_8c99_eb609ab9287erow4_col1\" class=\"data row4 col1\" >27</td>\n",
       "                        <td id=\"T_2052b5f2_1782_11ec_8c99_eb609ab9287erow4_col2\" class=\"data row4 col2\" >Chelsea</td>\n",
       "                        <td id=\"T_2052b5f2_1782_11ec_8c99_eb609ab9287erow4_col3\" class=\"data row4 col3\" >Belgium</td>\n",
       "            </tr>\n",
       "            <tr>\n",
       "                        <th id=\"T_2052b5f2_1782_11ec_8c99_eb609ab9287elevel0_row5\" class=\"row_heading level0 row5\" >7</th>\n",
       "                        <td id=\"T_2052b5f2_1782_11ec_8c99_eb609ab9287erow5_col0\" class=\"data row5 col0\" >L. Modrić</td>\n",
       "                        <td id=\"T_2052b5f2_1782_11ec_8c99_eb609ab9287erow5_col1\" class=\"data row5 col1\" >32</td>\n",
       "                        <td id=\"T_2052b5f2_1782_11ec_8c99_eb609ab9287erow5_col2\" class=\"data row5 col2\" >Real Madrid</td>\n",
       "                        <td id=\"T_2052b5f2_1782_11ec_8c99_eb609ab9287erow5_col3\" class=\"data row5 col3\" >Croatia</td>\n",
       "            </tr>\n",
       "            <tr>\n",
       "                        <th id=\"T_2052b5f2_1782_11ec_8c99_eb609ab9287elevel0_row6\" class=\"row_heading level0 row6\" >8</th>\n",
       "                        <td id=\"T_2052b5f2_1782_11ec_8c99_eb609ab9287erow6_col0\" class=\"data row6 col0\" >L. Suárez</td>\n",
       "                        <td id=\"T_2052b5f2_1782_11ec_8c99_eb609ab9287erow6_col1\" class=\"data row6 col1\" >31</td>\n",
       "                        <td id=\"T_2052b5f2_1782_11ec_8c99_eb609ab9287erow6_col2\" class=\"data row6 col2\" >FC Barcelona</td>\n",
       "                        <td id=\"T_2052b5f2_1782_11ec_8c99_eb609ab9287erow6_col3\" class=\"data row6 col3\" >Uruguay</td>\n",
       "            </tr>\n",
       "            <tr>\n",
       "                        <th id=\"T_2052b5f2_1782_11ec_8c99_eb609ab9287elevel0_row7\" class=\"row_heading level0 row7\" >9</th>\n",
       "                        <td id=\"T_2052b5f2_1782_11ec_8c99_eb609ab9287erow7_col0\" class=\"data row7 col0\" >Sergio Ramos</td>\n",
       "                        <td id=\"T_2052b5f2_1782_11ec_8c99_eb609ab9287erow7_col1\" class=\"data row7 col1\" >32</td>\n",
       "                        <td id=\"T_2052b5f2_1782_11ec_8c99_eb609ab9287erow7_col2\" class=\"data row7 col2\" >Real Madrid</td>\n",
       "                        <td id=\"T_2052b5f2_1782_11ec_8c99_eb609ab9287erow7_col3\" class=\"data row7 col3\" >Spain</td>\n",
       "            </tr>\n",
       "            <tr>\n",
       "                        <th id=\"T_2052b5f2_1782_11ec_8c99_eb609ab9287elevel0_row8\" class=\"row_heading level0 row8\" >10</th>\n",
       "                        <td id=\"T_2052b5f2_1782_11ec_8c99_eb609ab9287erow8_col0\" class=\"data row8 col0\" >J. Oblak</td>\n",
       "                        <td id=\"T_2052b5f2_1782_11ec_8c99_eb609ab9287erow8_col1\" class=\"data row8 col1\" >25</td>\n",
       "                        <td id=\"T_2052b5f2_1782_11ec_8c99_eb609ab9287erow8_col2\" class=\"data row8 col2\" >Atlético Madrid</td>\n",
       "                        <td id=\"T_2052b5f2_1782_11ec_8c99_eb609ab9287erow8_col3\" class=\"data row8 col3\" >Slovenia</td>\n",
       "            </tr>\n",
       "            <tr>\n",
       "                        <th id=\"T_2052b5f2_1782_11ec_8c99_eb609ab9287elevel0_row9\" class=\"row_heading level0 row9\" >11</th>\n",
       "                        <td id=\"T_2052b5f2_1782_11ec_8c99_eb609ab9287erow9_col0\" class=\"data row9 col0\" >R. Lewandowski</td>\n",
       "                        <td id=\"T_2052b5f2_1782_11ec_8c99_eb609ab9287erow9_col1\" class=\"data row9 col1\" >29</td>\n",
       "                        <td id=\"T_2052b5f2_1782_11ec_8c99_eb609ab9287erow9_col2\" class=\"data row9 col2\" >FC Bayern München</td>\n",
       "                        <td id=\"T_2052b5f2_1782_11ec_8c99_eb609ab9287erow9_col3\" class=\"data row9 col3\" >Poland</td>\n",
       "            </tr>\n",
       "    </tbody></table>"
      ],
      "text/plain": [
       "<pandas.io.formats.style.Styler at 0x22d7db894c0>"
      ]
     },
     "execution_count": 53,
     "metadata": {},
     "output_type": "execute_result"
    }
   ],
   "source": [
    "fifa[fifa[\"Preferred Foot\"]==\"Right\"][[\"Name\",\"Age\",\"Club\",\"Nationality\"]].head(10).style.background_gradient(\"copper\")"
   ]
  },
  {
   "cell_type": "markdown",
   "metadata": {},
   "source": [
    "#### <a href=\"#Points\">Back To Top</a>"
   ]
  },
  {
   "cell_type": "markdown",
   "metadata": {
    "id": "vr2v-XYSJN4X"
   },
   "source": [
    "## Creating Function to check the players Details"
   ]
  },
  {
   "cell_type": "code",
   "execution_count": 54,
   "metadata": {
    "colab": {
     "base_uri": "https://localhost:8080/"
    },
    "id": "kW-Ro4EF61gl",
    "outputId": "30fd9724-94da-4644-a6c9-82f604c28524"
   },
   "outputs": [
    {
     "name": "stdout",
     "output_type": "stream",
     "text": [
      "                                                                      2\n",
      "ID                                                                20801\n",
      "Name                                                  Cristiano Ronaldo\n",
      "Age                                                                  33\n",
      "Photo                     https://cdn.sofifa.org/players/4/19/20801.png\n",
      "Nationality                                                    Portugal\n",
      "Flag                                https://cdn.sofifa.org/flags/38.png\n",
      "Overall                                                              94\n",
      "Potential                                                            94\n",
      "Club                                                           Juventus\n",
      "Club Logo                   https://cdn.sofifa.org/teams/2/light/45.png\n",
      "Value                                                           7.7e+08\n",
      "Wage                                                             405000\n",
      "Special                                                            2228\n",
      "Preferred Foot                                                    Right\n",
      "International Reputation                                              5\n",
      "Weak Foot                                                             4\n",
      "Skill Moves                                                           5\n",
      "Work Rate                                                     High/ Low\n",
      "Body Type                                                    C. Ronaldo\n",
      "Real Face                                                           Yes\n",
      "Position                                                             ST\n",
      "Jersey Number                                                         7\n",
      "Joined                                                     Jul 10, 2018\n",
      "Loaned From                                                        None\n",
      "Contract Valid Until                                               2022\n",
      "Height                                                              6'2\n",
      "Weight                                                              183\n",
      "LS                                                                 91+3\n",
      "ST                                                                 91+3\n",
      "RS                                                                 91+3\n",
      "LW                                                                 89+3\n",
      "LF                                                                 90+3\n",
      "CF                                                                 90+3\n",
      "RF                                                                 90+3\n",
      "RW                                                                 89+3\n",
      "LAM                                                                88+3\n",
      "CAM                                                                88+3\n",
      "RAM                                                                88+3\n",
      "LM                                                                 88+3\n",
      "LCM                                                                81+3\n",
      "CM                                                                 81+3\n",
      "RCM                                                                81+3\n",
      "RM                                                                 88+3\n",
      "LWB                                                                65+3\n",
      "LDM                                                                61+3\n",
      "CDM                                                                61+3\n",
      "RDM                                                                61+3\n",
      "RWB                                                                65+3\n",
      "LB                                                                 61+3\n",
      "LCB                                                                53+3\n",
      "CB                                                                 53+3\n",
      "RCB                                                                53+3\n",
      "RB                                                                 61+3\n",
      "Crossing                                                             84\n",
      "Finishing                                                            94\n",
      "HeadingAccuracy                                                      89\n",
      "ShortPassing                                                         81\n",
      "Volleys                                                              87\n",
      "Dribbling                                                            88\n",
      "Curve                                                                81\n",
      "FKAccuracy                                                           76\n",
      "LongPassing                                                          77\n",
      "BallControl                                                          94\n",
      "Acceleration                                                         89\n",
      "SprintSpeed                                                          91\n",
      "Agility                                                              87\n",
      "Reactions                                                            96\n",
      "Balance                                                              70\n",
      "ShotPower                                                            95\n",
      "Jumping                                                              95\n",
      "Stamina                                                              88\n",
      "Strength                                                             79\n",
      "LongShots                                                            93\n",
      "Aggression                                                           63\n",
      "Interceptions                                                        29\n",
      "Positioning                                                          95\n",
      "Vision                                                               82\n",
      "Penalties                                                            85\n",
      "Composure                                                            95\n",
      "Marking                                                              28\n",
      "StandingTackle                                                       31\n",
      "SlidingTackle                                                        23\n",
      "GKDiving                                                              7\n",
      "GKHandling                                                           11\n",
      "GKKicking                                                            15\n",
      "GKPositioning                                                        14\n",
      "GKReflexes                                                           11\n",
      "Release Clause                                                  €127.1M\n"
     ]
    }
   ],
   "source": [
    "def Player_details(x): #(x) - (insert player ID)\n",
    "  return fifa.loc[x,:]\n",
    "\n",
    "x = Player_details(2)\n",
    "pd.set_option(\"display.max_rows\",200)  \n",
    "x = pd.DataFrame(x)\n",
    "print(x)"
   ]
  },
  {
   "cell_type": "markdown",
   "metadata": {
    "id": "9DTNKtZrPxrJ"
   },
   "source": [
    "#### <a href=\"#Points\">Back To Top</a>"
   ]
  },
  {
   "cell_type": "markdown",
   "metadata": {},
   "source": [
    "---\n",
    "# <font color=orange>***Thank You***</font>\n",
    "---"
   ]
  },
  {
   "cell_type": "code",
   "execution_count": null,
   "metadata": {},
   "outputs": [],
   "source": []
  }
 ],
 "metadata": {
  "colab": {
   "collapsed_sections": [],
   "name": "FIFA DATA",
   "provenance": []
  },
  "kernelspec": {
   "display_name": "Python 3",
   "language": "python",
   "name": "python3"
  },
  "language_info": {
   "codemirror_mode": {
    "name": "ipython",
    "version": 3
   },
   "file_extension": ".py",
   "mimetype": "text/x-python",
   "name": "python",
   "nbconvert_exporter": "python",
   "pygments_lexer": "ipython3",
   "version": "3.8.5"
  }
 },
 "nbformat": 4,
 "nbformat_minor": 1
}
